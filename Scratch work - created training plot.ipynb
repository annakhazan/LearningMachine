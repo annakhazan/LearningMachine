{
 "cells": [
  {
   "cell_type": "code",
   "execution_count": 5,
   "metadata": {},
   "outputs": [
    {
     "data": {
      "text/html": [
       "<style>.container { width:100% !important; }</style>"
      ],
      "text/plain": [
       "<IPython.core.display.HTML object>"
      ]
     },
     "metadata": {},
     "output_type": "display_data"
    }
   ],
   "source": [
    "import numpy as np\n",
    "import pandas as pd\n",
    "import pickle\n",
    "\n",
    "import seaborn as sns\n",
    "import xgboost as xgb\n",
    "import feature_eng_function as f_eng\n",
    "from datetime import datetime\n",
    "from matplotlib import pyplot as plt\n",
    "from PCA_function import pca_data100\n",
    "from IPython.core.display import display, HTML\n",
    "from sklearn import ensemble\n",
    "from sklearn.ensemble import RandomForestClassifier\n",
    "from sklearn.ensemble import ExtraTreesClassifier\n",
    "from sklearn.metrics import accuracy_score\n",
    "from sklearn.cross_validation import train_test_split\n",
    "from sklearn.model_selection import cross_val_score\n",
    "from sklearn.model_selection import GridSearchCV\n",
    "\n",
    "%matplotlib inline\n",
    "display(HTML(\"<style>.container { width:100% !important; }</style>\"))"
   ]
  },
  {
   "cell_type": "code",
   "execution_count": 23,
   "metadata": {},
   "outputs": [],
   "source": [
    "forest = pd.read_csv(\"data/train.csv\", index_col=0)\n",
    "forest_eng = pd.read_csv(\"data/train_eng.csv\", index_col=0)\n",
    "forest_100 = pd.read_csv(\"data/train_100.csv\", index_col=0)\n",
    "forest_100_test = pd.read_csv(\"\")\n",
    "\n",
    "data = forest.values\n",
    "X_kaggle = data[:,0:(-1)]\n",
    "y_train = data[:,-1]\n",
    "\n",
    "data = forest_eng.values\n",
    "X_base = data[:,0:(-1)]\n",
    "y_train = data[:,-1]\n",
    "\n",
    "data = forest_100.values\n",
    "X_100 = data[:,0:(-1)]\n",
    "y_train = data[:,-1]\n",
    "\n",
    "X_train_k, X_val_k, y_train_k, y_val_k = train_test_split(X_kaggle, y_train, test_size=0.2, random_state=0)\n",
    "X_train_100, X_val_100, y_train_100, y_val_100 = train_test_split(X_100, y_train, test_size=0.2, random_state=0)\n",
    "X_train_base, X_val_base, y_train_base, y_val_base = train_test_split(X_base, y_train, test_size=0.2, random_state=0)"
   ]
  },
  {
   "cell_type": "code",
   "execution_count": 52,
   "metadata": {},
   "outputs": [
    {
     "name": "stdout",
     "output_type": "stream",
     "text": [
      "Total time: 126 sec\n",
      "Mean Accuracy: 0.865578\n"
     ]
    }
   ],
   "source": [
    "t1 = datetime.now()\n",
    "clf = RandomForestClassifier(n_estimators=1000, max_depth=None, max_features='log2', min_samples_split=3, random_state=0)\n",
    "scores = cross_val_score(clf, X_train_100, y_train_100, cv=5, scoring='accuracy')\n",
    "scores.mean() \n",
    "t2 = datetime.now()\n",
    "print (\"Total time: %i sec\" %(t2-t1).seconds)\n",
    "print (\"Mean Accuracy: %f\" %(scores.mean()))"
   ]
  },
  {
   "cell_type": "code",
   "execution_count": null,
   "metadata": {
    "collapsed": true
   },
   "outputs": [],
   "source": [
    "clf.predict(X_test_100)"
   ]
  },
  {
   "cell_type": "code",
   "execution_count": 53,
   "metadata": {},
   "outputs": [
    {
     "name": "stdout",
     "output_type": "stream",
     "text": [
      "[0]\tvalidation_0-merror:0.305804\tvalidation_1-merror:0.320106\n",
      "[1]\tvalidation_0-merror:0.304233\tvalidation_1-merror:0.320106\n",
      "[2]\tvalidation_0-merror:0.304233\tvalidation_1-merror:0.321759\n",
      "[3]\tvalidation_0-merror:0.300843\tvalidation_1-merror:0.317791\n",
      "[4]\tvalidation_0-merror:0.293899\tvalidation_1-merror:0.305556\n",
      "[5]\tvalidation_0-merror:0.295883\tvalidation_1-merror:0.307209\n",
      "[6]\tvalidation_0-merror:0.29084\tvalidation_1-merror:0.307209\n",
      "[7]\tvalidation_0-merror:0.28621\tvalidation_1-merror:0.302249\n",
      "[8]\tvalidation_0-merror:0.288442\tvalidation_1-merror:0.303241\n",
      "[9]\tvalidation_0-merror:0.286376\tvalidation_1-merror:0.301587\n",
      "[10]\tvalidation_0-merror:0.283813\tvalidation_1-merror:0.302579\n",
      "[11]\tvalidation_0-merror:0.281829\tvalidation_1-merror:0.299272\n",
      "[12]\tvalidation_0-merror:0.280589\tvalidation_1-merror:0.296958\n",
      "[13]\tvalidation_0-merror:0.278108\tvalidation_1-merror:0.295966\n",
      "[14]\tvalidation_0-merror:0.276951\tvalidation_1-merror:0.293981\n",
      "[15]\tvalidation_0-merror:0.271743\tvalidation_1-merror:0.288029\n",
      "[16]\tvalidation_0-merror:0.270585\tvalidation_1-merror:0.284722\n",
      "[17]\tvalidation_0-merror:0.270337\tvalidation_1-merror:0.287037\n",
      "[18]\tvalidation_0-merror:0.269263\tvalidation_1-merror:0.285053\n",
      "[19]\tvalidation_0-merror:0.268684\tvalidation_1-merror:0.284392\n",
      "[20]\tvalidation_0-merror:0.263476\tvalidation_1-merror:0.280423\n",
      "[21]\tvalidation_0-merror:0.263476\tvalidation_1-merror:0.280754\n",
      "[22]\tvalidation_0-merror:0.261574\tvalidation_1-merror:0.280423\n",
      "[23]\tvalidation_0-merror:0.26083\tvalidation_1-merror:0.279101\n",
      "[24]\tvalidation_0-merror:0.257937\tvalidation_1-merror:0.277447\n",
      "[25]\tvalidation_0-merror:0.25587\tvalidation_1-merror:0.276455\n",
      "[26]\tvalidation_0-merror:0.255456\tvalidation_1-merror:0.276786\n",
      "[27]\tvalidation_0-merror:0.251571\tvalidation_1-merror:0.274471\n",
      "[28]\tvalidation_0-merror:0.25\tvalidation_1-merror:0.270833\n",
      "[29]\tvalidation_0-merror:0.246776\tvalidation_1-merror:0.268519\n",
      "[30]\tvalidation_0-merror:0.246858\tvalidation_1-merror:0.267196\n",
      "[31]\tvalidation_0-merror:0.245288\tvalidation_1-merror:0.261243\n",
      "[32]\tvalidation_0-merror:0.242808\tvalidation_1-merror:0.260582\n",
      "[33]\tvalidation_0-merror:0.24256\tvalidation_1-merror:0.25959\n",
      "[34]\tvalidation_0-merror:0.241815\tvalidation_1-merror:0.257606\n",
      "[35]\tvalidation_0-merror:0.240989\tvalidation_1-merror:0.257275\n",
      "[36]\tvalidation_0-merror:0.240989\tvalidation_1-merror:0.259921\n",
      "[37]\tvalidation_0-merror:0.238839\tvalidation_1-merror:0.258267\n",
      "[38]\tvalidation_0-merror:0.237269\tvalidation_1-merror:0.257606\n",
      "[39]\tvalidation_0-merror:0.236938\tvalidation_1-merror:0.256944\n",
      "[40]\tvalidation_0-merror:0.236276\tvalidation_1-merror:0.25959\n",
      "[41]\tvalidation_0-merror:0.235367\tvalidation_1-merror:0.257275\n",
      "[42]\tvalidation_0-merror:0.23421\tvalidation_1-merror:0.256944\n",
      "[43]\tvalidation_0-merror:0.232639\tvalidation_1-merror:0.25959\n",
      "[44]\tvalidation_0-merror:0.232722\tvalidation_1-merror:0.257606\n",
      "[45]\tvalidation_0-merror:0.231895\tvalidation_1-merror:0.258598\n",
      "[46]\tvalidation_0-merror:0.232226\tvalidation_1-merror:0.257937\n",
      "[47]\tvalidation_0-merror:0.231564\tvalidation_1-merror:0.256614\n",
      "[48]\tvalidation_0-merror:0.230489\tvalidation_1-merror:0.257937\n",
      "[49]\tvalidation_0-merror:0.229332\tvalidation_1-merror:0.259259\n",
      "[50]\tvalidation_0-merror:0.229167\tvalidation_1-merror:0.257937\n",
      "[51]\tvalidation_0-merror:0.228175\tvalidation_1-merror:0.257275\n",
      "[52]\tvalidation_0-merror:0.226356\tvalidation_1-merror:0.256283\n",
      "[53]\tvalidation_0-merror:0.224702\tvalidation_1-merror:0.254299\n",
      "[54]\tvalidation_0-merror:0.223628\tvalidation_1-merror:0.253638\n",
      "[55]\tvalidation_0-merror:0.222884\tvalidation_1-merror:0.251653\n",
      "[56]\tvalidation_0-merror:0.222553\tvalidation_1-merror:0.25\n",
      "[57]\tvalidation_0-merror:0.221065\tvalidation_1-merror:0.25\n",
      "[58]\tvalidation_0-merror:0.219907\tvalidation_1-merror:0.249339\n",
      "[59]\tvalidation_0-merror:0.218833\tvalidation_1-merror:0.248677\n",
      "[60]\tvalidation_0-merror:0.216849\tvalidation_1-merror:0.247685\n",
      "[61]\tvalidation_0-merror:0.216187\tvalidation_1-merror:0.247685\n",
      "[62]\tvalidation_0-merror:0.215608\tvalidation_1-merror:0.25\n",
      "[63]\tvalidation_0-merror:0.214534\tvalidation_1-merror:0.25\n",
      "[64]\tvalidation_0-merror:0.213459\tvalidation_1-merror:0.250661\n",
      "[65]\tvalidation_0-merror:0.212302\tvalidation_1-merror:0.247354\n",
      "[66]\tvalidation_0-merror:0.211227\tvalidation_1-merror:0.247024\n",
      "[67]\tvalidation_0-merror:0.210731\tvalidation_1-merror:0.24504\n",
      "[68]\tvalidation_0-merror:0.210235\tvalidation_1-merror:0.244709\n",
      "[69]\tvalidation_0-merror:0.20916\tvalidation_1-merror:0.243386\n",
      "[70]\tvalidation_0-merror:0.207341\tvalidation_1-merror:0.242725\n",
      "[71]\tvalidation_0-merror:0.207093\tvalidation_1-merror:0.243717\n",
      "[72]\tvalidation_0-merror:0.20668\tvalidation_1-merror:0.242063\n",
      "[73]\tvalidation_0-merror:0.205274\tvalidation_1-merror:0.241402\n",
      "[74]\tvalidation_0-merror:0.204613\tvalidation_1-merror:0.241733\n",
      "[75]\tvalidation_0-merror:0.203456\tvalidation_1-merror:0.241733\n",
      "[76]\tvalidation_0-merror:0.200976\tvalidation_1-merror:0.24041\n",
      "[77]\tvalidation_0-merror:0.199983\tvalidation_1-merror:0.239418\n",
      "[78]\tvalidation_0-merror:0.197834\tvalidation_1-merror:0.237103\n",
      "[79]\tvalidation_0-merror:0.19709\tvalidation_1-merror:0.236772\n",
      "[80]\tvalidation_0-merror:0.195602\tvalidation_1-merror:0.234788\n",
      "[81]\tvalidation_0-merror:0.19494\tvalidation_1-merror:0.234458\n",
      "[82]\tvalidation_0-merror:0.193866\tvalidation_1-merror:0.233135\n",
      "[83]\tvalidation_0-merror:0.193039\tvalidation_1-merror:0.234127\n",
      "[84]\tvalidation_0-merror:0.19213\tvalidation_1-merror:0.234788\n",
      "[85]\tvalidation_0-merror:0.191716\tvalidation_1-merror:0.234127\n",
      "[86]\tvalidation_0-merror:0.190642\tvalidation_1-merror:0.23545\n",
      "[87]\tvalidation_0-merror:0.189732\tvalidation_1-merror:0.23545\n",
      "[88]\tvalidation_0-merror:0.188657\tvalidation_1-merror:0.234788\n",
      "[89]\tvalidation_0-merror:0.187913\tvalidation_1-merror:0.232804\n",
      "[90]\tvalidation_0-merror:0.187417\tvalidation_1-merror:0.231812\n",
      "[91]\tvalidation_0-merror:0.186425\tvalidation_1-merror:0.232143\n",
      "[92]\tvalidation_0-merror:0.184606\tvalidation_1-merror:0.231151\n",
      "[93]\tvalidation_0-merror:0.18378\tvalidation_1-merror:0.229167\n",
      "[94]\tvalidation_0-merror:0.183862\tvalidation_1-merror:0.228505\n",
      "[95]\tvalidation_0-merror:0.18254\tvalidation_1-merror:0.229828\n",
      "[96]\tvalidation_0-merror:0.181217\tvalidation_1-merror:0.228505\n",
      "[97]\tvalidation_0-merror:0.181217\tvalidation_1-merror:0.226852\n",
      "[98]\tvalidation_0-merror:0.1813\tvalidation_1-merror:0.22619\n",
      "[99]\tvalidation_0-merror:0.180721\tvalidation_1-merror:0.22619\n",
      "Total time: 27 sec\n",
      "accuracy:77.380952\n"
     ]
    }
   ],
   "source": [
    "t1 = datetime.now()\n",
    "clf_xgb = xgb.XGBClassifier(seed=0,objective='multi:softmax', silent=True)\n",
    "clf_xgb.fit(X_train_100, y_train_100, eval_metric='merror', eval_set=[(X_train_100, y_train_100),(X_val_100, y_val_100)], verbose=True)\n",
    "clf_xgb_pred = clf_xgb.predict(X_val_100)\n",
    "clf_xgb_accuracy = accuracy_score(y_val_100, clf_xgb_pred);\n",
    "t2 = datetime.now()\n",
    "print (\"Total time: %i sec\" %(t2-t1).seconds)\n",
    "print ('accuracy:%f'%(clf_xgb_accuracy*100))"
   ]
  },
  {
   "cell_type": "code",
   "execution_count": 54,
   "metadata": {},
   "outputs": [
    {
     "data": {
      "image/png": "[encoded data removed]",
      "text/plain": [
       "<matplotlib.figure.Figure at 0x1180aad68>"
      ]
     },
     "metadata": {},
     "output_type": "display_data"
    }
   ],
   "source": [
    "#predictions = [round(value) for value in clf_xgb_pred]\n",
    "clf_xgb_accuracy = accuracy_score(y_val_100, clf_xgb_pred)\n",
    "results = clf_xgb.evals_result()\n",
    "epochs = len(results['validation_0']['merror'])\n",
    "x_axis = range(0, epochs)\n",
    "y_axis = np.linspace(0,max(max(results['validation_0']['merror']),max(results['validation_1']['merror'])))\n",
    "\n",
    "# plot classification error\n",
    "fig, ax = plt.subplots()\n",
    "ax.plot(x_axis, results['validation_0']['merror'], label='Train')\n",
    "ax.plot(x_axis, results['validation_1']['merror'], label='Test')\n",
    "ax.legend()\n",
    "plt.ylim(0,max(max(results['validation_0']['merror']),max(results['validation_1']['merror']))+.1)\n",
    "plt.ylabel('Classification Error')\n",
    "plt.title('XGBoost Classification Error')\n",
    "plt.savefig('xgb_training_defaults.png')\n",
    "plt.show()"
   ]
  },
  {
   "cell_type": "code",
   "execution_count": null,
   "metadata": {
    "collapsed": true
   },
   "outputs": [],
   "source": []
  }
 ],
 "metadata": {
  "anaconda-cloud": {},
  "kernelspec": {
   "display_name": "Python [py36]",
   "language": "python",
   "name": "Python [py36]"
  }
 },
 "nbformat": 4,
 "nbformat_minor": 1
}
