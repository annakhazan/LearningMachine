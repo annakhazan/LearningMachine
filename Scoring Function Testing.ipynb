{
 "cells": [
  {
   "cell_type": "code",
   "execution_count": 2,
   "metadata": {
    "collapsed": true
   },
   "outputs": [],
   "source": [
    "import pandas as pd\n",
    "import numpy as np"
   ]
  },
  {
   "cell_type": "code",
   "execution_count": 7,
   "metadata": {
    "collapsed": false
   },
   "outputs": [],
   "source": [
    "conf_matrix= np.array([[0, 5, 1, 7, 3, 2, 10],\n",
    "         [30, 0, 20, 1, 6, 10, 1],\n",
    "         [3, 4, 0, 6, 2, 1, 8],\n",
    "         [40, 5, 30, 0, 10, 20, 1],\n",
    "         [12, 2, 8, 3, 0, 1, 4],\n",
    "         [6, 2, 3, 4, 1, 0, 6],\n",
    "         [50, 3, 40, 1, 20, 30, 0]])"
   ]
  },
  {
   "cell_type": "code",
   "execution_count": 8,
   "metadata": {
    "collapsed": false
   },
   "outputs": [
    {
     "data": {
      "text/plain": [
       "array([[ 0,  5,  1,  7,  3,  2, 10],\n",
       "       [30,  0, 20,  1,  6, 10,  1],\n",
       "       [ 3,  4,  0,  6,  2,  1,  8],\n",
       "       [40,  5, 30,  0, 10, 20,  1],\n",
       "       [12,  2,  8,  3,  0,  1,  4],\n",
       "       [ 6,  2,  3,  4,  1,  0,  6],\n",
       "       [50,  3, 40,  1, 20, 30,  0]])"
      ]
     },
     "execution_count": 8,
     "metadata": {},
     "output_type": "execute_result"
    }
   ],
   "source": [
    "conf_matrix"
   ]
  },
  {
   "cell_type": "code",
   "execution_count": 15,
   "metadata": {
    "collapsed": true
   },
   "outputs": [],
   "source": [
    "test_input_x = [1, 4, 5, 6, 3, 2, 4, 2, 3, 2, 3, 4, 5, 1]\n",
    "test_input_y = [1, 4, 5, 6, 3, 2, 4, 2, 3, 2, 3, 4, 5, 1]\n",
    "test_input_y2 = [4, 5, 6, 3, 2, 4, 2, 3, 2, 3, 4, 5, 1, 3]"
   ]
  },
  {
   "cell_type": "code",
   "execution_count": 16,
   "metadata": {
    "collapsed": true
   },
   "outputs": [],
   "source": [
    "true_conf = np.array([[0, 0, 0, 0, 0, 0, 0],\n",
    "    [0, 0, 0, 0, 0, 0, 0],\n",
    "    [0, 0, 0, 0, 0, 0, 0],\n",
    "    [0, 0, 0, 0, 0, 0, 0],\n",
    "    [0, 0, 0, 0, 0, 0, 0],\n",
    "    [0, 0, 0, 0, 0, 0, 0],\n",
    "    [0, 0, 0, 0, 0, 0, 0]])"
   ]
  },
  {
   "cell_type": "code",
   "execution_count": 17,
   "metadata": {
    "collapsed": true
   },
   "outputs": [],
   "source": [
    "for i in range(len(test_input_x)):\n",
    "    true_conf[test_input_x[i]][test_input_y2[i]]+=1"
   ]
  },
  {
   "cell_type": "code",
   "execution_count": 18,
   "metadata": {
    "collapsed": false
   },
   "outputs": [],
   "source": [
    "score=0\n",
    "for i in range(7):\n",
    "    for j in range(7):\n",
    "        score=score + (true_conf[i][j]*conf_matrix[i][j])"
   ]
  },
  {
   "cell_type": "code",
   "execution_count": 19,
   "metadata": {
    "collapsed": false
   },
   "outputs": [
    {
     "data": {
      "text/plain": [
       "110"
      ]
     },
     "execution_count": 19,
     "metadata": {},
     "output_type": "execute_result"
    }
   ],
   "source": [
    "score"
   ]
  },
  {
   "cell_type": "code",
   "execution_count": null,
   "metadata": {
    "collapsed": true
   },
   "outputs": [],
   "source": []
  },
  {
   "cell_type": "code",
   "execution_count": null,
   "metadata": {
    "collapsed": true
   },
   "outputs": [],
   "source": []
  }
 ],
 "metadata": {
  "kernelspec": {
   "display_name": "Python 3",
   "language": "python",
   "name": "python3"
  },
  "language_info": {
   "codemirror_mode": {
    "name": "ipython",
    "version": 3
   },
   "file_extension": ".py",
   "mimetype": "text/x-python",
   "name": "python",
   "nbconvert_exporter": "python",
   "pygments_lexer": "ipython3",
   "version": "3.6.0"
  }
 },
 "nbformat": 4,
 "nbformat_minor": 2
}
