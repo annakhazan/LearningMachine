{
 "cells": [
  {
   "cell_type": "markdown",
   "metadata": {},
   "source": [
    "# Baseline Algorithms for Forest Cover Type Predictions\n",
    "\n",
    "\n",
    "Data source: https://www.kaggle.com/c/forest-cover-type-prediction"
   ]
  },
  {
   "cell_type": "code",
   "execution_count": 1,
   "metadata": {},
   "outputs": [
    {
     "name": "stderr",
     "output_type": "stream",
     "text": [
      "//anaconda/envs/py36/lib/python3.6/site-packages/sklearn/cross_validation.py:44: DeprecationWarning: This module was deprecated in version 0.18 in favor of the model_selection module into which all the refactored classes and functions are moved. Also note that the interface of the new CV iterators are different from that of this module. This module will be removed in 0.20.\n",
      "  \"This module will be removed in 0.20.\", DeprecationWarning)\n"
     ]
    },
    {
     "data": {
      "text/html": [
       "<style>.container { width:100% !important; }</style>"
      ],
      "text/plain": [
       "<IPython.core.display.HTML object>"
      ]
     },
     "metadata": {},
     "output_type": "display_data"
    }
   ],
   "source": [
    "import numpy as np\n",
    "import pandas as pd\n",
    "import pickle\n",
    "\n",
    "import seaborn as sns\n",
    "import xgboost as xgb\n",
    "import feature_eng_function as f_eng\n",
    "from datetime import datetime\n",
    "from matplotlib import pyplot as plt\n",
    "from PCA_function import pca_data100\n",
    "from IPython.core.display import display, HTML\n",
    "from sklearn import ensemble\n",
    "from sklearn.ensemble import RandomForestClassifier\n",
    "from sklearn.ensemble import ExtraTreesClassifier\n",
    "from sklearn.metrics import accuracy_score\n",
    "from sklearn.cross_validation import train_test_split\n",
    "from sklearn.model_selection import GridSearchCV\n",
    "\n",
    "%matplotlib inline\n",
    "display(HTML(\"<style>.container { width:100% !important; }</style>\"))"
   ]
  },
  {
   "cell_type": "markdown",
   "metadata": {},
   "source": [
    "## Load Data and create base data set"
   ]
  },
  {
   "cell_type": "code",
   "execution_count": 2,
   "metadata": {},
   "outputs": [
    {
     "data": {
      "text/html": [
       "<div>\n",
       "<table border=\"1\" class=\"dataframe\">\n",
       "  <thead>\n",
       "    <tr style=\"text-align: right;\">\n",
       "      <th></th>\n",
       "      <th>Elevation</th>\n",
       "      <th>Aspect</th>\n",
       "      <th>Slope</th>\n",
       "      <th>Horizontal_Distance_To_Hydrology</th>\n",
       "      <th>Vertical_Distance_To_Hydrology</th>\n",
       "      <th>Horizontal_Distance_To_Roadways</th>\n",
       "      <th>Hillshade_9am</th>\n",
       "      <th>Hillshade_Noon</th>\n",
       "      <th>Hillshade_3pm</th>\n",
       "      <th>Horizontal_Distance_To_Fire_Points</th>\n",
       "      <th>...</th>\n",
       "      <th>Soil_Type32</th>\n",
       "      <th>Soil_Type33</th>\n",
       "      <th>Soil_Type34</th>\n",
       "      <th>Soil_Type35</th>\n",
       "      <th>Soil_Type36</th>\n",
       "      <th>Soil_Type37</th>\n",
       "      <th>Soil_Type38</th>\n",
       "      <th>Soil_Type39</th>\n",
       "      <th>Soil_Type40</th>\n",
       "      <th>Cover_Type</th>\n",
       "    </tr>\n",
       "    <tr>\n",
       "      <th>Id</th>\n",
       "      <th></th>\n",
       "      <th></th>\n",
       "      <th></th>\n",
       "      <th></th>\n",
       "      <th></th>\n",
       "      <th></th>\n",
       "      <th></th>\n",
       "      <th></th>\n",
       "      <th></th>\n",
       "      <th></th>\n",
       "      <th></th>\n",
       "      <th></th>\n",
       "      <th></th>\n",
       "      <th></th>\n",
       "      <th></th>\n",
       "      <th></th>\n",
       "      <th></th>\n",
       "      <th></th>\n",
       "      <th></th>\n",
       "      <th></th>\n",
       "      <th></th>\n",
       "    </tr>\n",
       "  </thead>\n",
       "  <tbody>\n",
       "    <tr>\n",
       "      <th>1</th>\n",
       "      <td>2596</td>\n",
       "      <td>51</td>\n",
       "      <td>3</td>\n",
       "      <td>258</td>\n",
       "      <td>0</td>\n",
       "      <td>510</td>\n",
       "      <td>221</td>\n",
       "      <td>232</td>\n",
       "      <td>148</td>\n",
       "      <td>6279</td>\n",
       "      <td>...</td>\n",
       "      <td>0</td>\n",
       "      <td>0</td>\n",
       "      <td>0</td>\n",
       "      <td>0</td>\n",
       "      <td>0</td>\n",
       "      <td>0</td>\n",
       "      <td>0</td>\n",
       "      <td>0</td>\n",
       "      <td>0</td>\n",
       "      <td>5</td>\n",
       "    </tr>\n",
       "    <tr>\n",
       "      <th>2</th>\n",
       "      <td>2590</td>\n",
       "      <td>56</td>\n",
       "      <td>2</td>\n",
       "      <td>212</td>\n",
       "      <td>-6</td>\n",
       "      <td>390</td>\n",
       "      <td>220</td>\n",
       "      <td>235</td>\n",
       "      <td>151</td>\n",
       "      <td>6225</td>\n",
       "      <td>...</td>\n",
       "      <td>0</td>\n",
       "      <td>0</td>\n",
       "      <td>0</td>\n",
       "      <td>0</td>\n",
       "      <td>0</td>\n",
       "      <td>0</td>\n",
       "      <td>0</td>\n",
       "      <td>0</td>\n",
       "      <td>0</td>\n",
       "      <td>5</td>\n",
       "    </tr>\n",
       "    <tr>\n",
       "      <th>3</th>\n",
       "      <td>2804</td>\n",
       "      <td>139</td>\n",
       "      <td>9</td>\n",
       "      <td>268</td>\n",
       "      <td>65</td>\n",
       "      <td>3180</td>\n",
       "      <td>234</td>\n",
       "      <td>238</td>\n",
       "      <td>135</td>\n",
       "      <td>6121</td>\n",
       "      <td>...</td>\n",
       "      <td>0</td>\n",
       "      <td>0</td>\n",
       "      <td>0</td>\n",
       "      <td>0</td>\n",
       "      <td>0</td>\n",
       "      <td>0</td>\n",
       "      <td>0</td>\n",
       "      <td>0</td>\n",
       "      <td>0</td>\n",
       "      <td>2</td>\n",
       "    </tr>\n",
       "    <tr>\n",
       "      <th>4</th>\n",
       "      <td>2785</td>\n",
       "      <td>155</td>\n",
       "      <td>18</td>\n",
       "      <td>242</td>\n",
       "      <td>118</td>\n",
       "      <td>3090</td>\n",
       "      <td>238</td>\n",
       "      <td>238</td>\n",
       "      <td>122</td>\n",
       "      <td>6211</td>\n",
       "      <td>...</td>\n",
       "      <td>0</td>\n",
       "      <td>0</td>\n",
       "      <td>0</td>\n",
       "      <td>0</td>\n",
       "      <td>0</td>\n",
       "      <td>0</td>\n",
       "      <td>0</td>\n",
       "      <td>0</td>\n",
       "      <td>0</td>\n",
       "      <td>2</td>\n",
       "    </tr>\n",
       "    <tr>\n",
       "      <th>5</th>\n",
       "      <td>2595</td>\n",
       "      <td>45</td>\n",
       "      <td>2</td>\n",
       "      <td>153</td>\n",
       "      <td>-1</td>\n",
       "      <td>391</td>\n",
       "      <td>220</td>\n",
       "      <td>234</td>\n",
       "      <td>150</td>\n",
       "      <td>6172</td>\n",
       "      <td>...</td>\n",
       "      <td>0</td>\n",
       "      <td>0</td>\n",
       "      <td>0</td>\n",
       "      <td>0</td>\n",
       "      <td>0</td>\n",
       "      <td>0</td>\n",
       "      <td>0</td>\n",
       "      <td>0</td>\n",
       "      <td>0</td>\n",
       "      <td>5</td>\n",
       "    </tr>\n",
       "  </tbody>\n",
       "</table>\n",
       "<p>5 rows × 55 columns</p>\n",
       "</div>"
      ],
      "text/plain": [
       "    Elevation  Aspect  Slope  Horizontal_Distance_To_Hydrology  \\\n",
       "Id                                                               \n",
       "1        2596      51      3                               258   \n",
       "2        2590      56      2                               212   \n",
       "3        2804     139      9                               268   \n",
       "4        2785     155     18                               242   \n",
       "5        2595      45      2                               153   \n",
       "\n",
       "    Vertical_Distance_To_Hydrology  Horizontal_Distance_To_Roadways  \\\n",
       "Id                                                                    \n",
       "1                                0                              510   \n",
       "2                               -6                              390   \n",
       "3                               65                             3180   \n",
       "4                              118                             3090   \n",
       "5                               -1                              391   \n",
       "\n",
       "    Hillshade_9am  Hillshade_Noon  Hillshade_3pm  \\\n",
       "Id                                                 \n",
       "1             221             232            148   \n",
       "2             220             235            151   \n",
       "3             234             238            135   \n",
       "4             238             238            122   \n",
       "5             220             234            150   \n",
       "\n",
       "    Horizontal_Distance_To_Fire_Points     ...      Soil_Type32  Soil_Type33  \\\n",
       "Id                                         ...                                 \n",
       "1                                 6279     ...                0            0   \n",
       "2                                 6225     ...                0            0   \n",
       "3                                 6121     ...                0            0   \n",
       "4                                 6211     ...                0            0   \n",
       "5                                 6172     ...                0            0   \n",
       "\n",
       "    Soil_Type34  Soil_Type35  Soil_Type36  Soil_Type37  Soil_Type38  \\\n",
       "Id                                                                    \n",
       "1             0            0            0            0            0   \n",
       "2             0            0            0            0            0   \n",
       "3             0            0            0            0            0   \n",
       "4             0            0            0            0            0   \n",
       "5             0            0            0            0            0   \n",
       "\n",
       "    Soil_Type39  Soil_Type40  Cover_Type  \n",
       "Id                                        \n",
       "1             0            0           5  \n",
       "2             0            0           5  \n",
       "3             0            0           2  \n",
       "4             0            0           2  \n",
       "5             0            0           5  \n",
       "\n",
       "[5 rows x 55 columns]"
      ]
     },
     "execution_count": 2,
     "metadata": {},
     "output_type": "execute_result"
    }
   ],
   "source": [
    "forest = pd.read_csv(\"data/train.csv\", index_col=0)\n",
    "forest.head()"
   ]
  },
  {
   "cell_type": "code",
   "execution_count": 3,
   "metadata": {},
   "outputs": [
    {
     "data": {
      "text/plain": [
       "((15120, 54), (15120,))"
      ]
     },
     "execution_count": 3,
     "metadata": {},
     "output_type": "execute_result"
    }
   ],
   "source": [
    "data = forest.values\n",
    "X_kaggle = data[:,0:(-1)]\n",
    "y_train = data[:,-1]\n",
    "X_kaggle.shape, y_train.shape"
   ]
  },
  {
   "cell_type": "markdown",
   "metadata": {},
   "source": [
    "## Feature Engineering"
   ]
  },
  {
   "cell_type": "code",
   "execution_count": 4,
   "metadata": {
    "collapsed": true
   },
   "outputs": [],
   "source": [
    "forest_eng = pd.read_csv(\"data/train_eng.csv\", index_col=0)"
   ]
  },
  {
   "cell_type": "code",
   "execution_count": 5,
   "metadata": {
    "scrolled": true
   },
   "outputs": [
    {
     "data": {
      "text/html": [
       "<div>\n",
       "<table border=\"1\" class=\"dataframe\">\n",
       "  <thead>\n",
       "    <tr style=\"text-align: right;\">\n",
       "      <th></th>\n",
       "      <th>Elevation</th>\n",
       "      <th>Aspect</th>\n",
       "      <th>Slope</th>\n",
       "      <th>Horizontal_Distance_To_Hydrology</th>\n",
       "      <th>Vertical_Distance_To_Hydrology</th>\n",
       "      <th>Horizontal_Distance_To_Roadways</th>\n",
       "      <th>Hillshade_9am</th>\n",
       "      <th>Hillshade_Noon</th>\n",
       "      <th>Hillshade_3pm</th>\n",
       "      <th>Horizontal_Distance_To_Fire_Points</th>\n",
       "      <th>...</th>\n",
       "      <th>Soil_Type32</th>\n",
       "      <th>Soil_Type33</th>\n",
       "      <th>Soil_Type34</th>\n",
       "      <th>Soil_Type35</th>\n",
       "      <th>Soil_Type36</th>\n",
       "      <th>Soil_Type37</th>\n",
       "      <th>Soil_Type38</th>\n",
       "      <th>Soil_Type39</th>\n",
       "      <th>Soil_Type40</th>\n",
       "      <th>Cover_Type</th>\n",
       "    </tr>\n",
       "    <tr>\n",
       "      <th>Id</th>\n",
       "      <th></th>\n",
       "      <th></th>\n",
       "      <th></th>\n",
       "      <th></th>\n",
       "      <th></th>\n",
       "      <th></th>\n",
       "      <th></th>\n",
       "      <th></th>\n",
       "      <th></th>\n",
       "      <th></th>\n",
       "      <th></th>\n",
       "      <th></th>\n",
       "      <th></th>\n",
       "      <th></th>\n",
       "      <th></th>\n",
       "      <th></th>\n",
       "      <th></th>\n",
       "      <th></th>\n",
       "      <th></th>\n",
       "      <th></th>\n",
       "      <th></th>\n",
       "    </tr>\n",
       "  </thead>\n",
       "  <tbody>\n",
       "    <tr>\n",
       "      <th>1</th>\n",
       "      <td>2596</td>\n",
       "      <td>51</td>\n",
       "      <td>3</td>\n",
       "      <td>258</td>\n",
       "      <td>0</td>\n",
       "      <td>510</td>\n",
       "      <td>221</td>\n",
       "      <td>232</td>\n",
       "      <td>148</td>\n",
       "      <td>6279</td>\n",
       "      <td>...</td>\n",
       "      <td>0</td>\n",
       "      <td>0</td>\n",
       "      <td>0</td>\n",
       "      <td>0</td>\n",
       "      <td>0</td>\n",
       "      <td>0</td>\n",
       "      <td>0</td>\n",
       "      <td>0</td>\n",
       "      <td>0</td>\n",
       "      <td>5</td>\n",
       "    </tr>\n",
       "    <tr>\n",
       "      <th>2</th>\n",
       "      <td>2590</td>\n",
       "      <td>56</td>\n",
       "      <td>2</td>\n",
       "      <td>212</td>\n",
       "      <td>-6</td>\n",
       "      <td>390</td>\n",
       "      <td>220</td>\n",
       "      <td>235</td>\n",
       "      <td>151</td>\n",
       "      <td>6225</td>\n",
       "      <td>...</td>\n",
       "      <td>0</td>\n",
       "      <td>0</td>\n",
       "      <td>0</td>\n",
       "      <td>0</td>\n",
       "      <td>0</td>\n",
       "      <td>0</td>\n",
       "      <td>0</td>\n",
       "      <td>0</td>\n",
       "      <td>0</td>\n",
       "      <td>5</td>\n",
       "    </tr>\n",
       "    <tr>\n",
       "      <th>3</th>\n",
       "      <td>2804</td>\n",
       "      <td>139</td>\n",
       "      <td>9</td>\n",
       "      <td>268</td>\n",
       "      <td>65</td>\n",
       "      <td>3180</td>\n",
       "      <td>234</td>\n",
       "      <td>238</td>\n",
       "      <td>135</td>\n",
       "      <td>6121</td>\n",
       "      <td>...</td>\n",
       "      <td>0</td>\n",
       "      <td>0</td>\n",
       "      <td>0</td>\n",
       "      <td>0</td>\n",
       "      <td>0</td>\n",
       "      <td>0</td>\n",
       "      <td>0</td>\n",
       "      <td>0</td>\n",
       "      <td>0</td>\n",
       "      <td>2</td>\n",
       "    </tr>\n",
       "    <tr>\n",
       "      <th>4</th>\n",
       "      <td>2785</td>\n",
       "      <td>155</td>\n",
       "      <td>18</td>\n",
       "      <td>242</td>\n",
       "      <td>118</td>\n",
       "      <td>3090</td>\n",
       "      <td>238</td>\n",
       "      <td>238</td>\n",
       "      <td>122</td>\n",
       "      <td>6211</td>\n",
       "      <td>...</td>\n",
       "      <td>0</td>\n",
       "      <td>0</td>\n",
       "      <td>0</td>\n",
       "      <td>0</td>\n",
       "      <td>0</td>\n",
       "      <td>0</td>\n",
       "      <td>0</td>\n",
       "      <td>0</td>\n",
       "      <td>0</td>\n",
       "      <td>2</td>\n",
       "    </tr>\n",
       "    <tr>\n",
       "      <th>5</th>\n",
       "      <td>2595</td>\n",
       "      <td>45</td>\n",
       "      <td>2</td>\n",
       "      <td>153</td>\n",
       "      <td>-1</td>\n",
       "      <td>391</td>\n",
       "      <td>220</td>\n",
       "      <td>234</td>\n",
       "      <td>150</td>\n",
       "      <td>6172</td>\n",
       "      <td>...</td>\n",
       "      <td>0</td>\n",
       "      <td>0</td>\n",
       "      <td>0</td>\n",
       "      <td>0</td>\n",
       "      <td>0</td>\n",
       "      <td>0</td>\n",
       "      <td>0</td>\n",
       "      <td>0</td>\n",
       "      <td>0</td>\n",
       "      <td>5</td>\n",
       "    </tr>\n",
       "  </tbody>\n",
       "</table>\n",
       "<p>5 rows × 96 columns</p>\n",
       "</div>"
      ],
      "text/plain": [
       "    Elevation  Aspect  Slope  Horizontal_Distance_To_Hydrology  \\\n",
       "Id                                                               \n",
       "1        2596      51      3                               258   \n",
       "2        2590      56      2                               212   \n",
       "3        2804     139      9                               268   \n",
       "4        2785     155     18                               242   \n",
       "5        2595      45      2                               153   \n",
       "\n",
       "    Vertical_Distance_To_Hydrology  Horizontal_Distance_To_Roadways  \\\n",
       "Id                                                                    \n",
       "1                                0                              510   \n",
       "2                               -6                              390   \n",
       "3                               65                             3180   \n",
       "4                              118                             3090   \n",
       "5                               -1                              391   \n",
       "\n",
       "    Hillshade_9am  Hillshade_Noon  Hillshade_3pm  \\\n",
       "Id                                                 \n",
       "1             221             232            148   \n",
       "2             220             235            151   \n",
       "3             234             238            135   \n",
       "4             238             238            122   \n",
       "5             220             234            150   \n",
       "\n",
       "    Horizontal_Distance_To_Fire_Points     ...      Soil_Type32  Soil_Type33  \\\n",
       "Id                                         ...                                 \n",
       "1                                 6279     ...                0            0   \n",
       "2                                 6225     ...                0            0   \n",
       "3                                 6121     ...                0            0   \n",
       "4                                 6211     ...                0            0   \n",
       "5                                 6172     ...                0            0   \n",
       "\n",
       "    Soil_Type34  Soil_Type35  Soil_Type36  Soil_Type37  Soil_Type38  \\\n",
       "Id                                                                    \n",
       "1             0            0            0            0            0   \n",
       "2             0            0            0            0            0   \n",
       "3             0            0            0            0            0   \n",
       "4             0            0            0            0            0   \n",
       "5             0            0            0            0            0   \n",
       "\n",
       "    Soil_Type39  Soil_Type40  Cover_Type  \n",
       "Id                                        \n",
       "1             0            0           5  \n",
       "2             0            0           5  \n",
       "3             0            0           2  \n",
       "4             0            0           2  \n",
       "5             0            0           5  \n",
       "\n",
       "[5 rows x 96 columns]"
      ]
     },
     "execution_count": 5,
     "metadata": {},
     "output_type": "execute_result"
    }
   ],
   "source": [
    "forest_eng.head()"
   ]
  },
  {
   "cell_type": "code",
   "execution_count": 6,
   "metadata": {},
   "outputs": [
    {
     "data": {
      "text/plain": [
       "((15120, 95), (15120,))"
      ]
     },
     "execution_count": 6,
     "metadata": {},
     "output_type": "execute_result"
    }
   ],
   "source": [
    "data = forest_eng.values\n",
    "X_base = data[:,0:(-1)]\n",
    "y_train = data[:,-1]\n",
    "X_base.shape, y_train.shape"
   ]
  },
  {
   "cell_type": "markdown",
   "metadata": {},
   "source": [
    "## Import the top 100 feature set data for testing"
   ]
  },
  {
   "cell_type": "code",
   "execution_count": 7,
   "metadata": {
    "scrolled": true
   },
   "outputs": [
    {
     "data": {
      "text/html": [
       "<div>\n",
       "<table border=\"1\" class=\"dataframe\">\n",
       "  <thead>\n",
       "    <tr style=\"text-align: right;\">\n",
       "      <th></th>\n",
       "      <th>Elevation</th>\n",
       "      <th>Horizontal_Distance_To_Hydrology_Hillshade_3pm</th>\n",
       "      <th>Horizontal_Distance_To_Roadways_Horizontal_Distance_To_Fire_Points</th>\n",
       "      <th>Horizontal_Distance_To_Roadways_Aspect2</th>\n",
       "      <th>Hillshade_9am_Hillshade_Noon</th>\n",
       "      <th>Elevation_Elevation_3100_8000</th>\n",
       "      <th>Elevation_3100_8000_Elevation</th>\n",
       "      <th>Horizontal_Distance_To_Fire_Points_Horizontal_Distance_To_Roadways</th>\n",
       "      <th>Slope_Horizontal_Distance_To_Roadways</th>\n",
       "      <th>Slope_Horizontal_Distance_To_Fire_Points</th>\n",
       "      <th>...</th>\n",
       "      <th>Soil_Type39_Hillshade_9am</th>\n",
       "      <th>Wilderness_Area4_Elevation</th>\n",
       "      <th>Very Stony_Elevation</th>\n",
       "      <th>Wilderness_Area4_Hillshade_Noon</th>\n",
       "      <th>Outcrop_Horizontal_Distance_To_Roadways</th>\n",
       "      <th>Aspect2_Vanet</th>\n",
       "      <th>Rock_Elevation</th>\n",
       "      <th>Soil_Type32_Horizontal_Distance_To_Roadways</th>\n",
       "      <th>Horizontal_Distance_To_Roadways_Wilderness_Area4</th>\n",
       "      <th>Cover_Type</th>\n",
       "    </tr>\n",
       "    <tr>\n",
       "      <th>Id</th>\n",
       "      <th></th>\n",
       "      <th></th>\n",
       "      <th></th>\n",
       "      <th></th>\n",
       "      <th></th>\n",
       "      <th></th>\n",
       "      <th></th>\n",
       "      <th></th>\n",
       "      <th></th>\n",
       "      <th></th>\n",
       "      <th></th>\n",
       "      <th></th>\n",
       "      <th></th>\n",
       "      <th></th>\n",
       "      <th></th>\n",
       "      <th></th>\n",
       "      <th></th>\n",
       "      <th></th>\n",
       "      <th></th>\n",
       "      <th></th>\n",
       "      <th></th>\n",
       "    </tr>\n",
       "  </thead>\n",
       "  <tbody>\n",
       "    <tr>\n",
       "      <th>1</th>\n",
       "      <td>2596</td>\n",
       "      <td>38184</td>\n",
       "      <td>3202290</td>\n",
       "      <td>26010</td>\n",
       "      <td>51272</td>\n",
       "      <td>0</td>\n",
       "      <td>0</td>\n",
       "      <td>3202290</td>\n",
       "      <td>1530</td>\n",
       "      <td>18837</td>\n",
       "      <td>...</td>\n",
       "      <td>0</td>\n",
       "      <td>0</td>\n",
       "      <td>0.0</td>\n",
       "      <td>0</td>\n",
       "      <td>510.0</td>\n",
       "      <td>0.0</td>\n",
       "      <td>2596.0</td>\n",
       "      <td>0</td>\n",
       "      <td>0</td>\n",
       "      <td>5</td>\n",
       "    </tr>\n",
       "    <tr>\n",
       "      <th>2</th>\n",
       "      <td>2590</td>\n",
       "      <td>32012</td>\n",
       "      <td>2427750</td>\n",
       "      <td>21840</td>\n",
       "      <td>51700</td>\n",
       "      <td>0</td>\n",
       "      <td>0</td>\n",
       "      <td>2427750</td>\n",
       "      <td>780</td>\n",
       "      <td>12450</td>\n",
       "      <td>...</td>\n",
       "      <td>0</td>\n",
       "      <td>0</td>\n",
       "      <td>0.0</td>\n",
       "      <td>0</td>\n",
       "      <td>390.0</td>\n",
       "      <td>0.0</td>\n",
       "      <td>2590.0</td>\n",
       "      <td>0</td>\n",
       "      <td>0</td>\n",
       "      <td>5</td>\n",
       "    </tr>\n",
       "    <tr>\n",
       "      <th>3</th>\n",
       "      <td>2804</td>\n",
       "      <td>36180</td>\n",
       "      <td>19464780</td>\n",
       "      <td>442020</td>\n",
       "      <td>55692</td>\n",
       "      <td>0</td>\n",
       "      <td>0</td>\n",
       "      <td>19464780</td>\n",
       "      <td>28620</td>\n",
       "      <td>55089</td>\n",
       "      <td>...</td>\n",
       "      <td>0</td>\n",
       "      <td>0</td>\n",
       "      <td>0.0</td>\n",
       "      <td>0</td>\n",
       "      <td>0.0</td>\n",
       "      <td>0.0</td>\n",
       "      <td>0.0</td>\n",
       "      <td>0</td>\n",
       "      <td>0</td>\n",
       "      <td>2</td>\n",
       "    </tr>\n",
       "    <tr>\n",
       "      <th>4</th>\n",
       "      <td>2785</td>\n",
       "      <td>29524</td>\n",
       "      <td>19191990</td>\n",
       "      <td>478950</td>\n",
       "      <td>56644</td>\n",
       "      <td>0</td>\n",
       "      <td>0</td>\n",
       "      <td>19191990</td>\n",
       "      <td>55620</td>\n",
       "      <td>111798</td>\n",
       "      <td>...</td>\n",
       "      <td>0</td>\n",
       "      <td>0</td>\n",
       "      <td>0.0</td>\n",
       "      <td>0</td>\n",
       "      <td>0.0</td>\n",
       "      <td>0.0</td>\n",
       "      <td>0.0</td>\n",
       "      <td>0</td>\n",
       "      <td>0</td>\n",
       "      <td>2</td>\n",
       "    </tr>\n",
       "    <tr>\n",
       "      <th>5</th>\n",
       "      <td>2595</td>\n",
       "      <td>22950</td>\n",
       "      <td>2413252</td>\n",
       "      <td>17595</td>\n",
       "      <td>51480</td>\n",
       "      <td>0</td>\n",
       "      <td>0</td>\n",
       "      <td>2413252</td>\n",
       "      <td>782</td>\n",
       "      <td>12344</td>\n",
       "      <td>...</td>\n",
       "      <td>0</td>\n",
       "      <td>0</td>\n",
       "      <td>0.0</td>\n",
       "      <td>0</td>\n",
       "      <td>391.0</td>\n",
       "      <td>0.0</td>\n",
       "      <td>2595.0</td>\n",
       "      <td>0</td>\n",
       "      <td>0</td>\n",
       "      <td>5</td>\n",
       "    </tr>\n",
       "  </tbody>\n",
       "</table>\n",
       "<p>5 rows × 101 columns</p>\n",
       "</div>"
      ],
      "text/plain": [
       "    Elevation  Horizontal_Distance_To_Hydrology_Hillshade_3pm  \\\n",
       "Id                                                              \n",
       "1        2596                                           38184   \n",
       "2        2590                                           32012   \n",
       "3        2804                                           36180   \n",
       "4        2785                                           29524   \n",
       "5        2595                                           22950   \n",
       "\n",
       "    Horizontal_Distance_To_Roadways_Horizontal_Distance_To_Fire_Points  \\\n",
       "Id                                                                       \n",
       "1                                             3202290                    \n",
       "2                                             2427750                    \n",
       "3                                            19464780                    \n",
       "4                                            19191990                    \n",
       "5                                             2413252                    \n",
       "\n",
       "    Horizontal_Distance_To_Roadways_Aspect2  Hillshade_9am_Hillshade_Noon  \\\n",
       "Id                                                                          \n",
       "1                                     26010                         51272   \n",
       "2                                     21840                         51700   \n",
       "3                                    442020                         55692   \n",
       "4                                    478950                         56644   \n",
       "5                                     17595                         51480   \n",
       "\n",
       "    Elevation_Elevation_3100_8000  Elevation_3100_8000_Elevation  \\\n",
       "Id                                                                 \n",
       "1                               0                              0   \n",
       "2                               0                              0   \n",
       "3                               0                              0   \n",
       "4                               0                              0   \n",
       "5                               0                              0   \n",
       "\n",
       "    Horizontal_Distance_To_Fire_Points_Horizontal_Distance_To_Roadways  \\\n",
       "Id                                                                       \n",
       "1                                             3202290                    \n",
       "2                                             2427750                    \n",
       "3                                            19464780                    \n",
       "4                                            19191990                    \n",
       "5                                             2413252                    \n",
       "\n",
       "    Slope_Horizontal_Distance_To_Roadways  \\\n",
       "Id                                          \n",
       "1                                    1530   \n",
       "2                                     780   \n",
       "3                                   28620   \n",
       "4                                   55620   \n",
       "5                                     782   \n",
       "\n",
       "    Slope_Horizontal_Distance_To_Fire_Points     ...      \\\n",
       "Id                                               ...       \n",
       "1                                      18837     ...       \n",
       "2                                      12450     ...       \n",
       "3                                      55089     ...       \n",
       "4                                     111798     ...       \n",
       "5                                      12344     ...       \n",
       "\n",
       "    Soil_Type39_Hillshade_9am  Wilderness_Area4_Elevation  \\\n",
       "Id                                                          \n",
       "1                           0                           0   \n",
       "2                           0                           0   \n",
       "3                           0                           0   \n",
       "4                           0                           0   \n",
       "5                           0                           0   \n",
       "\n",
       "    Very Stony_Elevation  Wilderness_Area4_Hillshade_Noon  \\\n",
       "Id                                                          \n",
       "1                    0.0                                0   \n",
       "2                    0.0                                0   \n",
       "3                    0.0                                0   \n",
       "4                    0.0                                0   \n",
       "5                    0.0                                0   \n",
       "\n",
       "    Outcrop_Horizontal_Distance_To_Roadways  Aspect2_Vanet  Rock_Elevation  \\\n",
       "Id                                                                           \n",
       "1                                     510.0            0.0          2596.0   \n",
       "2                                     390.0            0.0          2590.0   \n",
       "3                                       0.0            0.0             0.0   \n",
       "4                                       0.0            0.0             0.0   \n",
       "5                                     391.0            0.0          2595.0   \n",
       "\n",
       "    Soil_Type32_Horizontal_Distance_To_Roadways  \\\n",
       "Id                                                \n",
       "1                                             0   \n",
       "2                                             0   \n",
       "3                                             0   \n",
       "4                                             0   \n",
       "5                                             0   \n",
       "\n",
       "    Horizontal_Distance_To_Roadways_Wilderness_Area4  Cover_Type  \n",
       "Id                                                                \n",
       "1                                                  0           5  \n",
       "2                                                  0           5  \n",
       "3                                                  0           2  \n",
       "4                                                  0           2  \n",
       "5                                                  0           5  \n",
       "\n",
       "[5 rows x 101 columns]"
      ]
     },
     "execution_count": 7,
     "metadata": {},
     "output_type": "execute_result"
    }
   ],
   "source": [
    "forest_100 = pd.read_csv(\"data/train_100.csv\", index_col=0)\n",
    "forest_100.head()"
   ]
  },
  {
   "cell_type": "code",
   "execution_count": 8,
   "metadata": {},
   "outputs": [
    {
     "data": {
      "text/plain": [
       "((15120, 100), (15120,))"
      ]
     },
     "execution_count": 8,
     "metadata": {},
     "output_type": "execute_result"
    }
   ],
   "source": [
    "data = forest_100.values\n",
    "X_100 = data[:,0:(-1)]\n",
    "y_train = data[:,-1]\n",
    "X_100.shape, y_train.shape"
   ]
  },
  {
   "cell_type": "markdown",
   "metadata": {},
   "source": [
    "## Run XGBoost in Grid Search across a broad range of parameters for each data set"
   ]
  },
  {
   "cell_type": "code",
   "execution_count": 9,
   "metadata": {
    "collapsed": true
   },
   "outputs": [],
   "source": [
    "models = []"
   ]
  },
  {
   "cell_type": "code",
   "execution_count": 10,
   "metadata": {},
   "outputs": [
    {
     "name": "stdout",
     "output_type": "stream",
     "text": [
      "[0]\tvalidation_0-merror:0.385185\n",
      "Will train until validation_0-merror hasn't improved in 50 rounds.\n",
      "[1]\tvalidation_0-merror:0.34418\n",
      "[2]\tvalidation_0-merror:0.344974\n",
      "[3]\tvalidation_0-merror:0.340212\n",
      "[4]\tvalidation_0-merror:0.340741\n",
      "[5]\tvalidation_0-merror:0.337831\n",
      "[6]\tvalidation_0-merror:0.337037\n",
      "[7]\tvalidation_0-merror:0.336243\n",
      "[8]\tvalidation_0-merror:0.337302\n",
      "[9]\tvalidation_0-merror:0.330423\n",
      "[10]\tvalidation_0-merror:0.328836\n",
      "[11]\tvalidation_0-merror:0.324603\n",
      "[12]\tvalidation_0-merror:0.32328\n",
      "[13]\tvalidation_0-merror:0.318519\n",
      "[14]\tvalidation_0-merror:0.313492\n",
      "[15]\tvalidation_0-merror:0.315608\n",
      "[16]\tvalidation_0-merror:0.314286\n",
      "[17]\tvalidation_0-merror:0.310847\n",
      "[18]\tvalidation_0-merror:0.311111\n",
      "[19]\tvalidation_0-merror:0.310582\n",
      "[20]\tvalidation_0-merror:0.308201\n",
      "[21]\tvalidation_0-merror:0.303175\n",
      "[22]\tvalidation_0-merror:0.302116\n",
      "[23]\tvalidation_0-merror:0.301852\n",
      "[24]\tvalidation_0-merror:0.301852\n",
      "[25]\tvalidation_0-merror:0.299471\n",
      "[26]\tvalidation_0-merror:0.298148\n",
      "[27]\tvalidation_0-merror:0.297884\n",
      "[28]\tvalidation_0-merror:0.295767\n",
      "[29]\tvalidation_0-merror:0.295238\n",
      "[30]\tvalidation_0-merror:0.295767\n",
      "[31]\tvalidation_0-merror:0.295767\n",
      "[32]\tvalidation_0-merror:0.292328\n",
      "[33]\tvalidation_0-merror:0.292064\n",
      "[34]\tvalidation_0-merror:0.289418\n",
      "[35]\tvalidation_0-merror:0.28836\n",
      "[36]\tvalidation_0-merror:0.286508\n",
      "[37]\tvalidation_0-merror:0.286243\n",
      "[38]\tvalidation_0-merror:0.287037\n",
      "[39]\tvalidation_0-merror:0.285714\n",
      "[40]\tvalidation_0-merror:0.284392\n",
      "[41]\tvalidation_0-merror:0.284392\n",
      "[42]\tvalidation_0-merror:0.283333\n",
      "[43]\tvalidation_0-merror:0.282804\n",
      "[44]\tvalidation_0-merror:0.282011\n",
      "[45]\tvalidation_0-merror:0.282275\n",
      "[46]\tvalidation_0-merror:0.280952\n",
      "[47]\tvalidation_0-merror:0.27963\n",
      "[48]\tvalidation_0-merror:0.279894\n",
      "[49]\tvalidation_0-merror:0.278307\n",
      "[50]\tvalidation_0-merror:0.278042\n",
      "[51]\tvalidation_0-merror:0.278042\n",
      "[52]\tvalidation_0-merror:0.276455\n",
      "[53]\tvalidation_0-merror:0.275926\n",
      "[54]\tvalidation_0-merror:0.276455\n",
      "[55]\tvalidation_0-merror:0.275397\n",
      "[56]\tvalidation_0-merror:0.275661\n",
      "[57]\tvalidation_0-merror:0.27619\n",
      "[58]\tvalidation_0-merror:0.274074\n",
      "[59]\tvalidation_0-merror:0.272222\n",
      "[60]\tvalidation_0-merror:0.270635\n",
      "[61]\tvalidation_0-merror:0.269577\n",
      "[62]\tvalidation_0-merror:0.268254\n",
      "[63]\tvalidation_0-merror:0.267725\n",
      "[64]\tvalidation_0-merror:0.266931\n",
      "[65]\tvalidation_0-merror:0.267196\n",
      "[66]\tvalidation_0-merror:0.266402\n",
      "[67]\tvalidation_0-merror:0.265873\n",
      "[68]\tvalidation_0-merror:0.265344\n",
      "[69]\tvalidation_0-merror:0.264286\n",
      "[70]\tvalidation_0-merror:0.263228\n",
      "[71]\tvalidation_0-merror:0.263228\n",
      "[72]\tvalidation_0-merror:0.260847\n",
      "[73]\tvalidation_0-merror:0.259259\n",
      "[74]\tvalidation_0-merror:0.259259\n",
      "[75]\tvalidation_0-merror:0.257937\n",
      "[76]\tvalidation_0-merror:0.257143\n",
      "[77]\tvalidation_0-merror:0.258466\n",
      "[78]\tvalidation_0-merror:0.257143\n",
      "[79]\tvalidation_0-merror:0.256614\n",
      "[80]\tvalidation_0-merror:0.256349\n",
      "[81]\tvalidation_0-merror:0.255026\n",
      "[82]\tvalidation_0-merror:0.254762\n",
      "[83]\tvalidation_0-merror:0.254762\n",
      "[84]\tvalidation_0-merror:0.253704\n",
      "[85]\tvalidation_0-merror:0.252116\n",
      "[86]\tvalidation_0-merror:0.251852\n",
      "[87]\tvalidation_0-merror:0.251587\n",
      "[88]\tvalidation_0-merror:0.251323\n",
      "[89]\tvalidation_0-merror:0.251852\n",
      "[90]\tvalidation_0-merror:0.251587\n",
      "[91]\tvalidation_0-merror:0.251058\n",
      "[92]\tvalidation_0-merror:0.251323\n",
      "[93]\tvalidation_0-merror:0.250265\n",
      "[94]\tvalidation_0-merror:0.250529\n",
      "[95]\tvalidation_0-merror:0.248148\n",
      "[96]\tvalidation_0-merror:0.247354\n",
      "[97]\tvalidation_0-merror:0.245503\n",
      "[98]\tvalidation_0-merror:0.244974\n",
      "[99]\tvalidation_0-merror:0.244709\n"
     ]
    },
    {
     "data": {
      "text/plain": [
       "XGBClassifier(base_score=0.5, colsample_bylevel=1, colsample_bytree=1,\n",
       "       gamma=0, learning_rate=0.1, max_delta_step=0, max_depth=3,\n",
       "       min_child_weight=1, missing=None, n_estimators=100, nthread=-1,\n",
       "       objective='multi:softprob', reg_alpha=0, reg_lambda=1,\n",
       "       scale_pos_weight=1, seed=0, silent=True, subsample=1)"
      ]
     },
     "execution_count": 10,
     "metadata": {},
     "output_type": "execute_result"
    }
   ],
   "source": [
    "X_kaggle_train, X_kaggle_test, y_kaggle_train, y_kaggle_test = train_test_split(X_kaggle, y_train)\n",
    "optimized_kaggle_default_GBM = xgb.XGBClassifier(seed=0,objective='multi:softmax')\n",
    "optimized_kaggle_default_GBM.fit(X_kaggle_train, y_kaggle_train, early_stopping_rounds=50, eval_metric=\"merror\",\n",
    "    eval_set=[(X_kaggle_test, y_kaggle_test)])"
   ]
  },
  {
   "cell_type": "code",
   "execution_count": 11,
   "metadata": {},
   "outputs": [
    {
     "name": "stdout",
     "output_type": "stream",
     "text": [
      "accuracy:75.53%\n"
     ]
    }
   ],
   "source": [
    "optimized_kaggle_default_GBM_pred = optimized_kaggle_default_GBM.predict(X_kaggle_test)\n",
    "optimized_kaggle_default_GBM_accuracy = accuracy_score(y_kaggle_test, optimized_kaggle_default_GBM_pred);\n",
    "print ('accuracy:%0.2f%%'%(optimized_kaggle_default_GBM_accuracy*100))"
   ]
  },
  {
   "cell_type": "code",
   "execution_count": 61,
   "metadata": {},
   "outputs": [
    {
     "data": {
      "text/plain": [
       "[('optimized_kaggle_default_GBM',\n",
       "  XGBClassifier(base_score=0.5, colsample_bylevel=1, colsample_bytree=1,\n",
       "         gamma=0, learning_rate=0.1, max_delta_step=0, max_depth=3,\n",
       "         min_child_weight=1, missing=None, n_estimators=100, nthread=-1,\n",
       "         objective='multi:softprob', reg_alpha=0, reg_lambda=1,\n",
       "         scale_pos_weight=1, seed=0, silent=True, subsample=1))]"
      ]
     },
     "execution_count": 61,
     "metadata": {},
     "output_type": "execute_result"
    }
   ],
   "source": [
    "models.append(('optimized_kaggle_default_GBM',optimized_kaggle_default_GBM))\n",
    "models"
   ]
  },
  {
   "cell_type": "code",
   "execution_count": 16,
   "metadata": {},
   "outputs": [
    {
     "name": "stdout",
     "output_type": "stream",
     "text": [
      "Total time: 5317 sec\n"
     ]
    }
   ],
   "source": [
    "t1 = datetime.now()\n",
    "cv_params = {'max_depth': [1,3,5], 'min_child_weight': [1,3,5], 'learning_rate': [0.15, 0.1, 0.075, 0.05]}\n",
    "ind_params = {'n_estimators': 300, 'seed':0, 'subsample': 0.8, 'colsample_bytree': 0.8, \n",
    "             'objective': 'multi:softmax'}\n",
    "optimized_kaggle_cv5_GBM = GridSearchCV(xgb.XGBClassifier(**ind_params), cv_params, scoring = 'accuracy', cv = 5)\n",
    "optimized_kaggle_cv5_GBM.fit(X_kaggle, y_train)\n",
    "t2 = datetime.now()\n",
    "print (\"Total time: %i sec\" %(t2-t1).seconds)"
   ]
  },
  {
   "cell_type": "code",
   "execution_count": 62,
   "metadata": {
    "collapsed": true
   },
   "outputs": [],
   "source": [
    "models.append(('optimized_kaggle_cv5_GBM',optimized_kaggle_cv5_GBM))"
   ]
  },
  {
   "cell_type": "code",
   "execution_count": 18,
   "metadata": {
    "scrolled": false
   },
   "outputs": [
    {
     "name": "stderr",
     "output_type": "stream",
     "text": [
      "//anaconda/envs/py36/lib/python3.6/site-packages/sklearn/model_selection/_search.py:667: DeprecationWarning: The grid_scores_ attribute was deprecated in version 0.18 in favor of the more elaborate cv_results_ attribute. The grid_scores_ attribute will not be available from 0.20\n",
      "  DeprecationWarning)\n"
     ]
    },
    {
     "data": {
      "text/plain": [
       "[mean: 0.69061, std: 0.03408, params: {'learning_rate': 0.15, 'max_depth': 1, 'min_child_weight': 1},\n",
       " mean: 0.69061, std: 0.03355, params: {'learning_rate': 0.15, 'max_depth': 1, 'min_child_weight': 3},\n",
       " mean: 0.68909, std: 0.03482, params: {'learning_rate': 0.15, 'max_depth': 1, 'min_child_weight': 5},\n",
       " mean: 0.75099, std: 0.03659, params: {'learning_rate': 0.15, 'max_depth': 3, 'min_child_weight': 1},\n",
       " mean: 0.75218, std: 0.03708, params: {'learning_rate': 0.15, 'max_depth': 3, 'min_child_weight': 3},\n",
       " mean: 0.75073, std: 0.03496, params: {'learning_rate': 0.15, 'max_depth': 3, 'min_child_weight': 5},\n",
       " mean: 0.77864, std: 0.03479, params: {'learning_rate': 0.15, 'max_depth': 5, 'min_child_weight': 1},\n",
       " mean: 0.77447, std: 0.03964, params: {'learning_rate': 0.15, 'max_depth': 5, 'min_child_weight': 3},\n",
       " mean: 0.77282, std: 0.03644, params: {'learning_rate': 0.15, 'max_depth': 5, 'min_child_weight': 5},\n",
       " mean: 0.67870, std: 0.03251, params: {'learning_rate': 0.1, 'max_depth': 1, 'min_child_weight': 1},\n",
       " mean: 0.67910, std: 0.03197, params: {'learning_rate': 0.1, 'max_depth': 1, 'min_child_weight': 3},\n",
       " mean: 0.67705, std: 0.03427, params: {'learning_rate': 0.1, 'max_depth': 1, 'min_child_weight': 5},\n",
       " mean: 0.73915, std: 0.03856, params: {'learning_rate': 0.1, 'max_depth': 3, 'min_child_weight': 1},\n",
       " mean: 0.73664, std: 0.03763, params: {'learning_rate': 0.1, 'max_depth': 3, 'min_child_weight': 3},\n",
       " mean: 0.73710, std: 0.03865, params: {'learning_rate': 0.1, 'max_depth': 3, 'min_child_weight': 5},\n",
       " mean: 0.77282, std: 0.03772, params: {'learning_rate': 0.1, 'max_depth': 5, 'min_child_weight': 1},\n",
       " mean: 0.76892, std: 0.04123, params: {'learning_rate': 0.1, 'max_depth': 5, 'min_child_weight': 3},\n",
       " mean: 0.76640, std: 0.03813, params: {'learning_rate': 0.1, 'max_depth': 5, 'min_child_weight': 5},\n",
       " mean: 0.67176, std: 0.03179, params: {'learning_rate': 0.075, 'max_depth': 1, 'min_child_weight': 1},\n",
       " mean: 0.67163, std: 0.03218, params: {'learning_rate': 0.075, 'max_depth': 1, 'min_child_weight': 3},\n",
       " mean: 0.67077, std: 0.03273, params: {'learning_rate': 0.075, 'max_depth': 1, 'min_child_weight': 5},\n",
       " mean: 0.72996, std: 0.03751, params: {'learning_rate': 0.075, 'max_depth': 3, 'min_child_weight': 1},\n",
       " mean: 0.72698, std: 0.03774, params: {'learning_rate': 0.075, 'max_depth': 3, 'min_child_weight': 3},\n",
       " mean: 0.72738, std: 0.03600, params: {'learning_rate': 0.075, 'max_depth': 3, 'min_child_weight': 5},\n",
       " mean: 0.76726, std: 0.03955, params: {'learning_rate': 0.075, 'max_depth': 5, 'min_child_weight': 1},\n",
       " mean: 0.76250, std: 0.03961, params: {'learning_rate': 0.075, 'max_depth': 5, 'min_child_weight': 3},\n",
       " mean: 0.76071, std: 0.03954, params: {'learning_rate': 0.075, 'max_depth': 5, 'min_child_weight': 5},\n",
       " mean: 0.65899, std: 0.03505, params: {'learning_rate': 0.05, 'max_depth': 1, 'min_child_weight': 1},\n",
       " mean: 0.65873, std: 0.03546, params: {'learning_rate': 0.05, 'max_depth': 1, 'min_child_weight': 3},\n",
       " mean: 0.65899, std: 0.03536, params: {'learning_rate': 0.05, 'max_depth': 1, 'min_child_weight': 5},\n",
       " mean: 0.71925, std: 0.03576, params: {'learning_rate': 0.05, 'max_depth': 3, 'min_child_weight': 1},\n",
       " mean: 0.71720, std: 0.03618, params: {'learning_rate': 0.05, 'max_depth': 3, 'min_child_weight': 3},\n",
       " mean: 0.71601, std: 0.03738, params: {'learning_rate': 0.05, 'max_depth': 3, 'min_child_weight': 5},\n",
       " mean: 0.75344, std: 0.03886, params: {'learning_rate': 0.05, 'max_depth': 5, 'min_child_weight': 1},\n",
       " mean: 0.75172, std: 0.03845, params: {'learning_rate': 0.05, 'max_depth': 5, 'min_child_weight': 3},\n",
       " mean: 0.74821, std: 0.03939, params: {'learning_rate': 0.05, 'max_depth': 5, 'min_child_weight': 5}]"
      ]
     },
     "execution_count": 18,
     "metadata": {},
     "output_type": "execute_result"
    }
   ],
   "source": [
    "optimized_kaggle_cv5_GBM.grid_scores_"
   ]
  },
  {
   "cell_type": "code",
   "execution_count": 19,
   "metadata": {},
   "outputs": [
    {
     "name": "stdout",
     "output_type": "stream",
     "text": [
      "Total time: 5043 sec\n"
     ]
    }
   ],
   "source": [
    "t1 = datetime.now()\n",
    "cv_params = {'max_depth': [1,3,5], 'min_child_weight': [1,3,5], 'learning_rate': [0.15, 0.1, 0.075, 0.05]}\n",
    "ind_params = {'n_estimators': 300, 'seed':0, 'subsample': 0.8, 'colsample_bytree': 0.8, \n",
    "             'objective': 'multi:softmax'}\n",
    "optimized_kaggle_cv10_GBM = GridSearchCV(xgb.XGBClassifier(**ind_params), cv_params, scoring = 'accuracy', cv = 10, n_jobs = -1)\n",
    "optimized_kaggle_cv10_GBM.fit(X_kaggle, y_train)\n",
    "t2 = datetime.now()\n",
    "print (\"Total time: %i sec\" %(t2-t1).seconds)"
   ]
  },
  {
   "cell_type": "code",
   "execution_count": 63,
   "metadata": {
    "collapsed": true
   },
   "outputs": [],
   "source": [
    "models.append(('optimized_kaggle_cv10_GBM',optimized_kaggle_cv10_GBM))"
   ]
  },
  {
   "cell_type": "code",
   "execution_count": 21,
   "metadata": {},
   "outputs": [
    {
     "name": "stderr",
     "output_type": "stream",
     "text": [
      "//anaconda/envs/py36/lib/python3.6/site-packages/sklearn/model_selection/_search.py:667: DeprecationWarning: The grid_scores_ attribute was deprecated in version 0.18 in favor of the more elaborate cv_results_ attribute. The grid_scores_ attribute will not be available from 0.20\n",
      "  DeprecationWarning)\n"
     ]
    },
    {
     "data": {
      "text/plain": [
       "[mean: 0.69319, std: 0.03904, params: {'learning_rate': 0.15, 'max_depth': 1, 'min_child_weight': 1},\n",
       " mean: 0.69272, std: 0.03909, params: {'learning_rate': 0.15, 'max_depth': 1, 'min_child_weight': 3},\n",
       " mean: 0.69153, std: 0.04162, params: {'learning_rate': 0.15, 'max_depth': 1, 'min_child_weight': 5},\n",
       " mean: 0.75198, std: 0.04160, params: {'learning_rate': 0.15, 'max_depth': 3, 'min_child_weight': 1},\n",
       " mean: 0.75040, std: 0.04303, params: {'learning_rate': 0.15, 'max_depth': 3, 'min_child_weight': 3},\n",
       " mean: 0.74570, std: 0.04296, params: {'learning_rate': 0.15, 'max_depth': 3, 'min_child_weight': 5},\n",
       " mean: 0.77778, std: 0.03824, params: {'learning_rate': 0.15, 'max_depth': 5, 'min_child_weight': 1},\n",
       " mean: 0.77374, std: 0.04127, params: {'learning_rate': 0.15, 'max_depth': 5, 'min_child_weight': 3},\n",
       " mean: 0.76971, std: 0.04470, params: {'learning_rate': 0.15, 'max_depth': 5, 'min_child_weight': 5},\n",
       " mean: 0.68624, std: 0.03856, params: {'learning_rate': 0.1, 'max_depth': 1, 'min_child_weight': 1},\n",
       " mean: 0.68611, std: 0.03937, params: {'learning_rate': 0.1, 'max_depth': 1, 'min_child_weight': 3},\n",
       " mean: 0.68505, std: 0.04358, params: {'learning_rate': 0.1, 'max_depth': 1, 'min_child_weight': 5},\n",
       " mean: 0.74087, std: 0.04062, params: {'learning_rate': 0.1, 'max_depth': 3, 'min_child_weight': 1},\n",
       " mean: 0.73929, std: 0.04093, params: {'learning_rate': 0.1, 'max_depth': 3, 'min_child_weight': 3},\n",
       " mean: 0.73776, std: 0.04112, params: {'learning_rate': 0.1, 'max_depth': 3, 'min_child_weight': 5},\n",
       " mean: 0.77295, std: 0.04180, params: {'learning_rate': 0.1, 'max_depth': 5, 'min_child_weight': 1},\n",
       " mean: 0.76898, std: 0.04120, params: {'learning_rate': 0.1, 'max_depth': 5, 'min_child_weight': 3},\n",
       " mean: 0.76951, std: 0.04061, params: {'learning_rate': 0.1, 'max_depth': 5, 'min_child_weight': 5},\n",
       " mean: 0.67725, std: 0.04703, params: {'learning_rate': 0.075, 'max_depth': 1, 'min_child_weight': 1},\n",
       " mean: 0.67745, std: 0.04653, params: {'learning_rate': 0.075, 'max_depth': 1, 'min_child_weight': 3},\n",
       " mean: 0.67705, std: 0.04760, params: {'learning_rate': 0.075, 'max_depth': 1, 'min_child_weight': 5},\n",
       " mean: 0.73267, std: 0.03853, params: {'learning_rate': 0.075, 'max_depth': 3, 'min_child_weight': 1},\n",
       " mean: 0.73049, std: 0.03805, params: {'learning_rate': 0.075, 'max_depth': 3, 'min_child_weight': 3},\n",
       " mean: 0.72970, std: 0.04017, params: {'learning_rate': 0.075, 'max_depth': 3, 'min_child_weight': 5},\n",
       " mean: 0.76660, std: 0.04179, params: {'learning_rate': 0.075, 'max_depth': 5, 'min_child_weight': 1},\n",
       " mean: 0.76362, std: 0.04048, params: {'learning_rate': 0.075, 'max_depth': 5, 'min_child_weight': 3},\n",
       " mean: 0.76025, std: 0.04414, params: {'learning_rate': 0.075, 'max_depth': 5, 'min_child_weight': 5},\n",
       " mean: 0.66667, std: 0.05484, params: {'learning_rate': 0.05, 'max_depth': 1, 'min_child_weight': 1},\n",
       " mean: 0.66687, std: 0.05430, params: {'learning_rate': 0.05, 'max_depth': 1, 'min_child_weight': 3},\n",
       " mean: 0.66687, std: 0.05430, params: {'learning_rate': 0.05, 'max_depth': 1, 'min_child_weight': 5},\n",
       " mean: 0.72116, std: 0.03952, params: {'learning_rate': 0.05, 'max_depth': 3, 'min_child_weight': 1},\n",
       " mean: 0.71918, std: 0.03981, params: {'learning_rate': 0.05, 'max_depth': 3, 'min_child_weight': 3},\n",
       " mean: 0.71865, std: 0.04014, params: {'learning_rate': 0.05, 'max_depth': 3, 'min_child_weight': 5},\n",
       " mean: 0.75225, std: 0.04074, params: {'learning_rate': 0.05, 'max_depth': 5, 'min_child_weight': 1},\n",
       " mean: 0.74914, std: 0.04200, params: {'learning_rate': 0.05, 'max_depth': 5, 'min_child_weight': 3},\n",
       " mean: 0.74749, std: 0.04256, params: {'learning_rate': 0.05, 'max_depth': 5, 'min_child_weight': 5}]"
      ]
     },
     "execution_count": 21,
     "metadata": {},
     "output_type": "execute_result"
    }
   ],
   "source": [
    "optimized_kaggle_cv10_GBM.grid_scores_"
   ]
  },
  {
   "cell_type": "code",
   "execution_count": 22,
   "metadata": {},
   "outputs": [
    {
     "name": "stdout",
     "output_type": "stream",
     "text": [
      "[0]\tvalidation_0-merror:0.370106\n",
      "[1]\tvalidation_0-merror:0.32963\n",
      "[2]\tvalidation_0-merror:0.325661\n",
      "[3]\tvalidation_0-merror:0.330423\n",
      "[4]\tvalidation_0-merror:0.323016\n",
      "[5]\tvalidation_0-merror:0.318519\n",
      "[6]\tvalidation_0-merror:0.320635\n",
      "[7]\tvalidation_0-merror:0.314021\n",
      "[8]\tvalidation_0-merror:0.312169\n",
      "[9]\tvalidation_0-merror:0.311376\n",
      "[10]\tvalidation_0-merror:0.306085\n",
      "[11]\tvalidation_0-merror:0.305556\n",
      "[12]\tvalidation_0-merror:0.303704\n",
      "[13]\tvalidation_0-merror:0.302646\n",
      "[14]\tvalidation_0-merror:0.298413\n",
      "[15]\tvalidation_0-merror:0.302646\n",
      "[16]\tvalidation_0-merror:0.300794\n",
      "[17]\tvalidation_0-merror:0.299735\n",
      "[18]\tvalidation_0-merror:0.29709\n",
      "[19]\tvalidation_0-merror:0.297354\n",
      "[20]\tvalidation_0-merror:0.296825\n",
      "[21]\tvalidation_0-merror:0.295767\n",
      "[22]\tvalidation_0-merror:0.293651\n",
      "[23]\tvalidation_0-merror:0.292593\n",
      "[24]\tvalidation_0-merror:0.294709\n",
      "[25]\tvalidation_0-merror:0.292064\n",
      "[26]\tvalidation_0-merror:0.29127\n",
      "[27]\tvalidation_0-merror:0.291005\n",
      "[28]\tvalidation_0-merror:0.289418\n",
      "[29]\tvalidation_0-merror:0.287831\n",
      "[30]\tvalidation_0-merror:0.285714\n",
      "[31]\tvalidation_0-merror:0.283598\n",
      "[32]\tvalidation_0-merror:0.283862\n",
      "[33]\tvalidation_0-merror:0.281746\n",
      "[34]\tvalidation_0-merror:0.28254\n",
      "[35]\tvalidation_0-merror:0.284392\n",
      "[36]\tvalidation_0-merror:0.284127\n",
      "[37]\tvalidation_0-merror:0.280423\n",
      "[38]\tvalidation_0-merror:0.279101\n",
      "[39]\tvalidation_0-merror:0.278571\n",
      "[40]\tvalidation_0-merror:0.27963\n",
      "[41]\tvalidation_0-merror:0.27963\n",
      "[42]\tvalidation_0-merror:0.279101\n",
      "[43]\tvalidation_0-merror:0.274603\n",
      "[44]\tvalidation_0-merror:0.275661\n",
      "[45]\tvalidation_0-merror:0.273545\n",
      "[46]\tvalidation_0-merror:0.271164\n",
      "[47]\tvalidation_0-merror:0.271164\n",
      "[48]\tvalidation_0-merror:0.270635\n",
      "[49]\tvalidation_0-merror:0.270635\n",
      "[50]\tvalidation_0-merror:0.269841\n",
      "[51]\tvalidation_0-merror:0.268254\n",
      "[52]\tvalidation_0-merror:0.265079\n",
      "[53]\tvalidation_0-merror:0.266402\n",
      "[54]\tvalidation_0-merror:0.265344\n",
      "[55]\tvalidation_0-merror:0.265344\n",
      "[56]\tvalidation_0-merror:0.263757\n",
      "[57]\tvalidation_0-merror:0.26455\n",
      "[58]\tvalidation_0-merror:0.262434\n",
      "[59]\tvalidation_0-merror:0.262698\n",
      "[60]\tvalidation_0-merror:0.26164\n",
      "[61]\tvalidation_0-merror:0.26164\n",
      "[62]\tvalidation_0-merror:0.260317\n",
      "[63]\tvalidation_0-merror:0.259259\n",
      "[64]\tvalidation_0-merror:0.25873\n",
      "[65]\tvalidation_0-merror:0.258201\n",
      "[66]\tvalidation_0-merror:0.257672\n",
      "[67]\tvalidation_0-merror:0.257937\n",
      "[68]\tvalidation_0-merror:0.257672\n",
      "[69]\tvalidation_0-merror:0.255556\n",
      "[70]\tvalidation_0-merror:0.256349\n",
      "[71]\tvalidation_0-merror:0.256349\n",
      "[72]\tvalidation_0-merror:0.254762\n",
      "[73]\tvalidation_0-merror:0.254762\n",
      "[74]\tvalidation_0-merror:0.253704\n",
      "[75]\tvalidation_0-merror:0.253175\n",
      "[76]\tvalidation_0-merror:0.253439\n",
      "[77]\tvalidation_0-merror:0.252116\n",
      "[78]\tvalidation_0-merror:0.251058\n",
      "[79]\tvalidation_0-merror:0.252381\n",
      "[80]\tvalidation_0-merror:0.251587\n",
      "[81]\tvalidation_0-merror:0.249471\n",
      "[82]\tvalidation_0-merror:0.25\n",
      "[83]\tvalidation_0-merror:0.249206\n",
      "[84]\tvalidation_0-merror:0.248148\n",
      "[85]\tvalidation_0-merror:0.248148\n",
      "[86]\tvalidation_0-merror:0.247354\n",
      "[87]\tvalidation_0-merror:0.247354\n",
      "[88]\tvalidation_0-merror:0.247884\n",
      "[89]\tvalidation_0-merror:0.246296\n",
      "[90]\tvalidation_0-merror:0.246561\n",
      "[91]\tvalidation_0-merror:0.244974\n",
      "[92]\tvalidation_0-merror:0.245503\n",
      "[93]\tvalidation_0-merror:0.244974\n",
      "[94]\tvalidation_0-merror:0.24709\n",
      "[95]\tvalidation_0-merror:0.245767\n",
      "[96]\tvalidation_0-merror:0.245238\n",
      "[97]\tvalidation_0-merror:0.243915\n",
      "[98]\tvalidation_0-merror:0.243122\n",
      "[99]\tvalidation_0-merror:0.243122\n"
     ]
    },
    {
     "data": {
      "text/plain": [
       "XGBClassifier(base_score=0.5, colsample_bylevel=1, colsample_bytree=1,\n",
       "       gamma=0, learning_rate=0.1, max_delta_step=0, max_depth=3,\n",
       "       min_child_weight=1, missing=None, n_estimators=100, nthread=-1,\n",
       "       objective='multi:softprob', reg_alpha=0, reg_lambda=1,\n",
       "       scale_pos_weight=1, seed=0, silent=True, subsample=1)"
      ]
     },
     "execution_count": 22,
     "metadata": {},
     "output_type": "execute_result"
    }
   ],
   "source": [
    "X_base_train, X_base_test, y_base_train, y_base_test = train_test_split(X_base, y_train)\n",
    "optimized_base_default_GBM = xgb.XGBClassifier(seed=0,objective='multi:softmax')\n",
    "optimized_base_default_GBM.fit(X_base_train, y_base_train, eval_metric=\"merror\",\n",
    "    eval_set=[(X_base_test, y_base_test)])"
   ]
  },
  {
   "cell_type": "code",
   "execution_count": 24,
   "metadata": {},
   "outputs": [
    {
     "name": "stdout",
     "output_type": "stream",
     "text": [
      "accuracy:75.69%\n"
     ]
    }
   ],
   "source": [
    "optimized_base_default_GBM_pred = optimized_base_default_GBM.predict(X_base_test)\n",
    "optimized_base_default_GBM_accuracy = accuracy_score(y_base_test, optimized_base_default_GBM_pred);\n",
    "print ('accuracy:%0.2f%%'%(optimized_base_default_GBM_accuracy*100))"
   ]
  },
  {
   "cell_type": "code",
   "execution_count": 64,
   "metadata": {
    "collapsed": true
   },
   "outputs": [],
   "source": [
    "models.append(('optimized_base_default_GBM',optimized_base_default_GBM))"
   ]
  },
  {
   "cell_type": "code",
   "execution_count": 26,
   "metadata": {},
   "outputs": [
    {
     "name": "stdout",
     "output_type": "stream",
     "text": [
      "Total time: 3761 sec\n"
     ]
    }
   ],
   "source": [
    "t1 = datetime.now()\n",
    "cv_params = {'max_depth': [1,3,5], 'min_child_weight': [1,3,5], 'learning_rate': [0.15, 0.1, 0.075, 0.05]}\n",
    "ind_params = {'n_estimators': 300, 'seed':0, 'subsample': 0.8, 'colsample_bytree': 0.8, \n",
    "             'objective': 'multi:softmax'}\n",
    "optimized_base_GBM = GridSearchCV(xgb.XGBClassifier(**ind_params), cv_params, scoring = 'accuracy', cv = 5, n_jobs = -1)\n",
    "optimized_base_GBM.fit(X_base, y_train)\n",
    "t2 = datetime.now()\n",
    "print (\"Total time: %i sec\" %(t2-t1).seconds)"
   ]
  },
  {
   "cell_type": "code",
   "execution_count": 65,
   "metadata": {
    "collapsed": true
   },
   "outputs": [],
   "source": [
    "models.append(('optimized_base_cv5_GBM',optimized_base_GBM))"
   ]
  },
  {
   "cell_type": "code",
   "execution_count": 27,
   "metadata": {
    "scrolled": false
   },
   "outputs": [
    {
     "name": "stderr",
     "output_type": "stream",
     "text": [
      "//anaconda/envs/py36/lib/python3.6/site-packages/sklearn/model_selection/_search.py:667: DeprecationWarning: The grid_scores_ attribute was deprecated in version 0.18 in favor of the more elaborate cv_results_ attribute. The grid_scores_ attribute will not be available from 0.20\n",
      "  DeprecationWarning)\n"
     ]
    },
    {
     "data": {
      "text/plain": [
       "[mean: 0.69034, std: 0.03449, params: {'learning_rate': 0.15, 'max_depth': 1, 'min_child_weight': 1},\n",
       " mean: 0.69180, std: 0.03370, params: {'learning_rate': 0.15, 'max_depth': 1, 'min_child_weight': 3},\n",
       " mean: 0.69220, std: 0.03422, params: {'learning_rate': 0.15, 'max_depth': 1, 'min_child_weight': 5},\n",
       " mean: 0.75516, std: 0.03795, params: {'learning_rate': 0.15, 'max_depth': 3, 'min_child_weight': 1},\n",
       " mean: 0.75344, std: 0.03834, params: {'learning_rate': 0.15, 'max_depth': 3, 'min_child_weight': 3},\n",
       " mean: 0.74934, std: 0.03857, params: {'learning_rate': 0.15, 'max_depth': 3, 'min_child_weight': 5},\n",
       " mean: 0.78095, std: 0.03316, params: {'learning_rate': 0.15, 'max_depth': 5, 'min_child_weight': 1},\n",
       " mean: 0.77573, std: 0.03491, params: {'learning_rate': 0.15, 'max_depth': 5, 'min_child_weight': 3},\n",
       " mean: 0.77698, std: 0.03563, params: {'learning_rate': 0.15, 'max_depth': 5, 'min_child_weight': 5},\n",
       " mean: 0.68439, std: 0.03199, params: {'learning_rate': 0.1, 'max_depth': 1, 'min_child_weight': 1},\n",
       " mean: 0.68340, std: 0.03246, params: {'learning_rate': 0.1, 'max_depth': 1, 'min_child_weight': 3},\n",
       " mean: 0.68201, std: 0.03329, params: {'learning_rate': 0.1, 'max_depth': 1, 'min_child_weight': 5},\n",
       " mean: 0.74484, std: 0.03629, params: {'learning_rate': 0.1, 'max_depth': 3, 'min_child_weight': 1},\n",
       " mean: 0.74312, std: 0.03954, params: {'learning_rate': 0.1, 'max_depth': 3, 'min_child_weight': 3},\n",
       " mean: 0.73988, std: 0.03734, params: {'learning_rate': 0.1, 'max_depth': 3, 'min_child_weight': 5},\n",
       " mean: 0.77500, std: 0.03468, params: {'learning_rate': 0.1, 'max_depth': 5, 'min_child_weight': 1},\n",
       " mean: 0.77269, std: 0.03685, params: {'learning_rate': 0.1, 'max_depth': 5, 'min_child_weight': 3},\n",
       " mean: 0.76892, std: 0.03458, params: {'learning_rate': 0.1, 'max_depth': 5, 'min_child_weight': 5},\n",
       " mean: 0.67718, std: 0.03237, params: {'learning_rate': 0.075, 'max_depth': 1, 'min_child_weight': 1},\n",
       " mean: 0.67745, std: 0.03205, params: {'learning_rate': 0.075, 'max_depth': 1, 'min_child_weight': 3},\n",
       " mean: 0.67665, std: 0.03255, params: {'learning_rate': 0.075, 'max_depth': 1, 'min_child_weight': 5},\n",
       " mean: 0.73433, std: 0.03662, params: {'learning_rate': 0.075, 'max_depth': 3, 'min_child_weight': 1},\n",
       " mean: 0.73426, std: 0.03608, params: {'learning_rate': 0.075, 'max_depth': 3, 'min_child_weight': 3},\n",
       " mean: 0.73115, std: 0.03618, params: {'learning_rate': 0.075, 'max_depth': 3, 'min_child_weight': 5},\n",
       " mean: 0.76792, std: 0.03630, params: {'learning_rate': 0.075, 'max_depth': 5, 'min_child_weight': 1},\n",
       " mean: 0.76700, std: 0.03559, params: {'learning_rate': 0.075, 'max_depth': 5, 'min_child_weight': 3},\n",
       " mean: 0.76402, std: 0.03779, params: {'learning_rate': 0.075, 'max_depth': 5, 'min_child_weight': 5},\n",
       " mean: 0.66495, std: 0.03157, params: {'learning_rate': 0.05, 'max_depth': 1, 'min_child_weight': 1},\n",
       " mean: 0.66501, std: 0.03149, params: {'learning_rate': 0.05, 'max_depth': 1, 'min_child_weight': 3},\n",
       " mean: 0.66501, std: 0.03154, params: {'learning_rate': 0.05, 'max_depth': 1, 'min_child_weight': 5},\n",
       " mean: 0.72163, std: 0.03675, params: {'learning_rate': 0.05, 'max_depth': 3, 'min_child_weight': 1},\n",
       " mean: 0.71925, std: 0.03803, params: {'learning_rate': 0.05, 'max_depth': 3, 'min_child_weight': 3},\n",
       " mean: 0.71799, std: 0.03683, params: {'learning_rate': 0.05, 'max_depth': 3, 'min_child_weight': 5},\n",
       " mean: 0.75972, std: 0.03755, params: {'learning_rate': 0.05, 'max_depth': 5, 'min_child_weight': 1},\n",
       " mean: 0.75430, std: 0.03850, params: {'learning_rate': 0.05, 'max_depth': 5, 'min_child_weight': 3},\n",
       " mean: 0.75126, std: 0.04029, params: {'learning_rate': 0.05, 'max_depth': 5, 'min_child_weight': 5}]"
      ]
     },
     "execution_count": 27,
     "metadata": {},
     "output_type": "execute_result"
    }
   ],
   "source": [
    "optimized_base_GBM.grid_scores_"
   ]
  },
  {
   "cell_type": "code",
   "execution_count": 28,
   "metadata": {},
   "outputs": [
    {
     "name": "stdout",
     "output_type": "stream",
     "text": [
      "Total time: 8646 sec\n"
     ]
    }
   ],
   "source": [
    "t1 = datetime.now()\n",
    "cv_params = {'max_depth': [1,3,5], 'min_child_weight': [1,3,5], 'learning_rate': [0.15, 0.1, 0.075, 0.05]}\n",
    "ind_params = {'n_estimators': 300, 'seed':0, 'subsample': 0.8, 'colsample_bytree': 0.8, \n",
    "             'objective': 'multi:softmax'}\n",
    "optimized_base_cv10_GBM = GridSearchCV(xgb.XGBClassifier(**ind_params), cv_params, scoring = 'accuracy', cv = 10, n_jobs = -1)\n",
    "optimized_base_cv10_GBM.fit(X_base, y_train)\n",
    "t2 = datetime.now()\n",
    "print (\"Total time: %i sec\" %(t2-t1).seconds)"
   ]
  },
  {
   "cell_type": "code",
   "execution_count": 66,
   "metadata": {
    "collapsed": true
   },
   "outputs": [],
   "source": [
    "models.append(('optimized_base_cv10_GBM',optimized_base_cv10_GBM))"
   ]
  },
  {
   "cell_type": "code",
   "execution_count": 30,
   "metadata": {},
   "outputs": [
    {
     "name": "stderr",
     "output_type": "stream",
     "text": [
      "//anaconda/envs/py36/lib/python3.6/site-packages/sklearn/model_selection/_search.py:667: DeprecationWarning: The grid_scores_ attribute was deprecated in version 0.18 in favor of the more elaborate cv_results_ attribute. The grid_scores_ attribute will not be available from 0.20\n",
      "  DeprecationWarning)\n"
     ]
    },
    {
     "data": {
      "text/plain": [
       "[mean: 0.69729, std: 0.03657, params: {'learning_rate': 0.15, 'max_depth': 1, 'min_child_weight': 1},\n",
       " mean: 0.69835, std: 0.03644, params: {'learning_rate': 0.15, 'max_depth': 1, 'min_child_weight': 3},\n",
       " mean: 0.69683, std: 0.04253, params: {'learning_rate': 0.15, 'max_depth': 1, 'min_child_weight': 5},\n",
       " mean: 0.75357, std: 0.04245, params: {'learning_rate': 0.15, 'max_depth': 3, 'min_child_weight': 1},\n",
       " mean: 0.75357, std: 0.04104, params: {'learning_rate': 0.15, 'max_depth': 3, 'min_child_weight': 3},\n",
       " mean: 0.75298, std: 0.04336, params: {'learning_rate': 0.15, 'max_depth': 3, 'min_child_weight': 5},\n",
       " mean: 0.77844, std: 0.04083, params: {'learning_rate': 0.15, 'max_depth': 5, 'min_child_weight': 1},\n",
       " mean: 0.77606, std: 0.03856, params: {'learning_rate': 0.15, 'max_depth': 5, 'min_child_weight': 3},\n",
       " mean: 0.77507, std: 0.03946, params: {'learning_rate': 0.15, 'max_depth': 5, 'min_child_weight': 5},\n",
       " mean: 0.68909, std: 0.03420, params: {'learning_rate': 0.1, 'max_depth': 1, 'min_child_weight': 1},\n",
       " mean: 0.68829, std: 0.03555, params: {'learning_rate': 0.1, 'max_depth': 1, 'min_child_weight': 3},\n",
       " mean: 0.68724, std: 0.03905, params: {'learning_rate': 0.1, 'max_depth': 1, 'min_child_weight': 5},\n",
       " mean: 0.74392, std: 0.04057, params: {'learning_rate': 0.1, 'max_depth': 3, 'min_child_weight': 1},\n",
       " mean: 0.74180, std: 0.04148, params: {'learning_rate': 0.1, 'max_depth': 3, 'min_child_weight': 3},\n",
       " mean: 0.74054, std: 0.04287, params: {'learning_rate': 0.1, 'max_depth': 3, 'min_child_weight': 5},\n",
       " mean: 0.77507, std: 0.03718, params: {'learning_rate': 0.1, 'max_depth': 5, 'min_child_weight': 1},\n",
       " mean: 0.77427, std: 0.04077, params: {'learning_rate': 0.1, 'max_depth': 5, 'min_child_weight': 3},\n",
       " mean: 0.76911, std: 0.03918, params: {'learning_rate': 0.1, 'max_depth': 5, 'min_child_weight': 5},\n",
       " mean: 0.68135, std: 0.03880, params: {'learning_rate': 0.075, 'max_depth': 1, 'min_child_weight': 1},\n",
       " mean: 0.68108, std: 0.03938, params: {'learning_rate': 0.075, 'max_depth': 1, 'min_child_weight': 3},\n",
       " mean: 0.68049, std: 0.03921, params: {'learning_rate': 0.075, 'max_depth': 1, 'min_child_weight': 5},\n",
       " mean: 0.73208, std: 0.04179, params: {'learning_rate': 0.075, 'max_depth': 3, 'min_child_weight': 1},\n",
       " mean: 0.73254, std: 0.04179, params: {'learning_rate': 0.075, 'max_depth': 3, 'min_child_weight': 3},\n",
       " mean: 0.73439, std: 0.04099, params: {'learning_rate': 0.075, 'max_depth': 3, 'min_child_weight': 5},\n",
       " mean: 0.76938, std: 0.03924, params: {'learning_rate': 0.075, 'max_depth': 5, 'min_child_weight': 1},\n",
       " mean: 0.76726, std: 0.03899, params: {'learning_rate': 0.075, 'max_depth': 5, 'min_child_weight': 3},\n",
       " mean: 0.76151, std: 0.04096, params: {'learning_rate': 0.075, 'max_depth': 5, 'min_child_weight': 5},\n",
       " mean: 0.67077, std: 0.04804, params: {'learning_rate': 0.05, 'max_depth': 1, 'min_child_weight': 1},\n",
       " mean: 0.67077, std: 0.04804, params: {'learning_rate': 0.05, 'max_depth': 1, 'min_child_weight': 3},\n",
       " mean: 0.67070, std: 0.04797, params: {'learning_rate': 0.05, 'max_depth': 1, 'min_child_weight': 5},\n",
       " mean: 0.72070, std: 0.03890, params: {'learning_rate': 0.05, 'max_depth': 3, 'min_child_weight': 1},\n",
       " mean: 0.71958, std: 0.03918, params: {'learning_rate': 0.05, 'max_depth': 3, 'min_child_weight': 3},\n",
       " mean: 0.72050, std: 0.03950, params: {'learning_rate': 0.05, 'max_depth': 3, 'min_child_weight': 5},\n",
       " mean: 0.75694, std: 0.03792, params: {'learning_rate': 0.05, 'max_depth': 5, 'min_child_weight': 1},\n",
       " mean: 0.75443, std: 0.03999, params: {'learning_rate': 0.05, 'max_depth': 5, 'min_child_weight': 3},\n",
       " mean: 0.75165, std: 0.04138, params: {'learning_rate': 0.05, 'max_depth': 5, 'min_child_weight': 5}]"
      ]
     },
     "execution_count": 30,
     "metadata": {},
     "output_type": "execute_result"
    }
   ],
   "source": [
    "optimized_base_cv10_GBM.grid_scores_"
   ]
  },
  {
   "cell_type": "code",
   "execution_count": 31,
   "metadata": {
    "scrolled": true
   },
   "outputs": [
    {
     "name": "stdout",
     "output_type": "stream",
     "text": [
      "[0]\tvalidation_0-merror:0.320106\n",
      "Will train until validation_0-merror hasn't improved in 50 rounds.\n",
      "[1]\tvalidation_0-merror:0.317196\n",
      "[2]\tvalidation_0-merror:0.321958\n",
      "[3]\tvalidation_0-merror:0.322487\n",
      "[4]\tvalidation_0-merror:0.313492\n",
      "[5]\tvalidation_0-merror:0.306085\n",
      "[6]\tvalidation_0-merror:0.305556\n",
      "[7]\tvalidation_0-merror:0.297619\n",
      "[8]\tvalidation_0-merror:0.300529\n",
      "[9]\tvalidation_0-merror:0.297354\n",
      "[10]\tvalidation_0-merror:0.293651\n",
      "[11]\tvalidation_0-merror:0.292593\n",
      "[12]\tvalidation_0-merror:0.29127\n",
      "[13]\tvalidation_0-merror:0.291005\n",
      "[14]\tvalidation_0-merror:0.288889\n",
      "[15]\tvalidation_0-merror:0.286243\n",
      "[16]\tvalidation_0-merror:0.281746\n",
      "[17]\tvalidation_0-merror:0.281217\n",
      "[18]\tvalidation_0-merror:0.279101\n",
      "[19]\tvalidation_0-merror:0.275926\n",
      "[20]\tvalidation_0-merror:0.275397\n",
      "[21]\tvalidation_0-merror:0.278042\n",
      "[22]\tvalidation_0-merror:0.27328\n",
      "[23]\tvalidation_0-merror:0.274074\n",
      "[24]\tvalidation_0-merror:0.272222\n",
      "[25]\tvalidation_0-merror:0.270899\n",
      "[26]\tvalidation_0-merror:0.270106\n",
      "[27]\tvalidation_0-merror:0.267196\n",
      "[28]\tvalidation_0-merror:0.264815\n",
      "[29]\tvalidation_0-merror:0.263492\n",
      "[30]\tvalidation_0-merror:0.26455\n",
      "[31]\tvalidation_0-merror:0.263228\n",
      "[32]\tvalidation_0-merror:0.260053\n",
      "[33]\tvalidation_0-merror:0.261111\n",
      "[34]\tvalidation_0-merror:0.260582\n",
      "[35]\tvalidation_0-merror:0.259259\n",
      "[36]\tvalidation_0-merror:0.257937\n",
      "[37]\tvalidation_0-merror:0.258201\n",
      "[38]\tvalidation_0-merror:0.255026\n",
      "[39]\tvalidation_0-merror:0.256614\n",
      "[40]\tvalidation_0-merror:0.254233\n",
      "[41]\tvalidation_0-merror:0.253968\n",
      "[42]\tvalidation_0-merror:0.253968\n",
      "[43]\tvalidation_0-merror:0.253175\n",
      "[44]\tvalidation_0-merror:0.251058\n",
      "[45]\tvalidation_0-merror:0.250794\n",
      "[46]\tvalidation_0-merror:0.249735\n",
      "[47]\tvalidation_0-merror:0.25\n",
      "[48]\tvalidation_0-merror:0.248942\n",
      "[49]\tvalidation_0-merror:0.249206\n",
      "[50]\tvalidation_0-merror:0.249206\n",
      "[51]\tvalidation_0-merror:0.246561\n",
      "[52]\tvalidation_0-merror:0.247354\n",
      "[53]\tvalidation_0-merror:0.246296\n",
      "[54]\tvalidation_0-merror:0.243651\n",
      "[55]\tvalidation_0-merror:0.243122\n",
      "[56]\tvalidation_0-merror:0.240476\n",
      "[57]\tvalidation_0-merror:0.241005\n",
      "[58]\tvalidation_0-merror:0.240212\n",
      "[59]\tvalidation_0-merror:0.240476\n",
      "[60]\tvalidation_0-merror:0.238889\n",
      "[61]\tvalidation_0-merror:0.238624\n",
      "[62]\tvalidation_0-merror:0.238095\n",
      "[63]\tvalidation_0-merror:0.237566\n",
      "[64]\tvalidation_0-merror:0.23545\n",
      "[65]\tvalidation_0-merror:0.234921\n",
      "[66]\tvalidation_0-merror:0.232804\n",
      "[67]\tvalidation_0-merror:0.234921\n",
      "[68]\tvalidation_0-merror:0.232275\n",
      "[69]\tvalidation_0-merror:0.230423\n",
      "[70]\tvalidation_0-merror:0.228307\n",
      "[71]\tvalidation_0-merror:0.227249\n",
      "[72]\tvalidation_0-merror:0.22619\n",
      "[73]\tvalidation_0-merror:0.224868\n",
      "[74]\tvalidation_0-merror:0.225926\n",
      "[75]\tvalidation_0-merror:0.225132\n",
      "[76]\tvalidation_0-merror:0.225132\n",
      "[77]\tvalidation_0-merror:0.224339\n",
      "[78]\tvalidation_0-merror:0.22381\n",
      "[79]\tvalidation_0-merror:0.224603\n",
      "[80]\tvalidation_0-merror:0.22328\n",
      "[81]\tvalidation_0-merror:0.220635\n",
      "[82]\tvalidation_0-merror:0.220899\n",
      "[83]\tvalidation_0-merror:0.220106\n",
      "[84]\tvalidation_0-merror:0.22037\n",
      "[85]\tvalidation_0-merror:0.220106\n",
      "[86]\tvalidation_0-merror:0.219577\n",
      "[87]\tvalidation_0-merror:0.218254\n",
      "[88]\tvalidation_0-merror:0.217725\n",
      "[89]\tvalidation_0-merror:0.218519\n",
      "[90]\tvalidation_0-merror:0.217989\n",
      "[91]\tvalidation_0-merror:0.215873\n",
      "[92]\tvalidation_0-merror:0.215079\n",
      "[93]\tvalidation_0-merror:0.21455\n",
      "[94]\tvalidation_0-merror:0.213757\n",
      "[95]\tvalidation_0-merror:0.213492\n",
      "[96]\tvalidation_0-merror:0.212963\n",
      "[97]\tvalidation_0-merror:0.211905\n",
      "[98]\tvalidation_0-merror:0.21164\n",
      "[99]\tvalidation_0-merror:0.211111\n",
      "accuracy:78.89%\n"
     ]
    }
   ],
   "source": [
    "X_100_train, X_100_test, y_100_train, y_100_test = train_test_split(X_100, y_train)\n",
    "optimized_100_default_GBM = xgb.XGBClassifier(seed=0,objective='multi:softmax')\n",
    "optimized_100_default_GBM.fit(X_100_train, y_100_train, early_stopping_rounds=50, eval_metric=\"merror\",\n",
    "    eval_set=[(X_100_test, y_100_test)])\n",
    "\n",
    "optimized_100_default_GBM_pred = optimized_100_default_GBM.predict(X_100_test)\n",
    "optimized_100_default_GBM_accuracy = accuracy_score(y_100_test, optimized_100_default_GBM_pred);\n",
    "print ('accuracy:%0.2f%%'%(optimized_100_default_GBM_accuracy*100))"
   ]
  },
  {
   "cell_type": "code",
   "execution_count": 67,
   "metadata": {
    "collapsed": true
   },
   "outputs": [],
   "source": [
    "models.append(('optimized_100_default_GBM',optimized_100_default_GBM))"
   ]
  },
  {
   "cell_type": "code",
   "execution_count": 33,
   "metadata": {},
   "outputs": [
    {
     "name": "stdout",
     "output_type": "stream",
     "text": [
      "Total time: 5546 sec\n"
     ]
    }
   ],
   "source": [
    "t1 = datetime.now()\n",
    "cv_params = {'max_depth': [1,3,5], 'min_child_weight': [1,3,5], 'learning_rate': [0.15, 0.1, 0.075, 0.05]}\n",
    "ind_params = {'n_estimators': 300, 'seed':0, 'subsample': 0.8, 'colsample_bytree': 0.8, \n",
    "             'objective': 'multi:softmax'}\n",
    "optimized_100_cv5_GBM = GridSearchCV(xgb.XGBClassifier(**ind_params), cv_params, scoring = 'accuracy', cv = 5, n_jobs = -1)\n",
    "optimized_100_cv5_GBM.fit(X_100, y_train)\n",
    "t2 = datetime.now()\n",
    "print (\"Total time: %i sec\" %(t2-t1).seconds)"
   ]
  },
  {
   "cell_type": "code",
   "execution_count": 68,
   "metadata": {
    "collapsed": true
   },
   "outputs": [],
   "source": [
    "models.append(('optimized_100_cv5_GBM',optimized_100_cv5_GBM))"
   ]
  },
  {
   "cell_type": "code",
   "execution_count": 35,
   "metadata": {
    "scrolled": true
   },
   "outputs": [
    {
     "name": "stderr",
     "output_type": "stream",
     "text": [
      "//anaconda/envs/py36/lib/python3.6/site-packages/sklearn/model_selection/_search.py:667: DeprecationWarning: The grid_scores_ attribute was deprecated in version 0.18 in favor of the more elaborate cv_results_ attribute. The grid_scores_ attribute will not be available from 0.20\n",
      "  DeprecationWarning)\n"
     ]
    },
    {
     "data": {
      "text/plain": [
       "[mean: 0.70060, std: 0.03620, params: {'learning_rate': 0.15, 'max_depth': 1, 'min_child_weight': 1},\n",
       " mean: 0.70132, std: 0.03721, params: {'learning_rate': 0.15, 'max_depth': 1, 'min_child_weight': 3},\n",
       " mean: 0.70033, std: 0.03655, params: {'learning_rate': 0.15, 'max_depth': 1, 'min_child_weight': 5},\n",
       " mean: 0.77500, std: 0.03620, params: {'learning_rate': 0.15, 'max_depth': 3, 'min_child_weight': 1},\n",
       " mean: 0.77295, std: 0.03565, params: {'learning_rate': 0.15, 'max_depth': 3, 'min_child_weight': 3},\n",
       " mean: 0.76951, std: 0.03670, params: {'learning_rate': 0.15, 'max_depth': 3, 'min_child_weight': 5},\n",
       " mean: 0.79788, std: 0.03663, params: {'learning_rate': 0.15, 'max_depth': 5, 'min_child_weight': 1},\n",
       " mean: 0.79239, std: 0.03677, params: {'learning_rate': 0.15, 'max_depth': 5, 'min_child_weight': 3},\n",
       " mean: 0.79187, std: 0.03674, params: {'learning_rate': 0.15, 'max_depth': 5, 'min_child_weight': 5},\n",
       " mean: 0.69008, std: 0.03703, params: {'learning_rate': 0.1, 'max_depth': 1, 'min_child_weight': 1},\n",
       " mean: 0.68975, std: 0.03765, params: {'learning_rate': 0.1, 'max_depth': 1, 'min_child_weight': 3},\n",
       " mean: 0.69028, std: 0.03690, params: {'learning_rate': 0.1, 'max_depth': 1, 'min_child_weight': 5},\n",
       " mean: 0.76362, std: 0.03178, params: {'learning_rate': 0.1, 'max_depth': 3, 'min_child_weight': 1},\n",
       " mean: 0.75919, std: 0.03319, params: {'learning_rate': 0.1, 'max_depth': 3, 'min_child_weight': 3},\n",
       " mean: 0.76177, std: 0.03300, params: {'learning_rate': 0.1, 'max_depth': 3, 'min_child_weight': 5},\n",
       " mean: 0.79239, std: 0.03678, params: {'learning_rate': 0.1, 'max_depth': 5, 'min_child_weight': 1},\n",
       " mean: 0.78988, std: 0.03659, params: {'learning_rate': 0.1, 'max_depth': 5, 'min_child_weight': 3},\n",
       " mean: 0.78710, std: 0.03587, params: {'learning_rate': 0.1, 'max_depth': 5, 'min_child_weight': 5},\n",
       " mean: 0.67976, std: 0.04065, params: {'learning_rate': 0.075, 'max_depth': 1, 'min_child_weight': 1},\n",
       " mean: 0.68102, std: 0.04036, params: {'learning_rate': 0.075, 'max_depth': 1, 'min_child_weight': 3},\n",
       " mean: 0.67970, std: 0.04017, params: {'learning_rate': 0.075, 'max_depth': 1, 'min_child_weight': 5},\n",
       " mean: 0.75377, std: 0.03383, params: {'learning_rate': 0.075, 'max_depth': 3, 'min_child_weight': 1},\n",
       " mean: 0.75146, std: 0.03416, params: {'learning_rate': 0.075, 'max_depth': 3, 'min_child_weight': 3},\n",
       " mean: 0.75231, std: 0.03320, params: {'learning_rate': 0.075, 'max_depth': 3, 'min_child_weight': 5},\n",
       " mean: 0.78810, std: 0.03520, params: {'learning_rate': 0.075, 'max_depth': 5, 'min_child_weight': 1},\n",
       " mean: 0.78333, std: 0.03662, params: {'learning_rate': 0.075, 'max_depth': 5, 'min_child_weight': 3},\n",
       " mean: 0.78069, std: 0.03760, params: {'learning_rate': 0.075, 'max_depth': 5, 'min_child_weight': 5},\n",
       " mean: 0.66422, std: 0.04282, params: {'learning_rate': 0.05, 'max_depth': 1, 'min_child_weight': 1},\n",
       " mean: 0.66508, std: 0.04243, params: {'learning_rate': 0.05, 'max_depth': 1, 'min_child_weight': 3},\n",
       " mean: 0.66488, std: 0.04217, params: {'learning_rate': 0.05, 'max_depth': 1, 'min_child_weight': 5},\n",
       " mean: 0.74081, std: 0.03262, params: {'learning_rate': 0.05, 'max_depth': 3, 'min_child_weight': 1},\n",
       " mean: 0.73915, std: 0.03411, params: {'learning_rate': 0.05, 'max_depth': 3, 'min_child_weight': 3},\n",
       " mean: 0.73790, std: 0.03433, params: {'learning_rate': 0.05, 'max_depth': 3, 'min_child_weight': 5},\n",
       " mean: 0.77692, std: 0.03579, params: {'learning_rate': 0.05, 'max_depth': 5, 'min_child_weight': 1},\n",
       " mean: 0.77321, std: 0.03531, params: {'learning_rate': 0.05, 'max_depth': 5, 'min_child_weight': 3},\n",
       " mean: 0.77050, std: 0.03419, params: {'learning_rate': 0.05, 'max_depth': 5, 'min_child_weight': 5}]"
      ]
     },
     "execution_count": 35,
     "metadata": {},
     "output_type": "execute_result"
    }
   ],
   "source": [
    "optimized_100_cv5_GBM.grid_scores_"
   ]
  },
  {
   "cell_type": "code",
   "execution_count": 36,
   "metadata": {},
   "outputs": [
    {
     "name": "stdout",
     "output_type": "stream",
     "text": [
      "Total time: 10858 sec\n"
     ]
    }
   ],
   "source": [
    "t1 = datetime.now()\n",
    "cv_params = {'max_depth': [1,3,5], 'min_child_weight': [1,3,5], 'learning_rate': [0.15, 0.1, 0.075, 0.05]}\n",
    "ind_params = {'n_estimators': 300, 'seed':0, 'subsample': 0.8, 'colsample_bytree': 0.8, \n",
    "             'objective': 'multi:softmax'}\n",
    "optimized_100_cv10_GBM = GridSearchCV(xgb.XGBClassifier(**ind_params), cv_params, scoring = 'accuracy', cv = 10, n_jobs = -1)\n",
    "optimized_100_cv10_GBM.fit(X_100, y_train)\n",
    "t2 = datetime.now()\n",
    "print (\"Total time: %i sec\" %(t2-t1).seconds)"
   ]
  },
  {
   "cell_type": "code",
   "execution_count": 69,
   "metadata": {
    "collapsed": true
   },
   "outputs": [],
   "source": [
    "models.append(('optimized_100_cv10_GBM',optimized_100_cv10_GBM))"
   ]
  },
  {
   "cell_type": "code",
   "execution_count": 39,
   "metadata": {},
   "outputs": [
    {
     "name": "stderr",
     "output_type": "stream",
     "text": [
      "//anaconda/envs/py36/lib/python3.6/site-packages/sklearn/model_selection/_search.py:667: DeprecationWarning: The grid_scores_ attribute was deprecated in version 0.18 in favor of the more elaborate cv_results_ attribute. The grid_scores_ attribute will not be available from 0.20\n",
      "  DeprecationWarning)\n"
     ]
    },
    {
     "data": {
      "text/plain": [
       "[mean: 0.70403, std: 0.04440, params: {'learning_rate': 0.15, 'max_depth': 1, 'min_child_weight': 1},\n",
       " mean: 0.70489, std: 0.04445, params: {'learning_rate': 0.15, 'max_depth': 1, 'min_child_weight': 3},\n",
       " mean: 0.70403, std: 0.04522, params: {'learning_rate': 0.15, 'max_depth': 1, 'min_child_weight': 5},\n",
       " mean: 0.77269, std: 0.04235, params: {'learning_rate': 0.15, 'max_depth': 3, 'min_child_weight': 1},\n",
       " mean: 0.76766, std: 0.04451, params: {'learning_rate': 0.15, 'max_depth': 3, 'min_child_weight': 3},\n",
       " mean: 0.76739, std: 0.04289, params: {'learning_rate': 0.15, 'max_depth': 3, 'min_child_weight': 5},\n",
       " mean: 0.79735, std: 0.03831, params: {'learning_rate': 0.15, 'max_depth': 5, 'min_child_weight': 1},\n",
       " mean: 0.79220, std: 0.04193, params: {'learning_rate': 0.15, 'max_depth': 5, 'min_child_weight': 3},\n",
       " mean: 0.78829, std: 0.04127, params: {'learning_rate': 0.15, 'max_depth': 5, 'min_child_weight': 5},\n",
       " mean: 0.69319, std: 0.04769, params: {'learning_rate': 0.1, 'max_depth': 1, 'min_child_weight': 1},\n",
       " mean: 0.69365, std: 0.04602, params: {'learning_rate': 0.1, 'max_depth': 1, 'min_child_weight': 3},\n",
       " mean: 0.69352, std: 0.04619, params: {'learning_rate': 0.1, 'max_depth': 1, 'min_child_weight': 5},\n",
       " mean: 0.76217, std: 0.04127, params: {'learning_rate': 0.1, 'max_depth': 3, 'min_child_weight': 1},\n",
       " mean: 0.75979, std: 0.04134, params: {'learning_rate': 0.1, 'max_depth': 3, 'min_child_weight': 3},\n",
       " mean: 0.75807, std: 0.04212, params: {'learning_rate': 0.1, 'max_depth': 3, 'min_child_weight': 5},\n",
       " mean: 0.78988, std: 0.04009, params: {'learning_rate': 0.1, 'max_depth': 5, 'min_child_weight': 1},\n",
       " mean: 0.78638, std: 0.04172, params: {'learning_rate': 0.1, 'max_depth': 5, 'min_child_weight': 3},\n",
       " mean: 0.78353, std: 0.04092, params: {'learning_rate': 0.1, 'max_depth': 5, 'min_child_weight': 5},\n",
       " mean: 0.68532, std: 0.04828, params: {'learning_rate': 0.075, 'max_depth': 1, 'min_child_weight': 1},\n",
       " mean: 0.68571, std: 0.04846, params: {'learning_rate': 0.075, 'max_depth': 1, 'min_child_weight': 3},\n",
       " mean: 0.68604, std: 0.04840, params: {'learning_rate': 0.075, 'max_depth': 1, 'min_child_weight': 5},\n",
       " mean: 0.75179, std: 0.04226, params: {'learning_rate': 0.075, 'max_depth': 3, 'min_child_weight': 1},\n",
       " mean: 0.75198, std: 0.04431, params: {'learning_rate': 0.075, 'max_depth': 3, 'min_child_weight': 3},\n",
       " mean: 0.75119, std: 0.04314, params: {'learning_rate': 0.075, 'max_depth': 3, 'min_child_weight': 5},\n",
       " mean: 0.78505, std: 0.04200, params: {'learning_rate': 0.075, 'max_depth': 5, 'min_child_weight': 1},\n",
       " mean: 0.78261, std: 0.04176, params: {'learning_rate': 0.075, 'max_depth': 5, 'min_child_weight': 3},\n",
       " mean: 0.78128, std: 0.03938, params: {'learning_rate': 0.075, 'max_depth': 5, 'min_child_weight': 5},\n",
       " mean: 0.67209, std: 0.04975, params: {'learning_rate': 0.05, 'max_depth': 1, 'min_child_weight': 1},\n",
       " mean: 0.67183, std: 0.04982, params: {'learning_rate': 0.05, 'max_depth': 1, 'min_child_weight': 3},\n",
       " mean: 0.67183, std: 0.04977, params: {'learning_rate': 0.05, 'max_depth': 1, 'min_child_weight': 5},\n",
       " mean: 0.73915, std: 0.04359, params: {'learning_rate': 0.05, 'max_depth': 3, 'min_child_weight': 1},\n",
       " mean: 0.73862, std: 0.04632, params: {'learning_rate': 0.05, 'max_depth': 3, 'min_child_weight': 3},\n",
       " mean: 0.73710, std: 0.04664, params: {'learning_rate': 0.05, 'max_depth': 3, 'min_child_weight': 5},\n",
       " mean: 0.77242, std: 0.04087, params: {'learning_rate': 0.05, 'max_depth': 5, 'min_child_weight': 1},\n",
       " mean: 0.77077, std: 0.04190, params: {'learning_rate': 0.05, 'max_depth': 5, 'min_child_weight': 3},\n",
       " mean: 0.76951, std: 0.04161, params: {'learning_rate': 0.05, 'max_depth': 5, 'min_child_weight': 5}]"
      ]
     },
     "execution_count": 39,
     "metadata": {},
     "output_type": "execute_result"
    }
   ],
   "source": [
    "optimized_100_cv10_GBM.grid_scores_"
   ]
  },
  {
   "cell_type": "markdown",
   "metadata": {},
   "source": [
    "## Fine Tune the best hyperparameters for the best model in the broad search"
   ]
  },
  {
   "cell_type": "code",
   "execution_count": 40,
   "metadata": {},
   "outputs": [
    {
     "data": {
      "text/plain": [
       "'t1 = datetime.now()\\ncv_params = {\\'max_depth\\': [1,3,5], \\'min_child_weight\\': [1,3,5], \\'learning_rate\\': [0.15, 0.1, 0.075, 0.05]}\\nind_params = {\\'n_estimators\\': 300, \\'seed\\':0, \\'subsample\\': 0.8, \\'colsample_bytree\\': 0.8, \\n             \\'objective\\': \\'multi:softmax\\'}\\noptimized_kaggle_GBM = GridSearchCV(xgb.XGBClassifier(**ind_params), cv_params, scoring = \\'accuracy\\', cv = 5)#, n_jobs = -1)\\noptimized_kaggle_GBM.fit(X_kaggle, y_train)\\nt2 = datetime.now()\\nprint (\"Total time: %i sec\" %(t2-t1).seconds)'"
      ]
     },
     "execution_count": 40,
     "metadata": {},
     "output_type": "execute_result"
    }
   ],
   "source": [
    "############ NEEDS TO BE MODIFIED ONCE WE FIGURE OUT THE BEST ONE ####################\n",
    "'''t1 = datetime.now()\n",
    "cv_params = {'max_depth': [1,3,5], 'min_child_weight': [1,3,5], 'learning_rate': [0.15, 0.1, 0.075, 0.05]}\n",
    "ind_params = {'n_estimators': 300, 'seed':0, 'subsample': 0.8, 'colsample_bytree': 0.8, \n",
    "             'objective': 'multi:softmax'}\n",
    "optimized_kaggle_GBM = GridSearchCV(xgb.XGBClassifier(**ind_params), cv_params, scoring = 'accuracy', cv = 5)#, n_jobs = -1)\n",
    "optimized_kaggle_GBM.fit(X_kaggle, y_train)\n",
    "t2 = datetime.now()\n",
    "print (\"Total time: %i sec\" %(t2-t1).seconds)'''"
   ]
  },
  {
   "cell_type": "code",
   "execution_count": null,
   "metadata": {
    "collapsed": true
   },
   "outputs": [],
   "source": []
  },
  {
   "cell_type": "markdown",
   "metadata": {
    "collapsed": true
   },
   "source": [
    "## Random Forest Ensembles in Grid Search"
   ]
  },
  {
   "cell_type": "code",
   "execution_count": 41,
   "metadata": {},
   "outputs": [
    {
     "name": "stdout",
     "output_type": "stream",
     "text": [
      "Total time: 720 sec\n"
     ]
    }
   ],
   "source": [
    "t1 = datetime.now()\n",
    "hyperparameters = {'max_depth': [1,3,5],\n",
    "    'n_estimators': [50, 100, 200, 300, 500, 700, 800, 1000],\n",
    "    'criterion': ['gini', 'entropy'],\n",
    "    'max_features': ['sqrt', 'log2']\n",
    "}\n",
    "optimized_kaggle_cv5_RF = GridSearchCV(RandomForestClassifier(random_state=0), hyperparameters, cv=5, n_jobs=-1)\n",
    "optimized_kaggle_cv5_RF.fit(X_kaggle, y_train)\n",
    "t2 = datetime.now()\n",
    "print (\"Total time: %i sec\" %(t2-t1).seconds)"
   ]
  },
  {
   "cell_type": "code",
   "execution_count": 70,
   "metadata": {
    "collapsed": true
   },
   "outputs": [],
   "source": [
    "models.append(('optimized_kaggle_cv5_RF',optimized_kaggle_cv5_RF))"
   ]
  },
  {
   "cell_type": "code",
   "execution_count": 43,
   "metadata": {},
   "outputs": [
    {
     "name": "stderr",
     "output_type": "stream",
     "text": [
      "//anaconda/envs/py36/lib/python3.6/site-packages/sklearn/model_selection/_search.py:667: DeprecationWarning: The grid_scores_ attribute was deprecated in version 0.18 in favor of the more elaborate cv_results_ attribute. The grid_scores_ attribute will not be available from 0.20\n",
      "  DeprecationWarning)\n"
     ]
    },
    {
     "data": {
      "text/plain": [
       "[mean: 0.45231, std: 0.01502, params: {'criterion': 'gini', 'max_depth': 1, 'max_features': 'sqrt', 'n_estimators': 50},\n",
       " mean: 0.45549, std: 0.01143, params: {'criterion': 'gini', 'max_depth': 1, 'max_features': 'sqrt', 'n_estimators': 100},\n",
       " mean: 0.47910, std: 0.01698, params: {'criterion': 'gini', 'max_depth': 1, 'max_features': 'sqrt', 'n_estimators': 200},\n",
       " mean: 0.46852, std: 0.03014, params: {'criterion': 'gini', 'max_depth': 1, 'max_features': 'sqrt', 'n_estimators': 300},\n",
       " mean: 0.46786, std: 0.03025, params: {'criterion': 'gini', 'max_depth': 1, 'max_features': 'sqrt', 'n_estimators': 500},\n",
       " mean: 0.48776, std: 0.02424, params: {'criterion': 'gini', 'max_depth': 1, 'max_features': 'sqrt', 'n_estimators': 700},\n",
       " mean: 0.48942, std: 0.02423, params: {'criterion': 'gini', 'max_depth': 1, 'max_features': 'sqrt', 'n_estimators': 800},\n",
       " mean: 0.48823, std: 0.02366, params: {'criterion': 'gini', 'max_depth': 1, 'max_features': 'sqrt', 'n_estimators': 1000},\n",
       " mean: 0.47454, std: 0.03479, params: {'criterion': 'gini', 'max_depth': 1, 'max_features': 'log2', 'n_estimators': 50},\n",
       " mean: 0.47837, std: 0.02366, params: {'criterion': 'gini', 'max_depth': 1, 'max_features': 'log2', 'n_estimators': 100},\n",
       " mean: 0.49940, std: 0.02856, params: {'criterion': 'gini', 'max_depth': 1, 'max_features': 'log2', 'n_estimators': 200},\n",
       " mean: 0.51382, std: 0.02968, params: {'criterion': 'gini', 'max_depth': 1, 'max_features': 'log2', 'n_estimators': 300},\n",
       " mean: 0.50622, std: 0.01699, params: {'criterion': 'gini', 'max_depth': 1, 'max_features': 'log2', 'n_estimators': 500},\n",
       " mean: 0.51157, std: 0.02517, params: {'criterion': 'gini', 'max_depth': 1, 'max_features': 'log2', 'n_estimators': 700},\n",
       " mean: 0.51038, std: 0.02140, params: {'criterion': 'gini', 'max_depth': 1, 'max_features': 'log2', 'n_estimators': 800},\n",
       " mean: 0.50893, std: 0.02147, params: {'criterion': 'gini', 'max_depth': 1, 'max_features': 'log2', 'n_estimators': 1000},\n",
       " mean: 0.60146, std: 0.04224, params: {'criterion': 'gini', 'max_depth': 3, 'max_features': 'sqrt', 'n_estimators': 50},\n",
       " mean: 0.60437, std: 0.04031, params: {'criterion': 'gini', 'max_depth': 3, 'max_features': 'sqrt', 'n_estimators': 100},\n",
       " mean: 0.60542, std: 0.04109, params: {'criterion': 'gini', 'max_depth': 3, 'max_features': 'sqrt', 'n_estimators': 200},\n",
       " mean: 0.61290, std: 0.03992, params: {'criterion': 'gini', 'max_depth': 3, 'max_features': 'sqrt', 'n_estimators': 300},\n",
       " mean: 0.61594, std: 0.03906, params: {'criterion': 'gini', 'max_depth': 3, 'max_features': 'sqrt', 'n_estimators': 500},\n",
       " mean: 0.61667, std: 0.04003, params: {'criterion': 'gini', 'max_depth': 3, 'max_features': 'sqrt', 'n_estimators': 700},\n",
       " mean: 0.61534, std: 0.03831, params: {'criterion': 'gini', 'max_depth': 3, 'max_features': 'sqrt', 'n_estimators': 800},\n",
       " mean: 0.61693, std: 0.04233, params: {'criterion': 'gini', 'max_depth': 3, 'max_features': 'sqrt', 'n_estimators': 1000},\n",
       " mean: 0.59722, std: 0.02326, params: {'criterion': 'gini', 'max_depth': 3, 'max_features': 'log2', 'n_estimators': 50},\n",
       " mean: 0.59464, std: 0.03327, params: {'criterion': 'gini', 'max_depth': 3, 'max_features': 'log2', 'n_estimators': 100},\n",
       " mean: 0.60053, std: 0.04592, params: {'criterion': 'gini', 'max_depth': 3, 'max_features': 'log2', 'n_estimators': 200},\n",
       " mean: 0.60853, std: 0.04407, params: {'criterion': 'gini', 'max_depth': 3, 'max_features': 'log2', 'n_estimators': 300},\n",
       " mean: 0.60833, std: 0.04339, params: {'criterion': 'gini', 'max_depth': 3, 'max_features': 'log2', 'n_estimators': 500},\n",
       " mean: 0.60933, std: 0.04623, params: {'criterion': 'gini', 'max_depth': 3, 'max_features': 'log2', 'n_estimators': 700},\n",
       " mean: 0.60754, std: 0.04600, params: {'criterion': 'gini', 'max_depth': 3, 'max_features': 'log2', 'n_estimators': 800},\n",
       " mean: 0.60675, std: 0.04438, params: {'criterion': 'gini', 'max_depth': 3, 'max_features': 'log2', 'n_estimators': 1000},\n",
       " mean: 0.64630, std: 0.04442, params: {'criterion': 'gini', 'max_depth': 5, 'max_features': 'sqrt', 'n_estimators': 50},\n",
       " mean: 0.65073, std: 0.04562, params: {'criterion': 'gini', 'max_depth': 5, 'max_features': 'sqrt', 'n_estimators': 100},\n",
       " mean: 0.65205, std: 0.04428, params: {'criterion': 'gini', 'max_depth': 5, 'max_features': 'sqrt', 'n_estimators': 200},\n",
       " mean: 0.65351, std: 0.04579, params: {'criterion': 'gini', 'max_depth': 5, 'max_features': 'sqrt', 'n_estimators': 300},\n",
       " mean: 0.65317, std: 0.04379, params: {'criterion': 'gini', 'max_depth': 5, 'max_features': 'sqrt', 'n_estimators': 500},\n",
       " mean: 0.65437, std: 0.04506, params: {'criterion': 'gini', 'max_depth': 5, 'max_features': 'sqrt', 'n_estimators': 700},\n",
       " mean: 0.65344, std: 0.04541, params: {'criterion': 'gini', 'max_depth': 5, 'max_features': 'sqrt', 'n_estimators': 800},\n",
       " mean: 0.65265, std: 0.04496, params: {'criterion': 'gini', 'max_depth': 5, 'max_features': 'sqrt', 'n_estimators': 1000},\n",
       " mean: 0.64636, std: 0.04415, params: {'criterion': 'gini', 'max_depth': 5, 'max_features': 'log2', 'n_estimators': 50},\n",
       " mean: 0.64841, std: 0.04587, params: {'criterion': 'gini', 'max_depth': 5, 'max_features': 'log2', 'n_estimators': 100},\n",
       " mean: 0.64967, std: 0.04362, params: {'criterion': 'gini', 'max_depth': 5, 'max_features': 'log2', 'n_estimators': 200},\n",
       " mean: 0.65139, std: 0.04513, params: {'criterion': 'gini', 'max_depth': 5, 'max_features': 'log2', 'n_estimators': 300},\n",
       " mean: 0.65079, std: 0.04517, params: {'criterion': 'gini', 'max_depth': 5, 'max_features': 'log2', 'n_estimators': 500},\n",
       " mean: 0.65198, std: 0.04539, params: {'criterion': 'gini', 'max_depth': 5, 'max_features': 'log2', 'n_estimators': 700},\n",
       " mean: 0.64987, std: 0.04674, params: {'criterion': 'gini', 'max_depth': 5, 'max_features': 'log2', 'n_estimators': 800},\n",
       " mean: 0.65020, std: 0.04608, params: {'criterion': 'gini', 'max_depth': 5, 'max_features': 'log2', 'n_estimators': 1000},\n",
       " mean: 0.41673, std: 0.02867, params: {'criterion': 'entropy', 'max_depth': 1, 'max_features': 'sqrt', 'n_estimators': 50},\n",
       " mean: 0.42725, std: 0.02801, params: {'criterion': 'entropy', 'max_depth': 1, 'max_features': 'sqrt', 'n_estimators': 100},\n",
       " mean: 0.42778, std: 0.02316, params: {'criterion': 'entropy', 'max_depth': 1, 'max_features': 'sqrt', 'n_estimators': 200},\n",
       " mean: 0.44689, std: 0.02621, params: {'criterion': 'entropy', 'max_depth': 1, 'max_features': 'sqrt', 'n_estimators': 300},\n",
       " mean: 0.45053, std: 0.02846, params: {'criterion': 'entropy', 'max_depth': 1, 'max_features': 'sqrt', 'n_estimators': 500},\n",
       " mean: 0.45298, std: 0.03844, params: {'criterion': 'entropy', 'max_depth': 1, 'max_features': 'sqrt', 'n_estimators': 700},\n",
       " mean: 0.45503, std: 0.03679, params: {'criterion': 'entropy', 'max_depth': 1, 'max_features': 'sqrt', 'n_estimators': 800},\n",
       " mean: 0.45317, std: 0.03678, params: {'criterion': 'entropy', 'max_depth': 1, 'max_features': 'sqrt', 'n_estimators': 1000},\n",
       " mean: 0.44722, std: 0.03620, params: {'criterion': 'entropy', 'max_depth': 1, 'max_features': 'log2', 'n_estimators': 50},\n",
       " mean: 0.45999, std: 0.03277, params: {'criterion': 'entropy', 'max_depth': 1, 'max_features': 'log2', 'n_estimators': 100},\n",
       " mean: 0.47090, std: 0.04274, params: {'criterion': 'entropy', 'max_depth': 1, 'max_features': 'log2', 'n_estimators': 200},\n",
       " mean: 0.48962, std: 0.03909, params: {'criterion': 'entropy', 'max_depth': 1, 'max_features': 'log2', 'n_estimators': 300},\n",
       " mean: 0.48472, std: 0.04263, params: {'criterion': 'entropy', 'max_depth': 1, 'max_features': 'log2', 'n_estimators': 500},\n",
       " mean: 0.48995, std: 0.04676, params: {'criterion': 'entropy', 'max_depth': 1, 'max_features': 'log2', 'n_estimators': 700},\n",
       " mean: 0.48816, std: 0.04518, params: {'criterion': 'entropy', 'max_depth': 1, 'max_features': 'log2', 'n_estimators': 800},\n",
       " mean: 0.49061, std: 0.04067, params: {'criterion': 'entropy', 'max_depth': 1, 'max_features': 'log2', 'n_estimators': 1000},\n",
       " mean: 0.59563, std: 0.03141, params: {'criterion': 'entropy', 'max_depth': 3, 'max_features': 'sqrt', 'n_estimators': 50},\n",
       " mean: 0.59854, std: 0.02861, params: {'criterion': 'entropy', 'max_depth': 3, 'max_features': 'sqrt', 'n_estimators': 100},\n",
       " mean: 0.59444, std: 0.03387, params: {'criterion': 'entropy', 'max_depth': 3, 'max_features': 'sqrt', 'n_estimators': 200},\n",
       " mean: 0.59583, std: 0.03645, params: {'criterion': 'entropy', 'max_depth': 3, 'max_features': 'sqrt', 'n_estimators': 300},\n",
       " mean: 0.59696, std: 0.03620, params: {'criterion': 'entropy', 'max_depth': 3, 'max_features': 'sqrt', 'n_estimators': 500},\n",
       " mean: 0.59636, std: 0.03347, params: {'criterion': 'entropy', 'max_depth': 3, 'max_features': 'sqrt', 'n_estimators': 700},\n",
       " mean: 0.59557, std: 0.03404, params: {'criterion': 'entropy', 'max_depth': 3, 'max_features': 'sqrt', 'n_estimators': 800},\n",
       " mean: 0.59656, std: 0.03452, params: {'criterion': 'entropy', 'max_depth': 3, 'max_features': 'sqrt', 'n_estimators': 1000},\n",
       " mean: 0.59286, std: 0.02339, params: {'criterion': 'entropy', 'max_depth': 3, 'max_features': 'log2', 'n_estimators': 50},\n",
       " mean: 0.59583, std: 0.02286, params: {'criterion': 'entropy', 'max_depth': 3, 'max_features': 'log2', 'n_estimators': 100},\n",
       " mean: 0.59471, std: 0.03250, params: {'criterion': 'entropy', 'max_depth': 3, 'max_features': 'log2', 'n_estimators': 200},\n",
       " mean: 0.59954, std: 0.03452, params: {'criterion': 'entropy', 'max_depth': 3, 'max_features': 'log2', 'n_estimators': 300},\n",
       " mean: 0.59451, std: 0.03507, params: {'criterion': 'entropy', 'max_depth': 3, 'max_features': 'log2', 'n_estimators': 500},\n",
       " mean: 0.59775, std: 0.03684, params: {'criterion': 'entropy', 'max_depth': 3, 'max_features': 'log2', 'n_estimators': 700},\n",
       " mean: 0.59769, std: 0.03645, params: {'criterion': 'entropy', 'max_depth': 3, 'max_features': 'log2', 'n_estimators': 800},\n",
       " mean: 0.59630, std: 0.03569, params: {'criterion': 'entropy', 'max_depth': 3, 'max_features': 'log2', 'n_estimators': 1000},\n",
       " mean: 0.65007, std: 0.04248, params: {'criterion': 'entropy', 'max_depth': 5, 'max_features': 'sqrt', 'n_estimators': 50},\n",
       " mean: 0.63935, std: 0.04576, params: {'criterion': 'entropy', 'max_depth': 5, 'max_features': 'sqrt', 'n_estimators': 100},\n",
       " mean: 0.63882, std: 0.04823, params: {'criterion': 'entropy', 'max_depth': 5, 'max_features': 'sqrt', 'n_estimators': 200},\n",
       " mean: 0.63981, std: 0.05022, params: {'criterion': 'entropy', 'max_depth': 5, 'max_features': 'sqrt', 'n_estimators': 300},\n",
       " mean: 0.63942, std: 0.05102, params: {'criterion': 'entropy', 'max_depth': 5, 'max_features': 'sqrt', 'n_estimators': 500},\n",
       " mean: 0.64074, std: 0.05114, params: {'criterion': 'entropy', 'max_depth': 5, 'max_features': 'sqrt', 'n_estimators': 700},\n",
       " mean: 0.64021, std: 0.05062, params: {'criterion': 'entropy', 'max_depth': 5, 'max_features': 'sqrt', 'n_estimators': 800},\n",
       " mean: 0.64114, std: 0.05023, params: {'criterion': 'entropy', 'max_depth': 5, 'max_features': 'sqrt', 'n_estimators': 1000},\n",
       " mean: 0.62937, std: 0.05387, params: {'criterion': 'entropy', 'max_depth': 5, 'max_features': 'log2', 'n_estimators': 50},\n",
       " mean: 0.63862, std: 0.04983, params: {'criterion': 'entropy', 'max_depth': 5, 'max_features': 'log2', 'n_estimators': 100},\n",
       " mean: 0.63433, std: 0.04483, params: {'criterion': 'entropy', 'max_depth': 5, 'max_features': 'log2', 'n_estimators': 200},\n",
       " mean: 0.63823, std: 0.04595, params: {'criterion': 'entropy', 'max_depth': 5, 'max_features': 'log2', 'n_estimators': 300},\n",
       " mean: 0.63843, std: 0.04461, params: {'criterion': 'entropy', 'max_depth': 5, 'max_features': 'log2', 'n_estimators': 500},\n",
       " mean: 0.64061, std: 0.04507, params: {'criterion': 'entropy', 'max_depth': 5, 'max_features': 'log2', 'n_estimators': 700},\n",
       " mean: 0.63783, std: 0.04631, params: {'criterion': 'entropy', 'max_depth': 5, 'max_features': 'log2', 'n_estimators': 800},\n",
       " mean: 0.63803, std: 0.04705, params: {'criterion': 'entropy', 'max_depth': 5, 'max_features': 'log2', 'n_estimators': 1000}]"
      ]
     },
     "execution_count": 43,
     "metadata": {},
     "output_type": "execute_result"
    }
   ],
   "source": [
    "optimized_kaggle_cv5_RF.grid_scores_"
   ]
  },
  {
   "cell_type": "code",
   "execution_count": 44,
   "metadata": {},
   "outputs": [
    {
     "name": "stdout",
     "output_type": "stream",
     "text": [
      "Total time: 1476 sec\n"
     ]
    }
   ],
   "source": [
    "t1 = datetime.now()\n",
    "hyperparameters = {'max_depth': [1,3,5],\n",
    "    'n_estimators': [50, 100, 200, 300, 500, 700, 800, 1000],\n",
    "    'criterion': ['gini', 'entropy'],\n",
    "    'max_features': ['sqrt', 'log2']\n",
    "}\n",
    "optimized_kaggle_cv10_RF = GridSearchCV(RandomForestClassifier(random_state=0), hyperparameters, cv=10, n_jobs=-1)\n",
    "optimized_kaggle_cv10_RF.fit(X_kaggle, y_train)\n",
    "t2 = datetime.now()\n",
    "print (\"Total time: %i sec\" %(t2-t1).seconds)"
   ]
  },
  {
   "cell_type": "code",
   "execution_count": 71,
   "metadata": {
    "collapsed": true
   },
   "outputs": [],
   "source": [
    "models.append(('optimized_kaggle_cv10_RF',optimized_kaggle_cv10_RF))"
   ]
  },
  {
   "cell_type": "code",
   "execution_count": 46,
   "metadata": {},
   "outputs": [
    {
     "name": "stderr",
     "output_type": "stream",
     "text": [
      "//anaconda/envs/py36/lib/python3.6/site-packages/sklearn/model_selection/_search.py:667: DeprecationWarning: The grid_scores_ attribute was deprecated in version 0.18 in favor of the more elaborate cv_results_ attribute. The grid_scores_ attribute will not be available from 0.20\n",
      "  DeprecationWarning)\n"
     ]
    },
    {
     "data": {
      "text/plain": [
       "[mean: 0.44974, std: 0.04753, params: {'criterion': 'gini', 'max_depth': 1, 'max_features': 'sqrt', 'n_estimators': 50},\n",
       " mean: 0.46561, std: 0.05157, params: {'criterion': 'gini', 'max_depth': 1, 'max_features': 'sqrt', 'n_estimators': 100},\n",
       " mean: 0.48426, std: 0.04744, params: {'criterion': 'gini', 'max_depth': 1, 'max_features': 'sqrt', 'n_estimators': 200},\n",
       " mean: 0.48228, std: 0.05189, params: {'criterion': 'gini', 'max_depth': 1, 'max_features': 'sqrt', 'n_estimators': 300},\n",
       " mean: 0.48307, std: 0.05616, params: {'criterion': 'gini', 'max_depth': 1, 'max_features': 'sqrt', 'n_estimators': 500},\n",
       " mean: 0.48406, std: 0.05590, params: {'criterion': 'gini', 'max_depth': 1, 'max_features': 'sqrt', 'n_estimators': 700},\n",
       " mean: 0.48697, std: 0.05471, params: {'criterion': 'gini', 'max_depth': 1, 'max_features': 'sqrt', 'n_estimators': 800},\n",
       " mean: 0.48724, std: 0.05301, params: {'criterion': 'gini', 'max_depth': 1, 'max_features': 'sqrt', 'n_estimators': 1000},\n",
       " mean: 0.47930, std: 0.03956, params: {'criterion': 'gini', 'max_depth': 1, 'max_features': 'log2', 'n_estimators': 50},\n",
       " mean: 0.49411, std: 0.04134, params: {'criterion': 'gini', 'max_depth': 1, 'max_features': 'log2', 'n_estimators': 100},\n",
       " mean: 0.50985, std: 0.04679, params: {'criterion': 'gini', 'max_depth': 1, 'max_features': 'log2', 'n_estimators': 200},\n",
       " mean: 0.52361, std: 0.05633, params: {'criterion': 'gini', 'max_depth': 1, 'max_features': 'log2', 'n_estimators': 300},\n",
       " mean: 0.50542, std: 0.05565, params: {'criterion': 'gini', 'max_depth': 1, 'max_features': 'log2', 'n_estimators': 500},\n",
       " mean: 0.51303, std: 0.05119, params: {'criterion': 'gini', 'max_depth': 1, 'max_features': 'log2', 'n_estimators': 700},\n",
       " mean: 0.51250, std: 0.04891, params: {'criterion': 'gini', 'max_depth': 1, 'max_features': 'log2', 'n_estimators': 800},\n",
       " mean: 0.50979, std: 0.05083, params: {'criterion': 'gini', 'max_depth': 1, 'max_features': 'log2', 'n_estimators': 1000},\n",
       " mean: 0.61038, std: 0.06626, params: {'criterion': 'gini', 'max_depth': 3, 'max_features': 'sqrt', 'n_estimators': 50},\n",
       " mean: 0.61515, std: 0.06904, params: {'criterion': 'gini', 'max_depth': 3, 'max_features': 'sqrt', 'n_estimators': 100},\n",
       " mean: 0.61534, std: 0.06841, params: {'criterion': 'gini', 'max_depth': 3, 'max_features': 'sqrt', 'n_estimators': 200},\n",
       " mean: 0.62189, std: 0.07217, params: {'criterion': 'gini', 'max_depth': 3, 'max_features': 'sqrt', 'n_estimators': 300},\n",
       " mean: 0.61951, std: 0.07117, params: {'criterion': 'gini', 'max_depth': 3, 'max_features': 'sqrt', 'n_estimators': 500},\n",
       " mean: 0.61958, std: 0.07080, params: {'criterion': 'gini', 'max_depth': 3, 'max_features': 'sqrt', 'n_estimators': 700},\n",
       " mean: 0.61806, std: 0.07059, params: {'criterion': 'gini', 'max_depth': 3, 'max_features': 'sqrt', 'n_estimators': 800},\n",
       " mean: 0.61944, std: 0.07101, params: {'criterion': 'gini', 'max_depth': 3, 'max_features': 'sqrt', 'n_estimators': 1000},\n",
       " mean: 0.60192, std: 0.06194, params: {'criterion': 'gini', 'max_depth': 3, 'max_features': 'log2', 'n_estimators': 50},\n",
       " mean: 0.60648, std: 0.06503, params: {'criterion': 'gini', 'max_depth': 3, 'max_features': 'log2', 'n_estimators': 100},\n",
       " mean: 0.60800, std: 0.06768, params: {'criterion': 'gini', 'max_depth': 3, 'max_features': 'log2', 'n_estimators': 200},\n",
       " mean: 0.61455, std: 0.06561, params: {'criterion': 'gini', 'max_depth': 3, 'max_features': 'log2', 'n_estimators': 300},\n",
       " mean: 0.61329, std: 0.06574, params: {'criterion': 'gini', 'max_depth': 3, 'max_features': 'log2', 'n_estimators': 500},\n",
       " mean: 0.61680, std: 0.06871, params: {'criterion': 'gini', 'max_depth': 3, 'max_features': 'log2', 'n_estimators': 700},\n",
       " mean: 0.61587, std: 0.06810, params: {'criterion': 'gini', 'max_depth': 3, 'max_features': 'log2', 'n_estimators': 800},\n",
       " mean: 0.61435, std: 0.06793, params: {'criterion': 'gini', 'max_depth': 3, 'max_features': 'log2', 'n_estimators': 1000},\n",
       " mean: 0.65489, std: 0.07178, params: {'criterion': 'gini', 'max_depth': 5, 'max_features': 'sqrt', 'n_estimators': 50},\n",
       " mean: 0.66052, std: 0.06432, params: {'criterion': 'gini', 'max_depth': 5, 'max_features': 'sqrt', 'n_estimators': 100},\n",
       " mean: 0.66343, std: 0.06198, params: {'criterion': 'gini', 'max_depth': 5, 'max_features': 'sqrt', 'n_estimators': 200},\n",
       " mean: 0.66700, std: 0.05865, params: {'criterion': 'gini', 'max_depth': 5, 'max_features': 'sqrt', 'n_estimators': 300},\n",
       " mean: 0.66230, std: 0.06444, params: {'criterion': 'gini', 'max_depth': 5, 'max_features': 'sqrt', 'n_estimators': 500},\n",
       " mean: 0.66402, std: 0.06535, params: {'criterion': 'gini', 'max_depth': 5, 'max_features': 'sqrt', 'n_estimators': 700},\n",
       " mean: 0.66316, std: 0.06677, params: {'criterion': 'gini', 'max_depth': 5, 'max_features': 'sqrt', 'n_estimators': 800},\n",
       " mean: 0.66349, std: 0.06499, params: {'criterion': 'gini', 'max_depth': 5, 'max_features': 'sqrt', 'n_estimators': 1000},\n",
       " mean: 0.66164, std: 0.06857, params: {'criterion': 'gini', 'max_depth': 5, 'max_features': 'log2', 'n_estimators': 50},\n",
       " mean: 0.65794, std: 0.06868, params: {'criterion': 'gini', 'max_depth': 5, 'max_features': 'log2', 'n_estimators': 100},\n",
       " mean: 0.65443, std: 0.06151, params: {'criterion': 'gini', 'max_depth': 5, 'max_features': 'log2', 'n_estimators': 200},\n",
       " mean: 0.65820, std: 0.06546, params: {'criterion': 'gini', 'max_depth': 5, 'max_features': 'log2', 'n_estimators': 300},\n",
       " mean: 0.65959, std: 0.06386, params: {'criterion': 'gini', 'max_depth': 5, 'max_features': 'log2', 'n_estimators': 500},\n",
       " mean: 0.66019, std: 0.06302, params: {'criterion': 'gini', 'max_depth': 5, 'max_features': 'log2', 'n_estimators': 700},\n",
       " mean: 0.65813, std: 0.06296, params: {'criterion': 'gini', 'max_depth': 5, 'max_features': 'log2', 'n_estimators': 800},\n",
       " mean: 0.65847, std: 0.06203, params: {'criterion': 'gini', 'max_depth': 5, 'max_features': 'log2', 'n_estimators': 1000},\n",
       " mean: 0.40794, std: 0.03837, params: {'criterion': 'entropy', 'max_depth': 1, 'max_features': 'sqrt', 'n_estimators': 50},\n",
       " mean: 0.40992, std: 0.03677, params: {'criterion': 'entropy', 'max_depth': 1, 'max_features': 'sqrt', 'n_estimators': 100},\n",
       " mean: 0.43181, std: 0.04126, params: {'criterion': 'entropy', 'max_depth': 1, 'max_features': 'sqrt', 'n_estimators': 200},\n",
       " mean: 0.44458, std: 0.03810, params: {'criterion': 'entropy', 'max_depth': 1, 'max_features': 'sqrt', 'n_estimators': 300},\n",
       " mean: 0.43796, std: 0.03702, params: {'criterion': 'entropy', 'max_depth': 1, 'max_features': 'sqrt', 'n_estimators': 500},\n",
       " mean: 0.46184, std: 0.03814, params: {'criterion': 'entropy', 'max_depth': 1, 'max_features': 'sqrt', 'n_estimators': 700},\n",
       " mean: 0.47130, std: 0.03944, params: {'criterion': 'entropy', 'max_depth': 1, 'max_features': 'sqrt', 'n_estimators': 800},\n",
       " mean: 0.46594, std: 0.03709, params: {'criterion': 'entropy', 'max_depth': 1, 'max_features': 'sqrt', 'n_estimators': 1000},\n",
       " mean: 0.46197, std: 0.04105, params: {'criterion': 'entropy', 'max_depth': 1, 'max_features': 'log2', 'n_estimators': 50},\n",
       " mean: 0.45509, std: 0.03857, params: {'criterion': 'entropy', 'max_depth': 1, 'max_features': 'log2', 'n_estimators': 100},\n",
       " mean: 0.49372, std: 0.04249, params: {'criterion': 'entropy', 'max_depth': 1, 'max_features': 'log2', 'n_estimators': 200},\n",
       " mean: 0.49927, std: 0.03998, params: {'criterion': 'entropy', 'max_depth': 1, 'max_features': 'log2', 'n_estimators': 300},\n",
       " mean: 0.49286, std: 0.04436, params: {'criterion': 'entropy', 'max_depth': 1, 'max_features': 'log2', 'n_estimators': 500},\n",
       " mean: 0.50734, std: 0.04659, params: {'criterion': 'entropy', 'max_depth': 1, 'max_features': 'log2', 'n_estimators': 700},\n",
       " mean: 0.50721, std: 0.04659, params: {'criterion': 'entropy', 'max_depth': 1, 'max_features': 'log2', 'n_estimators': 800},\n",
       " mean: 0.50522, std: 0.04969, params: {'criterion': 'entropy', 'max_depth': 1, 'max_features': 'log2', 'n_estimators': 1000},\n",
       " mean: 0.60033, std: 0.06016, params: {'criterion': 'entropy', 'max_depth': 3, 'max_features': 'sqrt', 'n_estimators': 50},\n",
       " mean: 0.60370, std: 0.06117, params: {'criterion': 'entropy', 'max_depth': 3, 'max_features': 'sqrt', 'n_estimators': 100},\n",
       " mean: 0.60205, std: 0.06403, params: {'criterion': 'entropy', 'max_depth': 3, 'max_features': 'sqrt', 'n_estimators': 200},\n",
       " mean: 0.60516, std: 0.06721, params: {'criterion': 'entropy', 'max_depth': 3, 'max_features': 'sqrt', 'n_estimators': 300},\n",
       " mean: 0.60675, std: 0.06522, params: {'criterion': 'entropy', 'max_depth': 3, 'max_features': 'sqrt', 'n_estimators': 500},\n",
       " mean: 0.60668, std: 0.06691, params: {'criterion': 'entropy', 'max_depth': 3, 'max_features': 'sqrt', 'n_estimators': 700},\n",
       " mean: 0.60661, std: 0.06926, params: {'criterion': 'entropy', 'max_depth': 3, 'max_features': 'sqrt', 'n_estimators': 800},\n",
       " mean: 0.60675, std: 0.06827, params: {'criterion': 'entropy', 'max_depth': 3, 'max_features': 'sqrt', 'n_estimators': 1000},\n",
       " mean: 0.59762, std: 0.05775, params: {'criterion': 'entropy', 'max_depth': 3, 'max_features': 'log2', 'n_estimators': 50},\n",
       " mean: 0.60053, std: 0.05824, params: {'criterion': 'entropy', 'max_depth': 3, 'max_features': 'log2', 'n_estimators': 100},\n",
       " mean: 0.60126, std: 0.06518, params: {'criterion': 'entropy', 'max_depth': 3, 'max_features': 'log2', 'n_estimators': 200},\n",
       " mean: 0.60139, std: 0.06580, params: {'criterion': 'entropy', 'max_depth': 3, 'max_features': 'log2', 'n_estimators': 300},\n",
       " mean: 0.60278, std: 0.06438, params: {'criterion': 'entropy', 'max_depth': 3, 'max_features': 'log2', 'n_estimators': 500},\n",
       " mean: 0.60430, std: 0.06718, params: {'criterion': 'entropy', 'max_depth': 3, 'max_features': 'log2', 'n_estimators': 700},\n",
       " mean: 0.60403, std: 0.06685, params: {'criterion': 'entropy', 'max_depth': 3, 'max_features': 'log2', 'n_estimators': 800},\n",
       " mean: 0.60265, std: 0.06590, params: {'criterion': 'entropy', 'max_depth': 3, 'max_features': 'log2', 'n_estimators': 1000},\n",
       " mean: 0.65126, std: 0.06625, params: {'criterion': 'entropy', 'max_depth': 5, 'max_features': 'sqrt', 'n_estimators': 50},\n",
       " mean: 0.65919, std: 0.06267, params: {'criterion': 'entropy', 'max_depth': 5, 'max_features': 'sqrt', 'n_estimators': 100},\n",
       " mean: 0.65324, std: 0.06288, params: {'criterion': 'entropy', 'max_depth': 5, 'max_features': 'sqrt', 'n_estimators': 200},\n",
       " mean: 0.65437, std: 0.06201, params: {'criterion': 'entropy', 'max_depth': 5, 'max_features': 'sqrt', 'n_estimators': 300},\n",
       " mean: 0.65556, std: 0.06326, params: {'criterion': 'entropy', 'max_depth': 5, 'max_features': 'sqrt', 'n_estimators': 500},\n",
       " mean: 0.65589, std: 0.06326, params: {'criterion': 'entropy', 'max_depth': 5, 'max_features': 'sqrt', 'n_estimators': 700},\n",
       " mean: 0.65489, std: 0.06531, params: {'criterion': 'entropy', 'max_depth': 5, 'max_features': 'sqrt', 'n_estimators': 800},\n",
       " mean: 0.65562, std: 0.06480, params: {'criterion': 'entropy', 'max_depth': 5, 'max_features': 'sqrt', 'n_estimators': 1000},\n",
       " mean: 0.63638, std: 0.07123, params: {'criterion': 'entropy', 'max_depth': 5, 'max_features': 'log2', 'n_estimators': 50},\n",
       " mean: 0.64577, std: 0.06493, params: {'criterion': 'entropy', 'max_depth': 5, 'max_features': 'log2', 'n_estimators': 100},\n",
       " mean: 0.64544, std: 0.06471, params: {'criterion': 'entropy', 'max_depth': 5, 'max_features': 'log2', 'n_estimators': 200},\n",
       " mean: 0.64716, std: 0.06655, params: {'criterion': 'entropy', 'max_depth': 5, 'max_features': 'log2', 'n_estimators': 300},\n",
       " mean: 0.64821, std: 0.06570, params: {'criterion': 'entropy', 'max_depth': 5, 'max_features': 'log2', 'n_estimators': 500},\n",
       " mean: 0.65046, std: 0.06499, params: {'criterion': 'entropy', 'max_depth': 5, 'max_features': 'log2', 'n_estimators': 700},\n",
       " mean: 0.64987, std: 0.06644, params: {'criterion': 'entropy', 'max_depth': 5, 'max_features': 'log2', 'n_estimators': 800},\n",
       " mean: 0.65020, std: 0.06589, params: {'criterion': 'entropy', 'max_depth': 5, 'max_features': 'log2', 'n_estimators': 1000}]"
      ]
     },
     "execution_count": 46,
     "metadata": {},
     "output_type": "execute_result"
    }
   ],
   "source": [
    "optimized_kaggle_cv10_RF.grid_scores_"
   ]
  },
  {
   "cell_type": "code",
   "execution_count": 47,
   "metadata": {},
   "outputs": [
    {
     "name": "stdout",
     "output_type": "stream",
     "text": [
      "Total time: 752 sec\n"
     ]
    }
   ],
   "source": [
    "t1 = datetime.now()\n",
    "hyperparameters = {'max_depth': [1,3,5],\n",
    "    'n_estimators': [50, 100, 200, 300, 500, 700, 800, 1000],\n",
    "    'criterion': ['gini', 'entropy'],\n",
    "    'max_features': ['sqrt', 'log2']\n",
    "}\n",
    "optimized_base_cv5_RF = GridSearchCV(RandomForestClassifier(random_state=0), hyperparameters, cv=5, n_jobs=-1)\n",
    "optimized_base_cv5_RF.fit(X_base, y_train)\n",
    "t2 = datetime.now()\n",
    "print (\"Total time: %i sec\" %(t2-t1).seconds)"
   ]
  },
  {
   "cell_type": "code",
   "execution_count": 72,
   "metadata": {
    "collapsed": true
   },
   "outputs": [],
   "source": [
    "models.append(('optimized_base_cv5_RF',optimized_base_cv5_RF))"
   ]
  },
  {
   "cell_type": "code",
   "execution_count": 50,
   "metadata": {},
   "outputs": [
    {
     "name": "stderr",
     "output_type": "stream",
     "text": [
      "//anaconda/envs/py36/lib/python3.6/site-packages/sklearn/model_selection/_search.py:667: DeprecationWarning: The grid_scores_ attribute was deprecated in version 0.18 in favor of the more elaborate cv_results_ attribute. The grid_scores_ attribute will not be available from 0.20\n",
      "  DeprecationWarning)\n"
     ]
    },
    {
     "data": {
      "text/plain": [
       "[mean: 0.49914, std: 0.02765, params: {'criterion': 'gini', 'max_depth': 1, 'max_features': 'sqrt', 'n_estimators': 50},\n",
       " mean: 0.47791, std: 0.02382, params: {'criterion': 'gini', 'max_depth': 1, 'max_features': 'sqrt', 'n_estimators': 100},\n",
       " mean: 0.47394, std: 0.02268, params: {'criterion': 'gini', 'max_depth': 1, 'max_features': 'sqrt', 'n_estimators': 200},\n",
       " mean: 0.47235, std: 0.02107, params: {'criterion': 'gini', 'max_depth': 1, 'max_features': 'sqrt', 'n_estimators': 300},\n",
       " mean: 0.47884, std: 0.02503, params: {'criterion': 'gini', 'max_depth': 1, 'max_features': 'sqrt', 'n_estimators': 500},\n",
       " mean: 0.48247, std: 0.02761, params: {'criterion': 'gini', 'max_depth': 1, 'max_features': 'sqrt', 'n_estimators': 700},\n",
       " mean: 0.48889, std: 0.03671, params: {'criterion': 'gini', 'max_depth': 1, 'max_features': 'sqrt', 'n_estimators': 800},\n",
       " mean: 0.49253, std: 0.03487, params: {'criterion': 'gini', 'max_depth': 1, 'max_features': 'sqrt', 'n_estimators': 1000},\n",
       " mean: 0.51938, std: 0.04499, params: {'criterion': 'gini', 'max_depth': 1, 'max_features': 'log2', 'n_estimators': 50},\n",
       " mean: 0.51792, std: 0.03158, params: {'criterion': 'gini', 'max_depth': 1, 'max_features': 'log2', 'n_estimators': 100},\n",
       " mean: 0.53882, std: 0.04926, params: {'criterion': 'gini', 'max_depth': 1, 'max_features': 'log2', 'n_estimators': 200},\n",
       " mean: 0.53472, std: 0.04477, params: {'criterion': 'gini', 'max_depth': 1, 'max_features': 'log2', 'n_estimators': 300},\n",
       " mean: 0.53770, std: 0.04705, params: {'criterion': 'gini', 'max_depth': 1, 'max_features': 'log2', 'n_estimators': 500},\n",
       " mean: 0.53638, std: 0.04641, params: {'criterion': 'gini', 'max_depth': 1, 'max_features': 'log2', 'n_estimators': 700},\n",
       " mean: 0.53538, std: 0.04662, params: {'criterion': 'gini', 'max_depth': 1, 'max_features': 'log2', 'n_estimators': 800},\n",
       " mean: 0.53796, std: 0.04788, params: {'criterion': 'gini', 'max_depth': 1, 'max_features': 'log2', 'n_estimators': 1000},\n",
       " mean: 0.58300, std: 0.04889, params: {'criterion': 'gini', 'max_depth': 3, 'max_features': 'sqrt', 'n_estimators': 50},\n",
       " mean: 0.59319, std: 0.04752, params: {'criterion': 'gini', 'max_depth': 3, 'max_features': 'sqrt', 'n_estimators': 100},\n",
       " mean: 0.58770, std: 0.03993, params: {'criterion': 'gini', 'max_depth': 3, 'max_features': 'sqrt', 'n_estimators': 200},\n",
       " mean: 0.58459, std: 0.04353, params: {'criterion': 'gini', 'max_depth': 3, 'max_features': 'sqrt', 'n_estimators': 300},\n",
       " mean: 0.58902, std: 0.04905, params: {'criterion': 'gini', 'max_depth': 3, 'max_features': 'sqrt', 'n_estimators': 500},\n",
       " mean: 0.58770, std: 0.04964, params: {'criterion': 'gini', 'max_depth': 3, 'max_features': 'sqrt', 'n_estimators': 700},\n",
       " mean: 0.58889, std: 0.04940, params: {'criterion': 'gini', 'max_depth': 3, 'max_features': 'sqrt', 'n_estimators': 800},\n",
       " mean: 0.58843, std: 0.04945, params: {'criterion': 'gini', 'max_depth': 3, 'max_features': 'sqrt', 'n_estimators': 1000},\n",
       " mean: 0.58505, std: 0.03928, params: {'criterion': 'gini', 'max_depth': 3, 'max_features': 'log2', 'n_estimators': 50},\n",
       " mean: 0.58618, std: 0.04346, params: {'criterion': 'gini', 'max_depth': 3, 'max_features': 'log2', 'n_estimators': 100},\n",
       " mean: 0.59292, std: 0.04172, params: {'criterion': 'gini', 'max_depth': 3, 'max_features': 'log2', 'n_estimators': 200},\n",
       " mean: 0.59438, std: 0.04012, params: {'criterion': 'gini', 'max_depth': 3, 'max_features': 'log2', 'n_estimators': 300},\n",
       " mean: 0.59689, std: 0.03877, params: {'criterion': 'gini', 'max_depth': 3, 'max_features': 'log2', 'n_estimators': 500},\n",
       " mean: 0.59636, std: 0.03891, params: {'criterion': 'gini', 'max_depth': 3, 'max_features': 'log2', 'n_estimators': 700},\n",
       " mean: 0.59716, std: 0.03743, params: {'criterion': 'gini', 'max_depth': 3, 'max_features': 'log2', 'n_estimators': 800},\n",
       " mean: 0.59616, std: 0.03823, params: {'criterion': 'gini', 'max_depth': 3, 'max_features': 'log2', 'n_estimators': 1000},\n",
       " mean: 0.64074, std: 0.04677, params: {'criterion': 'gini', 'max_depth': 5, 'max_features': 'sqrt', 'n_estimators': 50},\n",
       " mean: 0.64835, std: 0.04439, params: {'criterion': 'gini', 'max_depth': 5, 'max_features': 'sqrt', 'n_estimators': 100},\n",
       " mean: 0.64319, std: 0.05219, params: {'criterion': 'gini', 'max_depth': 5, 'max_features': 'sqrt', 'n_estimators': 200},\n",
       " mean: 0.64385, std: 0.05255, params: {'criterion': 'gini', 'max_depth': 5, 'max_features': 'sqrt', 'n_estimators': 300},\n",
       " mean: 0.64821, std: 0.04615, params: {'criterion': 'gini', 'max_depth': 5, 'max_features': 'sqrt', 'n_estimators': 500},\n",
       " mean: 0.64874, std: 0.04614, params: {'criterion': 'gini', 'max_depth': 5, 'max_features': 'sqrt', 'n_estimators': 700},\n",
       " mean: 0.64921, std: 0.04632, params: {'criterion': 'gini', 'max_depth': 5, 'max_features': 'sqrt', 'n_estimators': 800},\n",
       " mean: 0.64914, std: 0.04422, params: {'criterion': 'gini', 'max_depth': 5, 'max_features': 'sqrt', 'n_estimators': 1000},\n",
       " mean: 0.63565, std: 0.03993, params: {'criterion': 'gini', 'max_depth': 5, 'max_features': 'log2', 'n_estimators': 50},\n",
       " mean: 0.63638, std: 0.04135, params: {'criterion': 'gini', 'max_depth': 5, 'max_features': 'log2', 'n_estimators': 100},\n",
       " mean: 0.64312, std: 0.04126, params: {'criterion': 'gini', 'max_depth': 5, 'max_features': 'log2', 'n_estimators': 200},\n",
       " mean: 0.64021, std: 0.04247, params: {'criterion': 'gini', 'max_depth': 5, 'max_features': 'log2', 'n_estimators': 300},\n",
       " mean: 0.63796, std: 0.04619, params: {'criterion': 'gini', 'max_depth': 5, 'max_features': 'log2', 'n_estimators': 500},\n",
       " mean: 0.64140, std: 0.04553, params: {'criterion': 'gini', 'max_depth': 5, 'max_features': 'log2', 'n_estimators': 700},\n",
       " mean: 0.64015, std: 0.04643, params: {'criterion': 'gini', 'max_depth': 5, 'max_features': 'log2', 'n_estimators': 800},\n",
       " mean: 0.63988, std: 0.04898, params: {'criterion': 'gini', 'max_depth': 5, 'max_features': 'log2', 'n_estimators': 1000},\n",
       " mean: 0.48843, std: 0.02943, params: {'criterion': 'entropy', 'max_depth': 1, 'max_features': 'sqrt', 'n_estimators': 50},\n",
       " mean: 0.47302, std: 0.03353, params: {'criterion': 'entropy', 'max_depth': 1, 'max_features': 'sqrt', 'n_estimators': 100},\n",
       " mean: 0.46475, std: 0.03635, params: {'criterion': 'entropy', 'max_depth': 1, 'max_features': 'sqrt', 'n_estimators': 200},\n",
       " mean: 0.47725, std: 0.02951, params: {'criterion': 'entropy', 'max_depth': 1, 'max_features': 'sqrt', 'n_estimators': 300},\n",
       " mean: 0.48234, std: 0.02871, params: {'criterion': 'entropy', 'max_depth': 1, 'max_features': 'sqrt', 'n_estimators': 500},\n",
       " mean: 0.47930, std: 0.02321, params: {'criterion': 'entropy', 'max_depth': 1, 'max_features': 'sqrt', 'n_estimators': 700},\n",
       " mean: 0.49048, std: 0.03323, params: {'criterion': 'entropy', 'max_depth': 1, 'max_features': 'sqrt', 'n_estimators': 800},\n",
       " mean: 0.49081, std: 0.03273, params: {'criterion': 'entropy', 'max_depth': 1, 'max_features': 'sqrt', 'n_estimators': 1000},\n",
       " mean: 0.51984, std: 0.04640, params: {'criterion': 'entropy', 'max_depth': 1, 'max_features': 'log2', 'n_estimators': 50},\n",
       " mean: 0.51561, std: 0.03453, params: {'criterion': 'entropy', 'max_depth': 1, 'max_features': 'log2', 'n_estimators': 100},\n",
       " mean: 0.53512, std: 0.04222, params: {'criterion': 'entropy', 'max_depth': 1, 'max_features': 'log2', 'n_estimators': 200},\n",
       " mean: 0.53102, std: 0.04161, params: {'criterion': 'entropy', 'max_depth': 1, 'max_features': 'log2', 'n_estimators': 300},\n",
       " mean: 0.53472, std: 0.04387, params: {'criterion': 'entropy', 'max_depth': 1, 'max_features': 'log2', 'n_estimators': 500},\n",
       " mean: 0.53307, std: 0.04199, params: {'criterion': 'entropy', 'max_depth': 1, 'max_features': 'log2', 'n_estimators': 700},\n",
       " mean: 0.53479, std: 0.04327, params: {'criterion': 'entropy', 'max_depth': 1, 'max_features': 'log2', 'n_estimators': 800},\n",
       " mean: 0.53433, std: 0.04426, params: {'criterion': 'entropy', 'max_depth': 1, 'max_features': 'log2', 'n_estimators': 1000},\n",
       " mean: 0.58882, std: 0.05210, params: {'criterion': 'entropy', 'max_depth': 3, 'max_features': 'sqrt', 'n_estimators': 50},\n",
       " mean: 0.59563, std: 0.05037, params: {'criterion': 'entropy', 'max_depth': 3, 'max_features': 'sqrt', 'n_estimators': 100},\n",
       " mean: 0.58704, std: 0.05084, params: {'criterion': 'entropy', 'max_depth': 3, 'max_features': 'sqrt', 'n_estimators': 200},\n",
       " mean: 0.58816, std: 0.04386, params: {'criterion': 'entropy', 'max_depth': 3, 'max_features': 'sqrt', 'n_estimators': 300},\n",
       " mean: 0.59398, std: 0.04245, params: {'criterion': 'entropy', 'max_depth': 3, 'max_features': 'sqrt', 'n_estimators': 500},\n",
       " mean: 0.59418, std: 0.04004, params: {'criterion': 'entropy', 'max_depth': 3, 'max_features': 'sqrt', 'n_estimators': 700},\n",
       " mean: 0.59372, std: 0.04069, params: {'criterion': 'entropy', 'max_depth': 3, 'max_features': 'sqrt', 'n_estimators': 800},\n",
       " mean: 0.59306, std: 0.04019, params: {'criterion': 'entropy', 'max_depth': 3, 'max_features': 'sqrt', 'n_estimators': 1000},\n",
       " mean: 0.58366, std: 0.04333, params: {'criterion': 'entropy', 'max_depth': 3, 'max_features': 'log2', 'n_estimators': 50},\n",
       " mean: 0.58274, std: 0.04121, params: {'criterion': 'entropy', 'max_depth': 3, 'max_features': 'log2', 'n_estimators': 100},\n",
       " mean: 0.59008, std: 0.03760, params: {'criterion': 'entropy', 'max_depth': 3, 'max_features': 'log2', 'n_estimators': 200},\n",
       " mean: 0.58783, std: 0.03670, params: {'criterion': 'entropy', 'max_depth': 3, 'max_features': 'log2', 'n_estimators': 300},\n",
       " mean: 0.58981, std: 0.03644, params: {'criterion': 'entropy', 'max_depth': 3, 'max_features': 'log2', 'n_estimators': 500},\n",
       " mean: 0.59134, std: 0.03765, params: {'criterion': 'entropy', 'max_depth': 3, 'max_features': 'log2', 'n_estimators': 700},\n",
       " mean: 0.59101, std: 0.03620, params: {'criterion': 'entropy', 'max_depth': 3, 'max_features': 'log2', 'n_estimators': 800},\n",
       " mean: 0.59107, std: 0.03694, params: {'criterion': 'entropy', 'max_depth': 3, 'max_features': 'log2', 'n_estimators': 1000},\n",
       " mean: 0.63697, std: 0.04911, params: {'criterion': 'entropy', 'max_depth': 5, 'max_features': 'sqrt', 'n_estimators': 50},\n",
       " mean: 0.65093, std: 0.03993, params: {'criterion': 'entropy', 'max_depth': 5, 'max_features': 'sqrt', 'n_estimators': 100},\n",
       " mean: 0.65000, std: 0.04510, params: {'criterion': 'entropy', 'max_depth': 5, 'max_features': 'sqrt', 'n_estimators': 200},\n",
       " mean: 0.64438, std: 0.05052, params: {'criterion': 'entropy', 'max_depth': 5, 'max_features': 'sqrt', 'n_estimators': 300},\n",
       " mean: 0.64537, std: 0.04800, params: {'criterion': 'entropy', 'max_depth': 5, 'max_features': 'sqrt', 'n_estimators': 500},\n",
       " mean: 0.64636, std: 0.04862, params: {'criterion': 'entropy', 'max_depth': 5, 'max_features': 'sqrt', 'n_estimators': 700},\n",
       " mean: 0.64577, std: 0.05014, params: {'criterion': 'entropy', 'max_depth': 5, 'max_features': 'sqrt', 'n_estimators': 800},\n",
       " mean: 0.64544, std: 0.05148, params: {'criterion': 'entropy', 'max_depth': 5, 'max_features': 'sqrt', 'n_estimators': 1000},\n",
       " mean: 0.63413, std: 0.03794, params: {'criterion': 'entropy', 'max_depth': 5, 'max_features': 'log2', 'n_estimators': 50},\n",
       " mean: 0.63022, std: 0.04010, params: {'criterion': 'entropy', 'max_depth': 5, 'max_features': 'log2', 'n_estimators': 100},\n",
       " mean: 0.63532, std: 0.04022, params: {'criterion': 'entropy', 'max_depth': 5, 'max_features': 'log2', 'n_estimators': 200},\n",
       " mean: 0.63294, std: 0.04075, params: {'criterion': 'entropy', 'max_depth': 5, 'max_features': 'log2', 'n_estimators': 300},\n",
       " mean: 0.63267, std: 0.04587, params: {'criterion': 'entropy', 'max_depth': 5, 'max_features': 'log2', 'n_estimators': 500},\n",
       " mean: 0.63651, std: 0.04890, params: {'criterion': 'entropy', 'max_depth': 5, 'max_features': 'log2', 'n_estimators': 700},\n",
       " mean: 0.63545, std: 0.04831, params: {'criterion': 'entropy', 'max_depth': 5, 'max_features': 'log2', 'n_estimators': 800},\n",
       " mean: 0.63611, std: 0.04853, params: {'criterion': 'entropy', 'max_depth': 5, 'max_features': 'log2', 'n_estimators': 1000}]"
      ]
     },
     "execution_count": 50,
     "metadata": {},
     "output_type": "execute_result"
    }
   ],
   "source": [
    "optimized_base_cv5_RF.grid_scores_"
   ]
  },
  {
   "cell_type": "code",
   "execution_count": 53,
   "metadata": {},
   "outputs": [
    {
     "name": "stdout",
     "output_type": "stream",
     "text": [
      "Total time: 2005 sec\n"
     ]
    }
   ],
   "source": [
    "t1 = datetime.now()\n",
    "hyperparameters = {'max_depth': [1,3,5],\n",
    "    'n_estimators': [50, 100, 200, 300, 500, 700, 800, 1000],\n",
    "    'criterion': ['gini', 'entropy'],\n",
    "    'max_features': ['sqrt', 'log2']\n",
    "}\n",
    "optimized_base_cv10_RF = GridSearchCV(RandomForestClassifier(random_state=0), hyperparameters, cv=10, n_jobs=-1)\n",
    "optimized_base_cv10_RF.fit(X_base, y_train)\n",
    "t2 = datetime.now()\n",
    "print (\"Total time: %i sec\" %(t2-t1).seconds)"
   ]
  },
  {
   "cell_type": "code",
   "execution_count": 73,
   "metadata": {
    "collapsed": true
   },
   "outputs": [],
   "source": [
    "models.append(('optimized_base_cv10_RF',optimized_base_cv10_RF))"
   ]
  },
  {
   "cell_type": "code",
   "execution_count": 55,
   "metadata": {},
   "outputs": [
    {
     "name": "stderr",
     "output_type": "stream",
     "text": [
      "//anaconda/envs/py36/lib/python3.6/site-packages/sklearn/model_selection/_search.py:667: DeprecationWarning: The grid_scores_ attribute was deprecated in version 0.18 in favor of the more elaborate cv_results_ attribute. The grid_scores_ attribute will not be available from 0.20\n",
      "  DeprecationWarning)\n"
     ]
    },
    {
     "data": {
      "text/plain": [
       "[mean: 0.47903, std: 0.04816, params: {'criterion': 'gini', 'max_depth': 1, 'max_features': 'sqrt', 'n_estimators': 50},\n",
       " mean: 0.45615, std: 0.03975, params: {'criterion': 'gini', 'max_depth': 1, 'max_features': 'sqrt', 'n_estimators': 100},\n",
       " mean: 0.45417, std: 0.04226, params: {'criterion': 'gini', 'max_depth': 1, 'max_features': 'sqrt', 'n_estimators': 200},\n",
       " mean: 0.45622, std: 0.04208, params: {'criterion': 'gini', 'max_depth': 1, 'max_features': 'sqrt', 'n_estimators': 300},\n",
       " mean: 0.46541, std: 0.04609, params: {'criterion': 'gini', 'max_depth': 1, 'max_features': 'sqrt', 'n_estimators': 500},\n",
       " mean: 0.46329, std: 0.04603, params: {'criterion': 'gini', 'max_depth': 1, 'max_features': 'sqrt', 'n_estimators': 700},\n",
       " mean: 0.47784, std: 0.05587, params: {'criterion': 'gini', 'max_depth': 1, 'max_features': 'sqrt', 'n_estimators': 800},\n",
       " mean: 0.47745, std: 0.04982, params: {'criterion': 'gini', 'max_depth': 1, 'max_features': 'sqrt', 'n_estimators': 1000},\n",
       " mean: 0.53188, std: 0.06187, params: {'criterion': 'gini', 'max_depth': 1, 'max_features': 'log2', 'n_estimators': 50},\n",
       " mean: 0.51726, std: 0.06186, params: {'criterion': 'gini', 'max_depth': 1, 'max_features': 'log2', 'n_estimators': 100},\n",
       " mean: 0.53062, std: 0.06541, params: {'criterion': 'gini', 'max_depth': 1, 'max_features': 'log2', 'n_estimators': 200},\n",
       " mean: 0.52996, std: 0.06515, params: {'criterion': 'gini', 'max_depth': 1, 'max_features': 'log2', 'n_estimators': 300},\n",
       " mean: 0.52970, std: 0.06608, params: {'criterion': 'gini', 'max_depth': 1, 'max_features': 'log2', 'n_estimators': 500},\n",
       " mean: 0.53069, std: 0.06627, params: {'criterion': 'gini', 'max_depth': 1, 'max_features': 'log2', 'n_estimators': 700},\n",
       " mean: 0.53194, std: 0.06452, params: {'criterion': 'gini', 'max_depth': 1, 'max_features': 'log2', 'n_estimators': 800},\n",
       " mean: 0.53201, std: 0.06528, params: {'criterion': 'gini', 'max_depth': 1, 'max_features': 'log2', 'n_estimators': 1000},\n",
       " mean: 0.59233, std: 0.05892, params: {'criterion': 'gini', 'max_depth': 3, 'max_features': 'sqrt', 'n_estimators': 50},\n",
       " mean: 0.60139, std: 0.06724, params: {'criterion': 'gini', 'max_depth': 3, 'max_features': 'sqrt', 'n_estimators': 100},\n",
       " mean: 0.59464, std: 0.06451, params: {'criterion': 'gini', 'max_depth': 3, 'max_features': 'sqrt', 'n_estimators': 200},\n",
       " mean: 0.59702, std: 0.06524, params: {'criterion': 'gini', 'max_depth': 3, 'max_features': 'sqrt', 'n_estimators': 300},\n",
       " mean: 0.60278, std: 0.06312, params: {'criterion': 'gini', 'max_depth': 3, 'max_features': 'sqrt', 'n_estimators': 500},\n",
       " mean: 0.59795, std: 0.06555, params: {'criterion': 'gini', 'max_depth': 3, 'max_features': 'sqrt', 'n_estimators': 700},\n",
       " mean: 0.59914, std: 0.06482, params: {'criterion': 'gini', 'max_depth': 3, 'max_features': 'sqrt', 'n_estimators': 800},\n",
       " mean: 0.59967, std: 0.06532, params: {'criterion': 'gini', 'max_depth': 3, 'max_features': 'sqrt', 'n_estimators': 1000},\n",
       " mean: 0.59623, std: 0.06047, params: {'criterion': 'gini', 'max_depth': 3, 'max_features': 'log2', 'n_estimators': 50},\n",
       " mean: 0.59385, std: 0.06253, params: {'criterion': 'gini', 'max_depth': 3, 'max_features': 'log2', 'n_estimators': 100},\n",
       " mean: 0.59643, std: 0.06639, params: {'criterion': 'gini', 'max_depth': 3, 'max_features': 'log2', 'n_estimators': 200},\n",
       " mean: 0.59603, std: 0.06401, params: {'criterion': 'gini', 'max_depth': 3, 'max_features': 'log2', 'n_estimators': 300},\n",
       " mean: 0.59563, std: 0.06334, params: {'criterion': 'gini', 'max_depth': 3, 'max_features': 'log2', 'n_estimators': 500},\n",
       " mean: 0.59709, std: 0.06459, params: {'criterion': 'gini', 'max_depth': 3, 'max_features': 'log2', 'n_estimators': 700},\n",
       " mean: 0.59716, std: 0.06622, params: {'criterion': 'gini', 'max_depth': 3, 'max_features': 'log2', 'n_estimators': 800},\n",
       " mean: 0.59775, std: 0.06633, params: {'criterion': 'gini', 'max_depth': 3, 'max_features': 'log2', 'n_estimators': 1000},\n",
       " mean: 0.65403, std: 0.06557, params: {'criterion': 'gini', 'max_depth': 5, 'max_features': 'sqrt', 'n_estimators': 50},\n",
       " mean: 0.66237, std: 0.06896, params: {'criterion': 'gini', 'max_depth': 5, 'max_features': 'sqrt', 'n_estimators': 100},\n",
       " mean: 0.66276, std: 0.06878, params: {'criterion': 'gini', 'max_depth': 5, 'max_features': 'sqrt', 'n_estimators': 200},\n",
       " mean: 0.65761, std: 0.06711, params: {'criterion': 'gini', 'max_depth': 5, 'max_features': 'sqrt', 'n_estimators': 300},\n",
       " mean: 0.65840, std: 0.06663, params: {'criterion': 'gini', 'max_depth': 5, 'max_features': 'sqrt', 'n_estimators': 500},\n",
       " mean: 0.65847, std: 0.06802, params: {'criterion': 'gini', 'max_depth': 5, 'max_features': 'sqrt', 'n_estimators': 700},\n",
       " mean: 0.65893, std: 0.06676, params: {'criterion': 'gini', 'max_depth': 5, 'max_features': 'sqrt', 'n_estimators': 800},\n",
       " mean: 0.65899, std: 0.06743, params: {'criterion': 'gini', 'max_depth': 5, 'max_features': 'sqrt', 'n_estimators': 1000},\n",
       " mean: 0.64815, std: 0.05934, params: {'criterion': 'gini', 'max_depth': 5, 'max_features': 'log2', 'n_estimators': 50},\n",
       " mean: 0.65509, std: 0.06008, params: {'criterion': 'gini', 'max_depth': 5, 'max_features': 'log2', 'n_estimators': 100},\n",
       " mean: 0.65231, std: 0.06232, params: {'criterion': 'gini', 'max_depth': 5, 'max_features': 'log2', 'n_estimators': 200},\n",
       " mean: 0.64947, std: 0.06395, params: {'criterion': 'gini', 'max_depth': 5, 'max_features': 'log2', 'n_estimators': 300},\n",
       " mean: 0.64815, std: 0.06739, params: {'criterion': 'gini', 'max_depth': 5, 'max_features': 'log2', 'n_estimators': 500},\n",
       " mean: 0.64921, std: 0.06644, params: {'criterion': 'gini', 'max_depth': 5, 'max_features': 'log2', 'n_estimators': 700},\n",
       " mean: 0.64775, std: 0.06687, params: {'criterion': 'gini', 'max_depth': 5, 'max_features': 'log2', 'n_estimators': 800},\n",
       " mean: 0.64934, std: 0.06763, params: {'criterion': 'gini', 'max_depth': 5, 'max_features': 'log2', 'n_estimators': 1000},\n",
       " mean: 0.48882, std: 0.03925, params: {'criterion': 'entropy', 'max_depth': 1, 'max_features': 'sqrt', 'n_estimators': 50},\n",
       " mean: 0.46448, std: 0.02444, params: {'criterion': 'entropy', 'max_depth': 1, 'max_features': 'sqrt', 'n_estimators': 100},\n",
       " mean: 0.46296, std: 0.03947, params: {'criterion': 'entropy', 'max_depth': 1, 'max_features': 'sqrt', 'n_estimators': 200},\n",
       " mean: 0.45562, std: 0.04112, params: {'criterion': 'entropy', 'max_depth': 1, 'max_features': 'sqrt', 'n_estimators': 300},\n",
       " mean: 0.46667, std: 0.04530, params: {'criterion': 'entropy', 'max_depth': 1, 'max_features': 'sqrt', 'n_estimators': 500},\n",
       " mean: 0.45813, std: 0.04175, params: {'criterion': 'entropy', 'max_depth': 1, 'max_features': 'sqrt', 'n_estimators': 700},\n",
       " mean: 0.46991, std: 0.04706, params: {'criterion': 'entropy', 'max_depth': 1, 'max_features': 'sqrt', 'n_estimators': 800},\n",
       " mean: 0.47235, std: 0.05055, params: {'criterion': 'entropy', 'max_depth': 1, 'max_features': 'sqrt', 'n_estimators': 1000},\n",
       " mean: 0.53962, std: 0.05166, params: {'criterion': 'entropy', 'max_depth': 1, 'max_features': 'log2', 'n_estimators': 50},\n",
       " mean: 0.52156, std: 0.04801, params: {'criterion': 'entropy', 'max_depth': 1, 'max_features': 'log2', 'n_estimators': 100},\n",
       " mean: 0.53247, std: 0.06303, params: {'criterion': 'entropy', 'max_depth': 1, 'max_features': 'log2', 'n_estimators': 200},\n",
       " mean: 0.52712, std: 0.06521, params: {'criterion': 'entropy', 'max_depth': 1, 'max_features': 'log2', 'n_estimators': 300},\n",
       " mean: 0.53221, std: 0.06558, params: {'criterion': 'entropy', 'max_depth': 1, 'max_features': 'log2', 'n_estimators': 500},\n",
       " mean: 0.53320, std: 0.06532, params: {'criterion': 'entropy', 'max_depth': 1, 'max_features': 'log2', 'n_estimators': 700},\n",
       " mean: 0.53485, std: 0.06433, params: {'criterion': 'entropy', 'max_depth': 1, 'max_features': 'log2', 'n_estimators': 800},\n",
       " mean: 0.53796, std: 0.06752, params: {'criterion': 'entropy', 'max_depth': 1, 'max_features': 'log2', 'n_estimators': 1000},\n",
       " mean: 0.60430, std: 0.06015, params: {'criterion': 'entropy', 'max_depth': 3, 'max_features': 'sqrt', 'n_estimators': 50},\n",
       " mean: 0.60265, std: 0.05904, params: {'criterion': 'entropy', 'max_depth': 3, 'max_features': 'sqrt', 'n_estimators': 100},\n",
       " mean: 0.59735, std: 0.06585, params: {'criterion': 'entropy', 'max_depth': 3, 'max_features': 'sqrt', 'n_estimators': 200},\n",
       " mean: 0.59438, std: 0.06450, params: {'criterion': 'entropy', 'max_depth': 3, 'max_features': 'sqrt', 'n_estimators': 300},\n",
       " mean: 0.60093, std: 0.06044, params: {'criterion': 'entropy', 'max_depth': 3, 'max_features': 'sqrt', 'n_estimators': 500},\n",
       " mean: 0.59544, std: 0.06387, params: {'criterion': 'entropy', 'max_depth': 3, 'max_features': 'sqrt', 'n_estimators': 700},\n",
       " mean: 0.59491, std: 0.06418, params: {'criterion': 'entropy', 'max_depth': 3, 'max_features': 'sqrt', 'n_estimators': 800},\n",
       " mean: 0.59590, std: 0.06421, params: {'criterion': 'entropy', 'max_depth': 3, 'max_features': 'sqrt', 'n_estimators': 1000},\n",
       " mean: 0.59253, std: 0.06356, params: {'criterion': 'entropy', 'max_depth': 3, 'max_features': 'log2', 'n_estimators': 50},\n",
       " mean: 0.59015, std: 0.05743, params: {'criterion': 'entropy', 'max_depth': 3, 'max_features': 'log2', 'n_estimators': 100},\n",
       " mean: 0.58829, std: 0.06204, params: {'criterion': 'entropy', 'max_depth': 3, 'max_features': 'log2', 'n_estimators': 200},\n",
       " mean: 0.58578, std: 0.06288, params: {'criterion': 'entropy', 'max_depth': 3, 'max_features': 'log2', 'n_estimators': 300},\n",
       " mean: 0.59041, std: 0.06406, params: {'criterion': 'entropy', 'max_depth': 3, 'max_features': 'log2', 'n_estimators': 500},\n",
       " mean: 0.59048, std: 0.06360, params: {'criterion': 'entropy', 'max_depth': 3, 'max_features': 'log2', 'n_estimators': 700},\n",
       " mean: 0.59081, std: 0.06289, params: {'criterion': 'entropy', 'max_depth': 3, 'max_features': 'log2', 'n_estimators': 800},\n",
       " mean: 0.59140, std: 0.06283, params: {'criterion': 'entropy', 'max_depth': 3, 'max_features': 'log2', 'n_estimators': 1000},\n",
       " mean: 0.66078, std: 0.07595, params: {'criterion': 'entropy', 'max_depth': 5, 'max_features': 'sqrt', 'n_estimators': 50},\n",
       " mean: 0.66243, std: 0.06553, params: {'criterion': 'entropy', 'max_depth': 5, 'max_features': 'sqrt', 'n_estimators': 100},\n",
       " mean: 0.65840, std: 0.07416, params: {'criterion': 'entropy', 'max_depth': 5, 'max_features': 'sqrt', 'n_estimators': 200},\n",
       " mean: 0.65602, std: 0.07469, params: {'criterion': 'entropy', 'max_depth': 5, 'max_features': 'sqrt', 'n_estimators': 300},\n",
       " mean: 0.65522, std: 0.07530, params: {'criterion': 'entropy', 'max_depth': 5, 'max_features': 'sqrt', 'n_estimators': 500},\n",
       " mean: 0.65575, std: 0.07646, params: {'criterion': 'entropy', 'max_depth': 5, 'max_features': 'sqrt', 'n_estimators': 700},\n",
       " mean: 0.65529, std: 0.07511, params: {'criterion': 'entropy', 'max_depth': 5, 'max_features': 'sqrt', 'n_estimators': 800},\n",
       " mean: 0.65476, std: 0.07459, params: {'criterion': 'entropy', 'max_depth': 5, 'max_features': 'sqrt', 'n_estimators': 1000},\n",
       " mean: 0.64623, std: 0.06213, params: {'criterion': 'entropy', 'max_depth': 5, 'max_features': 'log2', 'n_estimators': 50},\n",
       " mean: 0.63849, std: 0.07185, params: {'criterion': 'entropy', 'max_depth': 5, 'max_features': 'log2', 'n_estimators': 100},\n",
       " mean: 0.64967, std: 0.06796, params: {'criterion': 'entropy', 'max_depth': 5, 'max_features': 'log2', 'n_estimators': 200},\n",
       " mean: 0.64940, std: 0.07044, params: {'criterion': 'entropy', 'max_depth': 5, 'max_features': 'log2', 'n_estimators': 300},\n",
       " mean: 0.64603, std: 0.07131, params: {'criterion': 'entropy', 'max_depth': 5, 'max_features': 'log2', 'n_estimators': 500},\n",
       " mean: 0.64709, std: 0.07233, params: {'criterion': 'entropy', 'max_depth': 5, 'max_features': 'log2', 'n_estimators': 700},\n",
       " mean: 0.64583, std: 0.07247, params: {'criterion': 'entropy', 'max_depth': 5, 'max_features': 'log2', 'n_estimators': 800},\n",
       " mean: 0.64570, std: 0.07123, params: {'criterion': 'entropy', 'max_depth': 5, 'max_features': 'log2', 'n_estimators': 1000}]"
      ]
     },
     "execution_count": 55,
     "metadata": {},
     "output_type": "execute_result"
    }
   ],
   "source": [
    "optimized_base_cv10_RF.grid_scores_"
   ]
  },
  {
   "cell_type": "code",
   "execution_count": 56,
   "metadata": {},
   "outputs": [
    {
     "name": "stdout",
     "output_type": "stream",
     "text": [
      "Total time: 1761 sec\n"
     ]
    }
   ],
   "source": [
    "t1 = datetime.now()\n",
    "hyperparameters = {'max_depth': [1,3,5],\n",
    "    'n_estimators': [50, 100, 200, 300, 500, 700, 800, 1000],\n",
    "    'criterion': ['gini', 'entropy'],\n",
    "    'max_features': ['sqrt', 'log2']\n",
    "}\n",
    "optimized_100_cv5_RF = GridSearchCV(RandomForestClassifier(random_state=0), hyperparameters, cv=5, n_jobs=-1)\n",
    "optimized_100_cv5_RF.fit(X_100, y_train)\n",
    "t2 = datetime.now()\n",
    "print (\"Total time: %i sec\" %(t2-t1).seconds)"
   ]
  },
  {
   "cell_type": "code",
   "execution_count": 74,
   "metadata": {
    "collapsed": true
   },
   "outputs": [],
   "source": [
    "models.append(('optimized_100_cv5_RF',optimized_100_cv5_RF))"
   ]
  },
  {
   "cell_type": "code",
   "execution_count": 58,
   "metadata": {},
   "outputs": [
    {
     "name": "stderr",
     "output_type": "stream",
     "text": [
      "//anaconda/envs/py36/lib/python3.6/site-packages/sklearn/model_selection/_search.py:667: DeprecationWarning: The grid_scores_ attribute was deprecated in version 0.18 in favor of the more elaborate cv_results_ attribute. The grid_scores_ attribute will not be available from 0.20\n",
      "  DeprecationWarning)\n"
     ]
    },
    {
     "data": {
      "text/plain": [
       "[mean: 0.44028, std: 0.01134, params: {'criterion': 'gini', 'max_depth': 1, 'max_features': 'sqrt', 'n_estimators': 50},\n",
       " mean: 0.43836, std: 0.01526, params: {'criterion': 'gini', 'max_depth': 1, 'max_features': 'sqrt', 'n_estimators': 100},\n",
       " mean: 0.44306, std: 0.01158, params: {'criterion': 'gini', 'max_depth': 1, 'max_features': 'sqrt', 'n_estimators': 200},\n",
       " mean: 0.44292, std: 0.01184, params: {'criterion': 'gini', 'max_depth': 1, 'max_features': 'sqrt', 'n_estimators': 300},\n",
       " mean: 0.44597, std: 0.01461, params: {'criterion': 'gini', 'max_depth': 1, 'max_features': 'sqrt', 'n_estimators': 500},\n",
       " mean: 0.44980, std: 0.01564, params: {'criterion': 'gini', 'max_depth': 1, 'max_features': 'sqrt', 'n_estimators': 700},\n",
       " mean: 0.44332, std: 0.01112, params: {'criterion': 'gini', 'max_depth': 1, 'max_features': 'sqrt', 'n_estimators': 800},\n",
       " mean: 0.44306, std: 0.01108, params: {'criterion': 'gini', 'max_depth': 1, 'max_features': 'sqrt', 'n_estimators': 1000},\n",
       " mean: 0.48505, std: 0.02319, params: {'criterion': 'gini', 'max_depth': 1, 'max_features': 'log2', 'n_estimators': 50},\n",
       " mean: 0.48009, std: 0.02796, params: {'criterion': 'gini', 'max_depth': 1, 'max_features': 'log2', 'n_estimators': 100},\n",
       " mean: 0.48267, std: 0.02870, params: {'criterion': 'gini', 'max_depth': 1, 'max_features': 'log2', 'n_estimators': 200},\n",
       " mean: 0.48254, std: 0.03086, params: {'criterion': 'gini', 'max_depth': 1, 'max_features': 'log2', 'n_estimators': 300},\n",
       " mean: 0.47831, std: 0.03100, params: {'criterion': 'gini', 'max_depth': 1, 'max_features': 'log2', 'n_estimators': 500},\n",
       " mean: 0.47851, std: 0.02831, params: {'criterion': 'gini', 'max_depth': 1, 'max_features': 'log2', 'n_estimators': 700},\n",
       " mean: 0.47725, std: 0.02830, params: {'criterion': 'gini', 'max_depth': 1, 'max_features': 'log2', 'n_estimators': 800},\n",
       " mean: 0.47771, std: 0.02978, params: {'criterion': 'gini', 'max_depth': 1, 'max_features': 'log2', 'n_estimators': 1000},\n",
       " mean: 0.59497, std: 0.04877, params: {'criterion': 'gini', 'max_depth': 3, 'max_features': 'sqrt', 'n_estimators': 50},\n",
       " mean: 0.59954, std: 0.04727, params: {'criterion': 'gini', 'max_depth': 3, 'max_features': 'sqrt', 'n_estimators': 100},\n",
       " mean: 0.59934, std: 0.05022, params: {'criterion': 'gini', 'max_depth': 3, 'max_features': 'sqrt', 'n_estimators': 200},\n",
       " mean: 0.59848, std: 0.05010, params: {'criterion': 'gini', 'max_depth': 3, 'max_features': 'sqrt', 'n_estimators': 300},\n",
       " mean: 0.59861, std: 0.04881, params: {'criterion': 'gini', 'max_depth': 3, 'max_features': 'sqrt', 'n_estimators': 500},\n",
       " mean: 0.59716, std: 0.04950, params: {'criterion': 'gini', 'max_depth': 3, 'max_features': 'sqrt', 'n_estimators': 700},\n",
       " mean: 0.59755, std: 0.04973, params: {'criterion': 'gini', 'max_depth': 3, 'max_features': 'sqrt', 'n_estimators': 800},\n",
       " mean: 0.59643, std: 0.05005, params: {'criterion': 'gini', 'max_depth': 3, 'max_features': 'sqrt', 'n_estimators': 1000},\n",
       " mean: 0.59841, std: 0.03881, params: {'criterion': 'gini', 'max_depth': 3, 'max_features': 'log2', 'n_estimators': 50},\n",
       " mean: 0.60112, std: 0.04177, params: {'criterion': 'gini', 'max_depth': 3, 'max_features': 'log2', 'n_estimators': 100},\n",
       " mean: 0.60185, std: 0.04164, params: {'criterion': 'gini', 'max_depth': 3, 'max_features': 'log2', 'n_estimators': 200},\n",
       " mean: 0.60159, std: 0.04142, params: {'criterion': 'gini', 'max_depth': 3, 'max_features': 'log2', 'n_estimators': 300},\n",
       " mean: 0.60212, std: 0.04202, params: {'criterion': 'gini', 'max_depth': 3, 'max_features': 'log2', 'n_estimators': 500},\n",
       " mean: 0.60225, std: 0.04235, params: {'criterion': 'gini', 'max_depth': 3, 'max_features': 'log2', 'n_estimators': 700},\n",
       " mean: 0.60324, std: 0.04344, params: {'criterion': 'gini', 'max_depth': 3, 'max_features': 'log2', 'n_estimators': 800},\n",
       " mean: 0.60357, std: 0.04282, params: {'criterion': 'gini', 'max_depth': 3, 'max_features': 'log2', 'n_estimators': 1000},\n",
       " mean: 0.64907, std: 0.03725, params: {'criterion': 'gini', 'max_depth': 5, 'max_features': 'sqrt', 'n_estimators': 50},\n",
       " mean: 0.65112, std: 0.03872, params: {'criterion': 'gini', 'max_depth': 5, 'max_features': 'sqrt', 'n_estimators': 100},\n",
       " mean: 0.65390, std: 0.03636, params: {'criterion': 'gini', 'max_depth': 5, 'max_features': 'sqrt', 'n_estimators': 200},\n",
       " mean: 0.65179, std: 0.03729, params: {'criterion': 'gini', 'max_depth': 5, 'max_features': 'sqrt', 'n_estimators': 300},\n",
       " mean: 0.65205, std: 0.03951, params: {'criterion': 'gini', 'max_depth': 5, 'max_features': 'sqrt', 'n_estimators': 500},\n",
       " mean: 0.65198, std: 0.03927, params: {'criterion': 'gini', 'max_depth': 5, 'max_features': 'sqrt', 'n_estimators': 700},\n",
       " mean: 0.65218, std: 0.03941, params: {'criterion': 'gini', 'max_depth': 5, 'max_features': 'sqrt', 'n_estimators': 800},\n",
       " mean: 0.65179, std: 0.03977, params: {'criterion': 'gini', 'max_depth': 5, 'max_features': 'sqrt', 'n_estimators': 1000},\n",
       " mean: 0.65146, std: 0.03371, params: {'criterion': 'gini', 'max_depth': 5, 'max_features': 'log2', 'n_estimators': 50},\n",
       " mean: 0.65013, std: 0.04011, params: {'criterion': 'gini', 'max_depth': 5, 'max_features': 'log2', 'n_estimators': 100},\n",
       " mean: 0.64974, std: 0.04298, params: {'criterion': 'gini', 'max_depth': 5, 'max_features': 'log2', 'n_estimators': 200},\n",
       " mean: 0.65079, std: 0.04307, params: {'criterion': 'gini', 'max_depth': 5, 'max_features': 'log2', 'n_estimators': 300},\n",
       " mean: 0.65020, std: 0.04384, params: {'criterion': 'gini', 'max_depth': 5, 'max_features': 'log2', 'n_estimators': 500},\n",
       " mean: 0.64987, std: 0.04429, params: {'criterion': 'gini', 'max_depth': 5, 'max_features': 'log2', 'n_estimators': 700},\n",
       " mean: 0.65053, std: 0.04445, params: {'criterion': 'gini', 'max_depth': 5, 'max_features': 'log2', 'n_estimators': 800},\n",
       " mean: 0.65000, std: 0.04554, params: {'criterion': 'gini', 'max_depth': 5, 'max_features': 'log2', 'n_estimators': 1000},\n",
       " mean: 0.43102, std: 0.01955, params: {'criterion': 'entropy', 'max_depth': 1, 'max_features': 'sqrt', 'n_estimators': 50},\n",
       " mean: 0.41164, std: 0.02400, params: {'criterion': 'entropy', 'max_depth': 1, 'max_features': 'sqrt', 'n_estimators': 100},\n",
       " mean: 0.42308, std: 0.00788, params: {'criterion': 'entropy', 'max_depth': 1, 'max_features': 'sqrt', 'n_estimators': 200},\n",
       " mean: 0.42308, std: 0.00861, params: {'criterion': 'entropy', 'max_depth': 1, 'max_features': 'sqrt', 'n_estimators': 300},\n",
       " mean: 0.43075, std: 0.01748, params: {'criterion': 'entropy', 'max_depth': 1, 'max_features': 'sqrt', 'n_estimators': 500},\n",
       " mean: 0.44147, std: 0.01863, params: {'criterion': 'entropy', 'max_depth': 1, 'max_features': 'sqrt', 'n_estimators': 700},\n",
       " mean: 0.43948, std: 0.01748, params: {'criterion': 'entropy', 'max_depth': 1, 'max_features': 'sqrt', 'n_estimators': 800},\n",
       " mean: 0.44385, std: 0.01960, params: {'criterion': 'entropy', 'max_depth': 1, 'max_features': 'sqrt', 'n_estimators': 1000},\n",
       " mean: 0.48188, std: 0.02232, params: {'criterion': 'entropy', 'max_depth': 1, 'max_features': 'log2', 'n_estimators': 50},\n",
       " mean: 0.45853, std: 0.01440, params: {'criterion': 'entropy', 'max_depth': 1, 'max_features': 'log2', 'n_estimators': 100},\n",
       " mean: 0.45774, std: 0.01874, params: {'criterion': 'entropy', 'max_depth': 1, 'max_features': 'log2', 'n_estimators': 200},\n",
       " mean: 0.45489, std: 0.01286, params: {'criterion': 'entropy', 'max_depth': 1, 'max_features': 'log2', 'n_estimators': 300},\n",
       " mean: 0.45112, std: 0.01458, params: {'criterion': 'entropy', 'max_depth': 1, 'max_features': 'log2', 'n_estimators': 500},\n",
       " mean: 0.45542, std: 0.01572, params: {'criterion': 'entropy', 'max_depth': 1, 'max_features': 'log2', 'n_estimators': 700},\n",
       " mean: 0.45496, std: 0.01588, params: {'criterion': 'entropy', 'max_depth': 1, 'max_features': 'log2', 'n_estimators': 800},\n",
       " mean: 0.45443, std: 0.01493, params: {'criterion': 'entropy', 'max_depth': 1, 'max_features': 'log2', 'n_estimators': 1000},\n",
       " mean: 0.59544, std: 0.04661, params: {'criterion': 'entropy', 'max_depth': 3, 'max_features': 'sqrt', 'n_estimators': 50},\n",
       " mean: 0.59881, std: 0.04584, params: {'criterion': 'entropy', 'max_depth': 3, 'max_features': 'sqrt', 'n_estimators': 100},\n",
       " mean: 0.60086, std: 0.05184, params: {'criterion': 'entropy', 'max_depth': 3, 'max_features': 'sqrt', 'n_estimators': 200},\n",
       " mean: 0.60231, std: 0.05167, params: {'criterion': 'entropy', 'max_depth': 3, 'max_features': 'sqrt', 'n_estimators': 300},\n",
       " mean: 0.60298, std: 0.05223, params: {'criterion': 'entropy', 'max_depth': 3, 'max_features': 'sqrt', 'n_estimators': 500},\n",
       " mean: 0.59874, std: 0.05036, params: {'criterion': 'entropy', 'max_depth': 3, 'max_features': 'sqrt', 'n_estimators': 700},\n",
       " mean: 0.59901, std: 0.04960, params: {'criterion': 'entropy', 'max_depth': 3, 'max_features': 'sqrt', 'n_estimators': 800},\n",
       " mean: 0.60060, std: 0.05193, params: {'criterion': 'entropy', 'max_depth': 3, 'max_features': 'sqrt', 'n_estimators': 1000},\n",
       " mean: 0.59881, std: 0.03886, params: {'criterion': 'entropy', 'max_depth': 3, 'max_features': 'log2', 'n_estimators': 50},\n",
       " mean: 0.59570, std: 0.04389, params: {'criterion': 'entropy', 'max_depth': 3, 'max_features': 'log2', 'n_estimators': 100},\n",
       " mean: 0.59828, std: 0.04286, params: {'criterion': 'entropy', 'max_depth': 3, 'max_features': 'log2', 'n_estimators': 200},\n",
       " mean: 0.59729, std: 0.03990, params: {'criterion': 'entropy', 'max_depth': 3, 'max_features': 'log2', 'n_estimators': 300},\n",
       " mean: 0.59921, std: 0.04089, params: {'criterion': 'entropy', 'max_depth': 3, 'max_features': 'log2', 'n_estimators': 500},\n",
       " mean: 0.60060, std: 0.04175, params: {'criterion': 'entropy', 'max_depth': 3, 'max_features': 'log2', 'n_estimators': 700},\n",
       " mean: 0.60079, std: 0.04095, params: {'criterion': 'entropy', 'max_depth': 3, 'max_features': 'log2', 'n_estimators': 800},\n",
       " mean: 0.60225, std: 0.04035, params: {'criterion': 'entropy', 'max_depth': 3, 'max_features': 'log2', 'n_estimators': 1000},\n",
       " mean: 0.66098, std: 0.03986, params: {'criterion': 'entropy', 'max_depth': 5, 'max_features': 'sqrt', 'n_estimators': 50},\n",
       " mean: 0.66091, std: 0.04425, params: {'criterion': 'entropy', 'max_depth': 5, 'max_features': 'sqrt', 'n_estimators': 100},\n",
       " mean: 0.65708, std: 0.04203, params: {'criterion': 'entropy', 'max_depth': 5, 'max_features': 'sqrt', 'n_estimators': 200},\n",
       " mean: 0.65999, std: 0.04167, params: {'criterion': 'entropy', 'max_depth': 5, 'max_features': 'sqrt', 'n_estimators': 300},\n",
       " mean: 0.66224, std: 0.04102, params: {'criterion': 'entropy', 'max_depth': 5, 'max_features': 'sqrt', 'n_estimators': 500},\n",
       " mean: 0.66356, std: 0.04080, params: {'criterion': 'entropy', 'max_depth': 5, 'max_features': 'sqrt', 'n_estimators': 700},\n",
       " mean: 0.66349, std: 0.04132, params: {'criterion': 'entropy', 'max_depth': 5, 'max_features': 'sqrt', 'n_estimators': 800},\n",
       " mean: 0.66541, std: 0.03918, params: {'criterion': 'entropy', 'max_depth': 5, 'max_features': 'sqrt', 'n_estimators': 1000},\n",
       " mean: 0.65139, std: 0.03548, params: {'criterion': 'entropy', 'max_depth': 5, 'max_features': 'log2', 'n_estimators': 50},\n",
       " mean: 0.65146, std: 0.03734, params: {'criterion': 'entropy', 'max_depth': 5, 'max_features': 'log2', 'n_estimators': 100},\n",
       " mean: 0.65456, std: 0.03733, params: {'criterion': 'entropy', 'max_depth': 5, 'max_features': 'log2', 'n_estimators': 200},\n",
       " mean: 0.65397, std: 0.04076, params: {'criterion': 'entropy', 'max_depth': 5, 'max_features': 'log2', 'n_estimators': 300},\n",
       " mean: 0.65734, std: 0.04307, params: {'criterion': 'entropy', 'max_depth': 5, 'max_features': 'log2', 'n_estimators': 500},\n",
       " mean: 0.65694, std: 0.04352, params: {'criterion': 'entropy', 'max_depth': 5, 'max_features': 'log2', 'n_estimators': 700},\n",
       " mean: 0.65622, std: 0.04375, params: {'criterion': 'entropy', 'max_depth': 5, 'max_features': 'log2', 'n_estimators': 800},\n",
       " mean: 0.65642, std: 0.04365, params: {'criterion': 'entropy', 'max_depth': 5, 'max_features': 'log2', 'n_estimators': 1000}]"
      ]
     },
     "execution_count": 58,
     "metadata": {},
     "output_type": "execute_result"
    }
   ],
   "source": [
    "optimized_100_cv5_RF.grid_scores_"
   ]
  },
  {
   "cell_type": "code",
   "execution_count": 10,
   "metadata": {},
   "outputs": [
    {
     "name": "stdout",
     "output_type": "stream",
     "text": [
      "Total time: 3541 sec\n"
     ]
    }
   ],
   "source": [
    "t1 = datetime.now()\n",
    "hyperparameters = {'max_depth': [1,3,5],\n",
    "    'n_estimators': [50, 100, 200, 300, 500, 700, 800, 1000],\n",
    "    'criterion': ['gini', 'entropy'],\n",
    "    'max_features': ['sqrt', 'log2']\n",
    "}\n",
    "optimized_100_cv10_RF = GridSearchCV(RandomForestClassifier(random_state=0), hyperparameters, cv=10, n_jobs=-1)\n",
    "optimized_100_cv10_RF.fit(X_100, y_train)\n",
    "t2 = datetime.now()\n",
    "print (\"Total time: %i sec\" %(t2-t1).seconds)"
   ]
  },
  {
   "cell_type": "code",
   "execution_count": 11,
   "metadata": {
    "collapsed": true
   },
   "outputs": [],
   "source": [
    "models.append(('optimized_100_cv10_RF',optimized_100_cv10_RF))"
   ]
  },
  {
   "cell_type": "code",
   "execution_count": null,
   "metadata": {},
   "outputs": [
    {
     "name": "stderr",
     "output_type": "stream",
     "text": [
      "//anaconda/envs/py36/lib/python3.6/site-packages/sklearn/model_selection/_search.py:667: DeprecationWarning: The grid_scores_ attribute was deprecated in version 0.18 in favor of the more elaborate cv_results_ attribute. The grid_scores_ attribute will not be available from 0.20\n",
      "  DeprecationWarning)\n"
     ]
    },
    {
     "data": {
      "text/plain": [
       "[mean: 0.42778, std: 0.01130, params: {'criterion': 'gini', 'max_depth': 1, 'max_features': 'sqrt', 'n_estimators': 50},\n",
       " mean: 0.42976, std: 0.01405, params: {'criterion': 'gini', 'max_depth': 1, 'max_features': 'sqrt', 'n_estimators': 100},\n",
       " mean: 0.43419, std: 0.01498, params: {'criterion': 'gini', 'max_depth': 1, 'max_features': 'sqrt', 'n_estimators': 200},\n",
       " mean: 0.43439, std: 0.01484, params: {'criterion': 'gini', 'max_depth': 1, 'max_features': 'sqrt', 'n_estimators': 300},\n",
       " mean: 0.43611, std: 0.01576, params: {'criterion': 'gini', 'max_depth': 1, 'max_features': 'sqrt', 'n_estimators': 500},\n",
       " mean: 0.43591, std: 0.01511, params: {'criterion': 'gini', 'max_depth': 1, 'max_features': 'sqrt', 'n_estimators': 700},\n",
       " mean: 0.43552, std: 0.01488, params: {'criterion': 'gini', 'max_depth': 1, 'max_features': 'sqrt', 'n_estimators': 800},\n",
       " mean: 0.43565, std: 0.01494, params: {'criterion': 'gini', 'max_depth': 1, 'max_features': 'sqrt', 'n_estimators': 1000},\n",
       " mean: 0.46356, std: 0.04175, params: {'criterion': 'gini', 'max_depth': 1, 'max_features': 'log2', 'n_estimators': 50},\n",
       " mean: 0.46488, std: 0.01964, params: {'criterion': 'gini', 'max_depth': 1, 'max_features': 'log2', 'n_estimators': 100},\n",
       " mean: 0.46316, std: 0.02085, params: {'criterion': 'gini', 'max_depth': 1, 'max_features': 'log2', 'n_estimators': 200},\n",
       " mean: 0.46495, std: 0.02062, params: {'criterion': 'gini', 'max_depth': 1, 'max_features': 'log2', 'n_estimators': 300},\n",
       " mean: 0.46687, std: 0.02644, params: {'criterion': 'gini', 'max_depth': 1, 'max_features': 'log2', 'n_estimators': 500},\n",
       " mean: 0.46865, std: 0.02609, params: {'criterion': 'gini', 'max_depth': 1, 'max_features': 'log2', 'n_estimators': 700},\n",
       " mean: 0.46250, std: 0.02477, params: {'criterion': 'gini', 'max_depth': 1, 'max_features': 'log2', 'n_estimators': 800},\n",
       " mean: 0.46627, std: 0.02546, params: {'criterion': 'gini', 'max_depth': 1, 'max_features': 'log2', 'n_estimators': 1000},\n",
       " mean: 0.60079, std: 0.05845, params: {'criterion': 'gini', 'max_depth': 3, 'max_features': 'sqrt', 'n_estimators': 50},\n",
       " mean: 0.60437, std: 0.05590, params: {'criterion': 'gini', 'max_depth': 3, 'max_features': 'sqrt', 'n_estimators': 100},\n",
       " mean: 0.60337, std: 0.05543, params: {'criterion': 'gini', 'max_depth': 3, 'max_features': 'sqrt', 'n_estimators': 200},\n",
       " mean: 0.60344, std: 0.05538, params: {'criterion': 'gini', 'max_depth': 3, 'max_features': 'sqrt', 'n_estimators': 300},\n",
       " mean: 0.60265, std: 0.05422, params: {'criterion': 'gini', 'max_depth': 3, 'max_features': 'sqrt', 'n_estimators': 500},\n",
       " mean: 0.60284, std: 0.05456, params: {'criterion': 'gini', 'max_depth': 3, 'max_features': 'sqrt', 'n_estimators': 700},\n",
       " mean: 0.60225, std: 0.05448, params: {'criterion': 'gini', 'max_depth': 3, 'max_features': 'sqrt', 'n_estimators': 800},\n",
       " mean: 0.60139, std: 0.05534, params: {'criterion': 'gini', 'max_depth': 3, 'max_features': 'sqrt', 'n_estimators': 1000},\n",
       " mean: 0.60205, std: 0.06237, params: {'criterion': 'gini', 'max_depth': 3, 'max_features': 'log2', 'n_estimators': 50},\n",
       " mean: 0.60086, std: 0.05490, params: {'criterion': 'gini', 'max_depth': 3, 'max_features': 'log2', 'n_estimators': 100},\n",
       " mean: 0.60364, std: 0.05656, params: {'criterion': 'gini', 'max_depth': 3, 'max_features': 'log2', 'n_estimators': 200},\n",
       " mean: 0.60179, std: 0.05750, params: {'criterion': 'gini', 'max_depth': 3, 'max_features': 'log2', 'n_estimators': 300},\n",
       " mean: 0.60231, std: 0.05670, params: {'criterion': 'gini', 'max_depth': 3, 'max_features': 'log2', 'n_estimators': 500},\n",
       " mean: 0.60265, std: 0.05600, params: {'criterion': 'gini', 'max_depth': 3, 'max_features': 'log2', 'n_estimators': 700},\n",
       " mean: 0.60172, std: 0.05576, params: {'criterion': 'gini', 'max_depth': 3, 'max_features': 'log2', 'n_estimators': 800},\n",
       " mean: 0.60284, std: 0.05574, params: {'criterion': 'gini', 'max_depth': 3, 'max_features': 'log2', 'n_estimators': 1000},\n",
       " mean: 0.65622, std: 0.06322, params: {'criterion': 'gini', 'max_depth': 5, 'max_features': 'sqrt', 'n_estimators': 50},\n",
       " mean: 0.65866, std: 0.05954, params: {'criterion': 'gini', 'max_depth': 5, 'max_features': 'sqrt', 'n_estimators': 100},\n",
       " mean: 0.65860, std: 0.05763, params: {'criterion': 'gini', 'max_depth': 5, 'max_features': 'sqrt', 'n_estimators': 200},\n",
       " mean: 0.65655, std: 0.05717, params: {'criterion': 'gini', 'max_depth': 5, 'max_features': 'sqrt', 'n_estimators': 300},\n",
       " mean: 0.65628, std: 0.05768, params: {'criterion': 'gini', 'max_depth': 5, 'max_features': 'sqrt', 'n_estimators': 500},\n",
       " mean: 0.65622, std: 0.05831, params: {'criterion': 'gini', 'max_depth': 5, 'max_features': 'sqrt', 'n_estimators': 700},\n",
       " mean: 0.65655, std: 0.05788, params: {'criterion': 'gini', 'max_depth': 5, 'max_features': 'sqrt', 'n_estimators': 800},\n",
       " mean: 0.65708, std: 0.05816, params: {'criterion': 'gini', 'max_depth': 5, 'max_features': 'sqrt', 'n_estimators': 1000},\n",
       " mean: 0.65476, std: 0.05611, params: {'criterion': 'gini', 'max_depth': 5, 'max_features': 'log2', 'n_estimators': 50},\n",
       " mean: 0.65450, std: 0.05807, params: {'criterion': 'gini', 'max_depth': 5, 'max_features': 'log2', 'n_estimators': 100},\n",
       " mean: 0.65357, std: 0.05711, params: {'criterion': 'gini', 'max_depth': 5, 'max_features': 'log2', 'n_estimators': 200},\n",
       " mean: 0.65185, std: 0.05886, params: {'criterion': 'gini', 'max_depth': 5, 'max_features': 'log2', 'n_estimators': 300},\n",
       " mean: 0.65284, std: 0.06000, params: {'criterion': 'gini', 'max_depth': 5, 'max_features': 'log2', 'n_estimators': 500},\n",
       " mean: 0.65423, std: 0.06048, params: {'criterion': 'gini', 'max_depth': 5, 'max_features': 'log2', 'n_estimators': 700},\n",
       " mean: 0.65403, std: 0.06028, params: {'criterion': 'gini', 'max_depth': 5, 'max_features': 'log2', 'n_estimators': 800},\n",
       " mean: 0.65344, std: 0.06072, params: {'criterion': 'gini', 'max_depth': 5, 'max_features': 'log2', 'n_estimators': 1000},\n",
       " mean: 0.42467, std: 0.01292, params: {'criterion': 'entropy', 'max_depth': 1, 'max_features': 'sqrt', 'n_estimators': 50},\n",
       " mean: 0.42500, std: 0.01526, params: {'criterion': 'entropy', 'max_depth': 1, 'max_features': 'sqrt', 'n_estimators': 100},\n",
       " mean: 0.42255, std: 0.01292, params: {'criterion': 'entropy', 'max_depth': 1, 'max_features': 'sqrt', 'n_estimators': 200},\n",
       " mean: 0.42374, std: 0.01259, params: {'criterion': 'entropy', 'max_depth': 1, 'max_features': 'sqrt', 'n_estimators': 300},\n",
       " mean: 0.42394, std: 0.01400, params: {'criterion': 'entropy', 'max_depth': 1, 'max_features': 'sqrt', 'n_estimators': 500},\n",
       " mean: 0.42692, std: 0.01553, params: {'criterion': 'entropy', 'max_depth': 1, 'max_features': 'sqrt', 'n_estimators': 700},\n",
       " mean: 0.42606, std: 0.01568, params: {'criterion': 'entropy', 'max_depth': 1, 'max_features': 'sqrt', 'n_estimators': 800},\n",
       " mean: 0.43413, std: 0.01940, params: {'criterion': 'entropy', 'max_depth': 1, 'max_features': 'sqrt', 'n_estimators': 1000},\n",
       " mean: 0.47546, std: 0.03952, params: {'criterion': 'entropy', 'max_depth': 1, 'max_features': 'log2', 'n_estimators': 50},\n",
       " mean: 0.47507, std: 0.03282, params: {'criterion': 'entropy', 'max_depth': 1, 'max_features': 'log2', 'n_estimators': 100},\n",
       " mean: 0.44914, std: 0.02266, params: {'criterion': 'entropy', 'max_depth': 1, 'max_features': 'log2', 'n_estimators': 200},\n",
       " mean: 0.44511, std: 0.01874, params: {'criterion': 'entropy', 'max_depth': 1, 'max_features': 'log2', 'n_estimators': 300},\n",
       " mean: 0.44974, std: 0.02119, params: {'criterion': 'entropy', 'max_depth': 1, 'max_features': 'log2', 'n_estimators': 500},\n",
       " mean: 0.45813, std: 0.01735, params: {'criterion': 'entropy', 'max_depth': 1, 'max_features': 'log2', 'n_estimators': 700},\n",
       " mean: 0.45933, std: 0.01477, params: {'criterion': 'entropy', 'max_depth': 1, 'max_features': 'log2', 'n_estimators': 800},\n",
       " mean: 0.45384, std: 0.01845, params: {'criterion': 'entropy', 'max_depth': 1, 'max_features': 'log2', 'n_estimators': 1000},\n",
       " mean: 0.59755, std: 0.05700, params: {'criterion': 'entropy', 'max_depth': 3, 'max_features': 'sqrt', 'n_estimators': 50},\n",
       " mean: 0.60284, std: 0.05676, params: {'criterion': 'entropy', 'max_depth': 3, 'max_features': 'sqrt', 'n_estimators': 100},\n",
       " mean: 0.60119, std: 0.05761, params: {'criterion': 'entropy', 'max_depth': 3, 'max_features': 'sqrt', 'n_estimators': 200},\n",
       " mean: 0.60509, std: 0.05528, params: {'criterion': 'entropy', 'max_depth': 3, 'max_features': 'sqrt', 'n_estimators': 300},\n",
       " mean: 0.60615, std: 0.05195, params: {'criterion': 'entropy', 'max_depth': 3, 'max_features': 'sqrt', 'n_estimators': 500},\n",
       " mean: 0.60483, std: 0.05152, params: {'criterion': 'entropy', 'max_depth': 3, 'max_features': 'sqrt', 'n_estimators': 700},\n",
       " mean: 0.60331, std: 0.05143, params: {'criterion': 'entropy', 'max_depth': 3, 'max_features': 'sqrt', 'n_estimators': 800},\n",
       " mean: 0.60423, std: 0.05236, params: {'criterion': 'entropy', 'max_depth': 3, 'max_features': 'sqrt', 'n_estimators': 1000},\n",
       " mean: 0.60880, std: 0.04927, params: {'criterion': 'entropy', 'max_depth': 3, 'max_features': 'log2', 'n_estimators': 50},\n",
       " mean: 0.59795, std: 0.05333, params: {'criterion': 'entropy', 'max_depth': 3, 'max_features': 'log2', 'n_estimators': 100},\n",
       " mean: 0.59947, std: 0.05425, params: {'criterion': 'entropy', 'max_depth': 3, 'max_features': 'log2', 'n_estimators': 200},\n",
       " mean: 0.60013, std: 0.05399, params: {'criterion': 'entropy', 'max_depth': 3, 'max_features': 'log2', 'n_estimators': 300},\n",
       " mean: 0.60126, std: 0.05245, params: {'criterion': 'entropy', 'max_depth': 3, 'max_features': 'log2', 'n_estimators': 500},\n",
       " mean: 0.60291, std: 0.05237, params: {'criterion': 'entropy', 'max_depth': 3, 'max_features': 'log2', 'n_estimators': 700},\n",
       " mean: 0.60370, std: 0.05160, params: {'criterion': 'entropy', 'max_depth': 3, 'max_features': 'log2', 'n_estimators': 800},\n",
       " mean: 0.60304, std: 0.05143, params: {'criterion': 'entropy', 'max_depth': 3, 'max_features': 'log2', 'n_estimators': 1000},\n",
       " mean: 0.66614, std: 0.06519, params: {'criterion': 'entropy', 'max_depth': 5, 'max_features': 'sqrt', 'n_estimators': 50},\n",
       " mean: 0.66475, std: 0.06548, params: {'criterion': 'entropy', 'max_depth': 5, 'max_features': 'sqrt', 'n_estimators': 100},\n",
       " mean: 0.66409, std: 0.06089, params: {'criterion': 'entropy', 'max_depth': 5, 'max_features': 'sqrt', 'n_estimators': 200},\n",
       " mean: 0.66475, std: 0.06128, params: {'criterion': 'entropy', 'max_depth': 5, 'max_features': 'sqrt', 'n_estimators': 300},\n",
       " mean: 0.66925, std: 0.06024, params: {'criterion': 'entropy', 'max_depth': 5, 'max_features': 'sqrt', 'n_estimators': 500},\n",
       " mean: 0.67011, std: 0.06187, params: {'criterion': 'entropy', 'max_depth': 5, 'max_features': 'sqrt', 'n_estimators': 700},\n",
       " mean: 0.67077, std: 0.06017, params: {'criterion': 'entropy', 'max_depth': 5, 'max_features': 'sqrt', 'n_estimators': 800},\n",
       " mean: 0.67136, std: 0.05865, params: {'criterion': 'entropy', 'max_depth': 5, 'max_features': 'sqrt', 'n_estimators': 1000},\n",
       " mean: 0.65483, std: 0.06023, params: {'criterion': 'entropy', 'max_depth': 5, 'max_features': 'log2', 'n_estimators': 50},\n",
       " mean: 0.65575, std: 0.05776, params: {'criterion': 'entropy', 'max_depth': 5, 'max_features': 'log2', 'n_estimators': 100},\n",
       " mean: 0.65608, std: 0.05889, params: {'criterion': 'entropy', 'max_depth': 5, 'max_features': 'log2', 'n_estimators': 200},\n",
       " mean: 0.65827, std: 0.05777, params: {'criterion': 'entropy', 'max_depth': 5, 'max_features': 'log2', 'n_estimators': 300},\n",
       " mean: 0.66224, std: 0.05838, params: {'criterion': 'entropy', 'max_depth': 5, 'max_features': 'log2', 'n_estimators': 500},\n",
       " mean: 0.66144, std: 0.05775, params: {'criterion': 'entropy', 'max_depth': 5, 'max_features': 'log2', 'n_estimators': 700},\n",
       " mean: 0.66290, std: 0.05854, params: {'criterion': 'entropy', 'max_depth': 5, 'max_features': 'log2', 'n_estimators': 800},\n",
       " mean: 0.66276, std: 0.05741, params: {'criterion': 'entropy', 'max_depth': 5, 'max_features': 'log2', 'n_estimators': 1000}]"
      ]
     },
     "execution_count": 12,
     "metadata": {},
     "output_type": "execute_result"
    }
   ],
   "source": [
    "optimized_100_cv10_RF.grid_scores_"
   ]
  },
  {
   "cell_type": "markdown",
   "metadata": {},
   "source": [
    "## Extra Trees Classifier\n",
    "##### NOTE: These models were run, but I accidentally cleared the output, so you cannot see them here. You can see the results in the Testing Trees notebook."
   ]
  },
  {
   "cell_type": "code",
   "execution_count": null,
   "metadata": {
    "collapsed": true
   },
   "outputs": [],
   "source": [
    "t1 = datetime.now()\n",
    "hyperparameters = {'min_samples_split': [2,3,5],\n",
    "    'n_estimators': [50, 100, 200, 300, 500, 700],\n",
    "    'max_features': ['sqrt', 'log2']\n",
    "}\n",
    "optimized_kaggle_cv10_ET = GridSearchCV(ExtraTreesClassifier(random_state=0), hyperparameters, cv=10, n_jobs=-1)\n",
    "optimized_kaggle_cv10_ET.fit(X_kaggle, y_train)\n",
    "t2 = datetime.now()\n",
    "print (\"Total time: %i sec\" %(t2-t1).seconds)"
   ]
  },
  {
   "cell_type": "code",
   "execution_count": null,
   "metadata": {
    "collapsed": true
   },
   "outputs": [],
   "source": [
    "models.append(('optimized_kaggle_cv10_ET',optimized_kaggle_cv10_ET))"
   ]
  },
  {
   "cell_type": "code",
   "execution_count": null,
   "metadata": {
    "collapsed": true
   },
   "outputs": [],
   "source": [
    "optimized_kaggle_cv10_ET.grid_scores_"
   ]
  },
  {
   "cell_type": "code",
   "execution_count": null,
   "metadata": {
    "collapsed": true
   },
   "outputs": [],
   "source": [
    "t1 = datetime.now()\n",
    "hyperparameters = {'min_samples_split': [2,3,5],\n",
    "    'n_estimators': [50, 100, 200, 300, 500, 700],\n",
    "    'max_features': ['sqrt', 'log2']\n",
    "}\n",
    "optimized_base_cv10_ET = GridSearchCV(ExtraTreesClassifier(random_state=0), hyperparameters, cv=10, n_jobs=-1)\n",
    "optimized_base_cv10_ET.fit(X_base, y_train)\n",
    "t2 = datetime.now()\n",
    "print (\"Total time: %i sec\" %(t2-t1).seconds)"
   ]
  },
  {
   "cell_type": "code",
   "execution_count": null,
   "metadata": {
    "collapsed": true
   },
   "outputs": [],
   "source": [
    "models.append(('optimized_base_cv10_ET',optimized_base_cv10_ET))"
   ]
  },
  {
   "cell_type": "code",
   "execution_count": null,
   "metadata": {
    "collapsed": true
   },
   "outputs": [],
   "source": [
    "optimized_base_cv10_ET.grid_scores_"
   ]
  },
  {
   "cell_type": "code",
   "execution_count": null,
   "metadata": {
    "collapsed": true
   },
   "outputs": [],
   "source": [
    "t1 = datetime.now()\n",
    "hyperparameters = {'min_samples_split': [2,3,5],\n",
    "    'n_estimators': [50, 100, 200, 300, 500, 700],\n",
    "    'max_features': ['sqrt', 'log2']\n",
    "}\n",
    "optimized_100_cv10_ET = GridSearchCV(ExtraTreesClassifier(random_state=0), hyperparameters, cv=10, n_jobs=-1)\n",
    "optimized_100_cv10_ET.fit(X_100, y_train)\n",
    "t2 = datetime.now()\n",
    "print (\"Total time: %i sec\" %(t2-t1).seconds)"
   ]
  },
  {
   "cell_type": "code",
   "execution_count": null,
   "metadata": {
    "collapsed": true
   },
   "outputs": [],
   "source": [
    "models.append(('optimized_100_cv10_ET',optimized_100_cv10_ET))"
   ]
  },
  {
   "cell_type": "code",
   "execution_count": null,
   "metadata": {
    "collapsed": true
   },
   "outputs": [],
   "source": [
    "optimized_100_cv10_ET.grid_scores_"
   ]
  },
  {
   "cell_type": "code",
   "execution_count": null,
   "metadata": {
    "collapsed": true
   },
   "outputs": [],
   "source": []
  },
  {
   "cell_type": "markdown",
   "metadata": {},
   "source": [
    "## Save model fits to pickle so I can stop using all of my computer's memory and do some work later"
   ]
  },
  {
   "cell_type": "code",
   "execution_count": null,
   "metadata": {
    "collapsed": true
   },
   "outputs": [],
   "source": [
    "for i in range(len(models)):\n",
    "    name = str('pickles/' + models[i][0] + '.p')\n",
    "    with open(name, 'wb') as f:\n",
    "        pickle.dump(models[i][1], f)\n",
    "    f.close()\n",
    "    "
   ]
  },
  {
   "cell_type": "code",
   "execution_count": null,
   "metadata": {
    "collapsed": true
   },
   "outputs": [],
   "source": []
  }
 ],
 "metadata": {
  "anaconda-cloud": {},
  "kernelspec": {
   "display_name": "Python [py36]",
   "language": "python",
   "name": "Python [py36]"
  },
  "language_info": {
   "codemirror_mode": {
    "name": "ipython",
    "version": 3
   },
   "file_extension": ".py",
   "mimetype": "text/x-python",
   "name": "python",
   "nbconvert_exporter": "python",
   "pygments_lexer": "ipython3",
   "version": "3.6.0"
  }
 },
 "nbformat": 4,
 "nbformat_minor": 2
}
